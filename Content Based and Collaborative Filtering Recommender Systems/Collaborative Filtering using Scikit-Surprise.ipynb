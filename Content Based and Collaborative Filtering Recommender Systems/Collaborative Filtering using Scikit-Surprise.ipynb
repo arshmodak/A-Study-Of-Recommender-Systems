{
  "nbformat": 4,
  "nbformat_minor": 0,
  "metadata": {
    "colab": {
      "name": "DS5230:CollaborativeFiltering_Final.ipynb",
      "provenance": [],
      "collapsed_sections": [],
      "toc_visible": true,
      "machine_shape": "hm"
    },
    "kernelspec": {
      "name": "python3",
      "display_name": "Python 3"
    }
  },
  "cells": [
    {
      "cell_type": "code",
      "metadata": {
        "colab": {
          "base_uri": "https://localhost:8080/"
        },
        "id": "fH_76Mus-nP5",
        "outputId": "9c446052-5453-481e-99f7-c28f50c4ad40"
      },
      "source": [
        "!pip install surprise"
      ],
      "execution_count": 3,
      "outputs": [
        {
          "output_type": "stream",
          "text": [
            "Collecting surprise\n",
            "  Downloading https://files.pythonhosted.org/packages/61/de/e5cba8682201fcf9c3719a6fdda95693468ed061945493dea2dd37c5618b/surprise-0.1-py2.py3-none-any.whl\n",
            "Collecting scikit-surprise\n",
            "\u001b[?25l  Downloading https://files.pythonhosted.org/packages/97/37/5d334adaf5ddd65da99fc65f6507e0e4599d092ba048f4302fe8775619e8/scikit-surprise-1.1.1.tar.gz (11.8MB)\n",
            "\u001b[K     |████████████████████████████████| 11.8MB 9.0MB/s \n",
            "\u001b[?25hRequirement already satisfied: joblib>=0.11 in /usr/local/lib/python3.6/dist-packages (from scikit-surprise->surprise) (0.17.0)\n",
            "Requirement already satisfied: numpy>=1.11.2 in /usr/local/lib/python3.6/dist-packages (from scikit-surprise->surprise) (1.18.5)\n",
            "Requirement already satisfied: scipy>=1.0.0 in /usr/local/lib/python3.6/dist-packages (from scikit-surprise->surprise) (1.4.1)\n",
            "Requirement already satisfied: six>=1.10.0 in /usr/local/lib/python3.6/dist-packages (from scikit-surprise->surprise) (1.15.0)\n",
            "Building wheels for collected packages: scikit-surprise\n",
            "  Building wheel for scikit-surprise (setup.py) ... \u001b[?25l\u001b[?25hdone\n",
            "  Created wheel for scikit-surprise: filename=scikit_surprise-1.1.1-cp36-cp36m-linux_x86_64.whl size=1670917 sha256=08e347a215bc9b307c715a31c2037f0e5a285c7c6b8b3dc0f2cc391dacd0c9fc\n",
            "  Stored in directory: /root/.cache/pip/wheels/78/9c/3d/41b419c9d2aff5b6e2b4c0fc8d25c538202834058f9ed110d0\n",
            "Successfully built scikit-surprise\n",
            "Installing collected packages: scikit-surprise, surprise\n",
            "Successfully installed scikit-surprise-1.1.1 surprise-0.1\n"
          ],
          "name": "stdout"
        }
      ]
    },
    {
      "cell_type": "code",
      "metadata": {
        "id": "rrvlXve8-uHr"
      },
      "source": [
        "# Importing Neccessary Packages:\r\n",
        "\r\n",
        "import pandas as pd\r\n",
        "import numpy as np\r\n",
        "import surprise\r\n",
        "import matplotlib.pyplot as plt\r\n",
        "import seaborn as sns\r\n",
        "from surprise.model_selection import GridSearchCV\r\n",
        "from surprise import accuracy\r\n",
        "from surprise import Reader\r\n",
        "from surprise import Dataset\r\n",
        "import pickle\r\n",
        "from surprise.model_selection import cross_validate, train_test_split\r\n",
        "import warnings\r\n",
        "warnings.filterwarnings('ignore')\r\n",
        "import time\r\n",
        "\r\n",
        "# Surprise Models:\r\n",
        "\r\n",
        "from surprise import NormalPredictor, BaselineOnly\r\n",
        "from surprise import KNNBasic, KNNWithMeans, KNNWithZScore, KNNBaseline\r\n",
        "from surprise import SVD, SVDpp, NMF\r\n",
        "from surprise import SlopeOne, CoClustering\r\n"
      ],
      "execution_count": 4,
      "outputs": []
    },
    {
      "cell_type": "code",
      "metadata": {
        "colab": {
          "base_uri": "https://localhost:8080/"
        },
        "id": "VPI3bQ3x-vPI",
        "outputId": "dbe1f677-78a8-4d1c-c367-5da26a141412"
      },
      "source": [
        "# To mount drive:\r\n",
        "from google.colab import drive\r\n",
        "drive.mount('/content/drive')"
      ],
      "execution_count": 5,
      "outputs": [
        {
          "output_type": "stream",
          "text": [
            "Mounted at /content/drive\n"
          ],
          "name": "stdout"
        }
      ]
    },
    {
      "cell_type": "code",
      "metadata": {
        "id": "4YMbmWW2-q46"
      },
      "source": [
        "# Function to change dtype of id from string to int:\r\n",
        "def change_type_id(x):\r\n",
        "    try:\r\n",
        "        return int(x)\r\n",
        "    except ValueError:\r\n",
        "        return None"
      ],
      "execution_count": 6,
      "outputs": []
    },
    {
      "cell_type": "code",
      "metadata": {
        "id": "FUTfjav0msIK"
      },
      "source": [
        "# Function to create Movie Name to ID Mapper:\r\n",
        "\r\n",
        "def get_movie_name_to_id_mapper(label = \"25M\"):\r\n",
        "  if label == \"25M\":\r\n",
        "    movies = pd.read_csv('/content/drive/MyDrive/USML_Data/ml-25m/movies.csv')\r\n",
        "  elif label == \"1M\":\r\n",
        "    movies = pd.read_csv(\"/content/drive/MyDrive/USML_Data/ml-1m/movies.dat\", sep=\"::\", usecols = [0, 1, 2], names = ['movieId', 'title', 'genres'], engine = 'python')\r\n",
        "  else:\r\n",
        "    print(\"Invalid Label!\")\r\n",
        "  movie_name_to_id_map = dict(zip(movies[\"title\"].tolist(), movies[\"movieId\"].tolist()))\r\n",
        "  return movie_name_to_id_map"
      ],
      "execution_count": 7,
      "outputs": []
    },
    {
      "cell_type": "code",
      "metadata": {
        "id": "1FmJVYdvNTgP"
      },
      "source": [
        "# Function to save outputs:\r\n",
        "def write_files(data, file_name):\r\n",
        "  data.to_csv(\"/content/drive/MyDrive/USML_Data/Cleaned Data/\" + file_name)\r\n",
        "  return"
      ],
      "execution_count": 8,
      "outputs": []
    },
    {
      "cell_type": "code",
      "metadata": {
        "id": "P84vXopPBN92"
      },
      "source": [
        "# Function to Load Datasets:\r\n",
        "\r\n",
        "def load_data(dataset_name, loader):\r\n",
        "\r\n",
        "  if dataset_name == \"TMD\":\r\n",
        "    ratings = pd.read_csv('/content/drive/MyDrive/USML_Data/ratings.csv')\r\n",
        "    if dataset_name == \"TMD\" and loader == True:\r\n",
        "      reader = Reader(rating_scale = (0.5, 5))\r\n",
        "      our_data_full = Dataset.load_from_df(ratings[[\"userId\", \"movieId\", \"rating\"]], reader)\r\n",
        "      return our_data_full\r\n",
        "    else: return ratings\r\n",
        "\r\n",
        "  if dataset_name == \"ML1\":\r\n",
        "    ml_1m = Dataset.load_builtin(\"ml-1m\")\r\n",
        "    if dataset_name == \"ML1\" and loader == False:\r\n",
        "      ml_1m_df = pd.DataFrame(ml_1m.raw_ratings, columns = [\"userId\", \"movieId\", \"ratings\", \"timestamp\"])\r\n",
        "      return ml_1m_df\r\n",
        "    else: return ml_1m\r\n",
        "\r\n",
        "  if dataset_name == \"ML25\":\r\n",
        "    ml_25m_df = pd.read_csv(\"/content/drive/MyDrive/USML_Data/ml-25m/ratings.csv\")\r\n",
        "    if dataset_name == \"ML25\" and loader == True:\r\n",
        "      reader = Reader(rating_scale = (0.5, 5))\r\n",
        "      ml25m_surp = Dataset.load_from_df(ml_25m_df[[\"userId\", \"movieId\", \"rating\"]], reader)\r\n",
        "      return ml25m_surp\r\n",
        "    else: return ml_25m_df\r\n",
        "\r\n",
        "  "
      ],
      "execution_count": 9,
      "outputs": []
    },
    {
      "cell_type": "code",
      "metadata": {
        "id": "cKOKN34v-4qj"
      },
      "source": [
        "# Function to get Movie and User counts on condition:\r\n",
        "\r\n",
        "def get_movie_and_user_counts(df, min_movies, min_users):\r\n",
        "    filtered_movies = df[\"movieId\"].value_counts() >= min_movies\r\n",
        "    filtered_movies = filtered_movies[filtered_movies].index.tolist()\r\n",
        "    filtered_users = df[\"userId\"].value_counts() >= min_users\r\n",
        "    filtered_users = filtered_users[filtered_users].index.tolist()\r\n",
        "    print(\"Len of Filtered Users: {}, Len of Filtered Movies: {}\".format(len(filtered_users), len(filtered_movies)))\r\n",
        "\r\n",
        "    return filtered_users, filtered_movies"
      ],
      "execution_count": 10,
      "outputs": []
    },
    {
      "cell_type": "code",
      "metadata": {
        "id": "VCgpuXYaL8WX"
      },
      "source": [
        "# Function to run Surprise Models:\r\n",
        "\r\n",
        "def run_surprise_models(algo_list, data):\r\n",
        "  benchmark = list()\r\n",
        "  for algo in algo_list:\r\n",
        "    results = cross_validate(algo, data, \r\n",
        "                            measures = [\"RMSE\", \"MAE\", \"MSE\", \"FCP\"],\r\n",
        "                            cv = 5, \r\n",
        "                            verbose = True)\r\n",
        "    temp_res = pd.DataFrame.from_dict(results).mean(axis = 0)\r\n",
        "    temp_res = temp_res.append(pd.Series([str(algo).split(\" \")[0].split(\".\")[-1]], index = [\"Algorithm\"]))\r\n",
        "    benchmark.append(temp_res)\r\n",
        "\r\n",
        "    test_results = pd.DataFrame(benchmark).set_index(\"Algorithm\").sort_values(\"test_rmse\")\r\n",
        "    test_results\r\n",
        "  \r\n",
        "  return results, benchmark, test_results"
      ],
      "execution_count": 11,
      "outputs": []
    },
    {
      "cell_type": "code",
      "metadata": {
        "id": "ybRrAa1_NfB_"
      },
      "source": [
        "# Function for Hyperparameter Tuning:\r\n",
        "\r\n",
        "def hyperparameter_tuning(algo, param_grid, data, measure = \"rmse\", cv = 5):\r\n",
        "  start = time.time()\r\n",
        "  hyper_tuner = GridSearchCV(algo, param_grid, measures=['rmse', \"mae\"], cv = cv, n_jobs = -1, joblib_verbose = 1)\r\n",
        "  hyper_tuner.fit(data)\r\n",
        "  print(hyper_tuner.best_score[measure])\r\n",
        "  print(hyper_tuner.best_params[measure])\r\n",
        "\r\n",
        "  end = time.time()\r\n",
        "  hours, rem = divmod(end-start, 3600)\r\n",
        "  minutes, seconds = divmod(rem, 60)\r\n",
        "  print(\"\\nTime Taken for Hypertuning: {:0>2}:{:0>2}:{:05.2f}\".format(int(hours),int(minutes),seconds))\r\n",
        "\r\n",
        "  return hyper_tuner, hyper_tuner.best_params[measure]"
      ],
      "execution_count": 12,
      "outputs": []
    },
    {
      "cell_type": "code",
      "metadata": {
        "id": "u_cwksTPm443"
      },
      "source": [
        "# Function to Predict User Ratings:\r\n",
        "\r\n",
        "def predict_user_ratings(userid, data, movie_id_mapper, algo):\r\n",
        "    if userid in data[\"userId\"].unique():\r\n",
        "        ui_list = data[data[\"userId\"] == userid][\"movieId\"].tolist()\r\n",
        "        d = {k: v for k,v in movie_id_mapper.items() if not v in ui_list}        \r\n",
        "        predictedL = []\r\n",
        "        for i, j in d.items():     \r\n",
        "            predicted = algo.predict(userid, j)\r\n",
        "            predictedL.append((i, predicted[3])) \r\n",
        "        preds_df = pd.DataFrame(predictedL, columns = ['Movies', 'Ratings'])\r\n",
        "        preds_df.sort_values('Ratings', ascending=False, inplace=True)  \r\n",
        "        # preds_df.set_index('Movies', inplace=True) \r\n",
        "        print(\"\\nPredictions for UserId: {}\".format(userid))\r\n",
        "        print(\"============================================================\\n\")\r\n",
        "        print(preds_df.head(10))  \r\n",
        "        print(\"============================================================\\n\") \r\n",
        "        return preds_df.head(10)        \r\n",
        "    else:\r\n",
        "        print(\"UserID: {} does not exist in the list!\".format(userId))\r\n",
        "        return None"
      ],
      "execution_count": 13,
      "outputs": []
    },
    {
      "cell_type": "code",
      "metadata": {
        "id": "iZ4X3QjaTIZo"
      },
      "source": [
        "# Function to Train Models:\r\n",
        "\r\n",
        "def train_model(data, model):\r\n",
        "  start = time.time()\r\n",
        "  trainset, testset = train_test_split(ml25m_surp, test_size = 20)\r\n",
        "  print(\"# of users in train: {} \\t # of items in train: {}\\t # of ratings in train: {}\".format(trainset.n_users, trainset.n_items, trainset.n_ratings))\r\n",
        "  model.fit(trainset)\r\n",
        "  predictions = model.test(testset)\r\n",
        "  rmse = accuracy.rmse(predictions, verbose = True)\r\n",
        "  # print(\"RMSE: {:.4f}\".format(rmse))\r\n",
        "  end = time.time()\r\n",
        "  hours, rem = divmod(end-start, 3600)\r\n",
        "  minutes, seconds = divmod(rem, 60)\r\n",
        "  print(\"\\nTime Taken for Training: {:0>2}:{:0>2}:{:05.2f}\".format(int(hours),int(minutes),seconds))\r\n",
        "  return predictions, rmse"
      ],
      "execution_count": 14,
      "outputs": []
    },
    {
      "cell_type": "code",
      "metadata": {
        "id": "LKQk1vnGTY-0"
      },
      "source": [
        "# Function to Display Predictions\r\n",
        "def display_predictions(userids, data, model, movie_mapper_label):\r\n",
        "  movie_name_to_id_map = get_movie_name_to_id_mapper(movie_mapper_label)\r\n",
        "  for uid in userids:\r\n",
        "    predict_user_ratings(uid, data, movie_name_to_id_map, model)\r\n",
        "  return"
      ],
      "execution_count": 15,
      "outputs": []
    },
    {
      "cell_type": "code",
      "metadata": {
        "id": "BSxSb19KE2Bc",
        "colab": {
          "base_uri": "https://localhost:8080/"
        },
        "outputId": "d1bb359f-119a-4846-9cb3-7092d4776f97"
      },
      "source": [
        "# Importing Data:\r\n",
        "\r\n",
        "ratings = load_data(\"TMD\", False)\r\n",
        "ml1m_df = load_data(\"ML1\", False)\r\n",
        "ml25m_df = load_data(\"ML25\", False)\r\n",
        "ml1m_surp = load_data(\"ML1\", True)\r\n",
        "ml25m_surp = load_data(\"ML25\", True)"
      ],
      "execution_count": 16,
      "outputs": [
        {
          "output_type": "stream",
          "text": [
            "Dataset ml-1m could not be found. Do you want to download it? [Y/n] Y\n",
            "Trying to download dataset from http://files.grouplens.org/datasets/movielens/ml-1m.zip...\n",
            "Done! Dataset ml-1m has been saved to /root/.surprise_data/ml-1m\n"
          ],
          "name": "stdout"
        }
      ]
    },
    {
      "cell_type": "code",
      "metadata": {
        "colab": {
          "base_uri": "https://localhost:8080/"
        },
        "id": "mO-oISYCG7TU",
        "outputId": "c4c2bf3b-0b75-4afe-fe7f-677f5e25b044"
      },
      "source": [
        "print(\"Size of The Movies Dataset:{}\\nSize of MovieLens 1M: {}\\nSize of MovieLens 25M: {}\".format(ratings.shape, ml1m_df.shape, ml25m_df.shape))"
      ],
      "execution_count": 15,
      "outputs": [
        {
          "output_type": "stream",
          "text": [
            "Size of The Movies Dataset:(26024289, 4)\n",
            "Size of MovieLens 1M: (1000209, 4)\n",
            "Size of MovieLens 25M: (25000095, 4)\n"
          ],
          "name": "stdout"
        }
      ]
    },
    {
      "cell_type": "code",
      "metadata": {
        "colab": {
          "base_uri": "https://localhost:8080/",
          "height": 312
        },
        "id": "Jhue_3Av-4hR",
        "outputId": "4e73fdb9-43ad-4959-f861-111f3688db52"
      },
      "source": [
        "# Visualizing Distribution of Ratings in The Movies Dataset:\r\n",
        "\r\n",
        "sns.countplot(ratings[\"rating\"], palette = \"rainbow\")\r\n",
        "plt.title(\"Distribution of Ratings\")\r\n",
        "plt.xlabel(\"Rating\")\r\n",
        "plt.ylabel(\"Counts\")"
      ],
      "execution_count": null,
      "outputs": [
        {
          "output_type": "execute_result",
          "data": {
            "text/plain": [
              "Text(0, 0.5, 'Counts')"
            ]
          },
          "metadata": {
            "tags": []
          },
          "execution_count": 15
        },
        {
          "output_type": "display_data",
          "data": {
            "image/png": "[encoded data removed]",
            "text/plain": [
              "<Figure size 432x288 with 1 Axes>"
            ]
          },
          "metadata": {
            "tags": [],
            "needs_background": "light"
          }
        }
      ]
    },
    {
      "cell_type": "code",
      "metadata": {
        "colab": {
          "base_uri": "https://localhost:8080/",
          "height": 312
        },
        "id": "7grwUqit-4j1",
        "outputId": "312ba804-233f-479b-e7ae-f234dbc3743e"
      },
      "source": [
        "# Visualizing Distribution of Ratings in The Movies Dataset:\r\n",
        "\r\n",
        "sns.countplot(ml1m_df[\"ratings\"], palette = \"rainbow\")\r\n",
        "plt.title(\"Distribution of Ratings\")\r\n",
        "plt.xlabel(\"Rating\")\r\n",
        "plt.ylabel(\"Counts\")"
      ],
      "execution_count": null,
      "outputs": [
        {
          "output_type": "execute_result",
          "data": {
            "text/plain": [
              "Text(0, 0.5, 'Counts')"
            ]
          },
          "metadata": {
            "tags": []
          },
          "execution_count": 16
        },
        {
          "output_type": "display_data",
          "data": {
            "image/png": "[encoded data removed]",
            "text/plain": [
              "<Figure size 432x288 with 1 Axes>"
            ]
          },
          "metadata": {
            "tags": [],
            "needs_background": "light"
          }
        }
      ]
    },
    {
      "cell_type": "code",
      "metadata": {
        "colab": {
          "base_uri": "https://localhost:8080/",
          "height": 312
        },
        "id": "bIAHQPNc-4n1",
        "outputId": "a6cf3e1d-9a34-420d-db6a-b746db385746"
      },
      "source": [
        "# Visualizing Distribution of Ratings in The Movies Dataset:\r\n",
        "\r\n",
        "sns.countplot(ml25m_df[\"rating\"], palette = \"rainbow\")\r\n",
        "plt.title(\"Distribution of Ratings\")\r\n",
        "plt.xlabel(\"Rating\")\r\n",
        "plt.ylabel(\"Counts\")"
      ],
      "execution_count": null,
      "outputs": [
        {
          "output_type": "execute_result",
          "data": {
            "text/plain": [
              "Text(0, 0.5, 'Counts')"
            ]
          },
          "metadata": {
            "tags": []
          },
          "execution_count": 17
        },
        {
          "output_type": "display_data",
          "data": {
            "image/png": "[encoded data removed]",
            "text/plain": [
              "<Figure size 432x288 with 1 Axes>"
            ]
          },
          "metadata": {
            "tags": [],
            "needs_background": "light"
          }
        }
      ]
    },
    {
      "cell_type": "code",
      "metadata": {
        "colab": {
          "base_uri": "https://localhost:8080/"
        },
        "id": "tCOOpgxE-4sv",
        "outputId": "d64259db-775f-4bb4-d226-cfdbe2c5ca8a"
      },
      "source": [
        "# Filtering Users such that they have rated atleast 20 movies:\r\n",
        "\r\n",
        "filtered_users_r, filtered_movies_r = get_movie_and_user_counts(ratings, 0, 20)\r\n",
        "filtered_users, filtered_movies = get_movie_and_user_counts(ml1m_df, 0, 20)\r\n",
        "filtered_users, filtered_movies = get_movie_and_user_counts(ml25m_df, 0, 20)"
      ],
      "execution_count": 12,
      "outputs": [
        {
          "output_type": "stream",
          "text": [
            "Len of Filtered Users: 166444, Len of Filtered Movies: 45115\n",
            "Len of Filtered Users: 3043, Len of Filtered Movies: 6040\n",
            "Len of Filtered Users: 162541, Len of Filtered Movies: 59047\n"
          ],
          "name": "stdout"
        }
      ]
    },
    {
      "cell_type": "code",
      "metadata": {
        "colab": {
          "base_uri": "https://localhost:8080/"
        },
        "id": "3PNfE408-4vK",
        "outputId": "a6233f15-43b5-47e9-a809-5fc2b9ae69fd"
      },
      "source": [
        "# Filtering Dataset such that every user has rated atleast 20 movies.\r\n",
        "\r\n",
        "our_data_modified_df = ratings[(ratings[\"movieId\"].isin(filtered_movies_r)) & (ratings[\"userId\"].isin(filtered_users_r))]\r\n",
        "print(\"Old Size: {}\\t New Size: {}\".format(ratings.shape, our_data_modified_df.shape))\r\n",
        "reader = Reader(rating_scale = (0.5, 5))\r\n",
        "our_data_modified = Dataset.load_from_df(our_data_modified_df[[\"userId\", \"movieId\", \"rating\"]], reader)"
      ],
      "execution_count": 13,
      "outputs": [
        {
          "output_type": "stream",
          "text": [
            "Old Size: (26024289, 4)\t New Size: (24848104, 4)\n"
          ],
          "name": "stdout"
        }
      ]
    },
    {
      "cell_type": "markdown",
      "metadata": {
        "id": "vEMNrufCMnu8"
      },
      "source": [
        "#### Running all Algorithms on MovieLens 1 Million"
      ]
    },
    {
      "cell_type": "code",
      "metadata": {
        "colab": {
          "base_uri": "https://localhost:8080/"
        },
        "id": "xQmKtKm_MF8B",
        "outputId": "6479f0f1-d89b-4950-de2c-c4cae40e2430"
      },
      "source": [
        "# Running Surprise Collaborative Filtering Models on Movie Lens 1M:\r\n",
        "\r\n",
        "algo_list = [SVD(), NMF(), NormalPredictor(), BaselineOnly(), \r\n",
        "             KNNBaseline(), KNNBasic(), KNNWithMeans(), KNNWithZScore(), \r\n",
        "             SlopeOne(), CoClustering()]\r\n",
        "\r\n",
        "results, benchmark, test_results = run_surprise_models(algo_list, ml1m_surp)\r\n",
        "write_files(test_results, \"ml1m_surprise_all_models.csv\")"
      ],
      "execution_count": null,
      "outputs": [
        {
          "output_type": "stream",
          "text": [
            "Evaluating RMSE, MAE, MSE, FCP of algorithm SVD on 5 split(s).\n",
            "\n",
            "                  Fold 1  Fold 2  Fold 3  Fold 4  Fold 5  Mean    Std     \n",
            "RMSE (testset)    0.8735  0.8755  0.8740  0.8742  0.8740  0.8742  0.0007  \n",
            "MAE (testset)     0.6854  0.6875  0.6857  0.6868  0.6863  0.6863  0.0008  \n",
            "MSE (testset)     0.7630  0.7665  0.7638  0.7643  0.7638  0.7643  0.0012  \n",
            "FCP (testset)     0.7464  0.7458  0.7467  0.7436  0.7438  0.7453  0.0013  \n",
            "Fit time          45.51   45.78   45.80   46.00   49.15   46.45   1.36    \n",
            "Test time         5.93    4.52    4.43    5.69    4.77    5.07    0.62    \n",
            "Evaluating RMSE, MAE, MSE, FCP of algorithm NMF on 5 split(s).\n",
            "\n",
            "                  Fold 1  Fold 2  Fold 3  Fold 4  Fold 5  Mean    Std     \n",
            "RMSE (testset)    0.9161  0.9168  0.9151  0.9172  0.9169  0.9164  0.0008  \n",
            "MAE (testset)     0.7242  0.7245  0.7236  0.7250  0.7232  0.7241  0.0007  \n",
            "MSE (testset)     0.8392  0.8406  0.8374  0.8413  0.8407  0.8398  0.0014  \n",
            "FCP (testset)     0.7194  0.7210  0.7203  0.7189  0.7192  0.7198  0.0008  \n",
            "Fit time          48.96   48.19   49.81   49.43   50.91   49.46   0.90    \n",
            "Test time         5.77    4.29    5.89    4.28    5.83    5.21    0.76    \n",
            "Evaluating RMSE, MAE, MSE, FCP of algorithm NormalPredictor on 5 split(s).\n",
            "\n",
            "                  Fold 1  Fold 2  Fold 3  Fold 4  Fold 5  Mean    Std     \n",
            "RMSE (testset)    1.5055  1.5072  1.5066  1.5052  1.5075  1.5064  0.0009  \n",
            "MAE (testset)     1.2070  1.2094  1.2082  1.2064  1.2089  1.2080  0.0011  \n",
            "MSE (testset)     2.2666  2.2717  2.2699  2.2656  2.2725  2.2693  0.0027  \n",
            "FCP (testset)     0.4955  0.4937  0.4943  0.4971  0.4944  0.4950  0.0012  \n",
            "Fit time          1.08    1.57    1.53    1.57    1.55    1.46    0.19    \n",
            "Test time         6.24    4.60    4.69    4.65    6.16    5.27    0.76    \n",
            "Estimating biases using als...\n",
            "Estimating biases using als...\n",
            "Estimating biases using als...\n",
            "Estimating biases using als...\n",
            "Estimating biases using als...\n",
            "Evaluating RMSE, MAE, MSE, FCP of algorithm BaselineOnly on 5 split(s).\n",
            "\n",
            "                  Fold 1  Fold 2  Fold 3  Fold 4  Fold 5  Mean    Std     \n",
            "RMSE (testset)    0.9086  0.9060  0.9096  0.9106  0.9086  0.9087  0.0015  \n",
            "MAE (testset)     0.7192  0.7172  0.7200  0.7208  0.7201  0.7195  0.0012  \n",
            "MSE (testset)     0.8256  0.8208  0.8274  0.8292  0.8256  0.8257  0.0028  \n",
            "FCP (testset)     0.7226  0.7241  0.7242  0.7251  0.7233  0.7239  0.0008  \n",
            "Fit time          4.09    4.37    4.67    4.64    4.56    4.47    0.22    \n",
            "Test time         4.45    6.13    6.10    4.42    4.39    5.10    0.83    \n",
            "Estimating biases using als...\n",
            "Computing the msd similarity matrix...\n",
            "Done computing similarity matrix.\n",
            "Estimating biases using als...\n",
            "Computing the msd similarity matrix...\n",
            "Done computing similarity matrix.\n",
            "Estimating biases using als...\n",
            "Computing the msd similarity matrix...\n",
            "Done computing similarity matrix.\n",
            "Estimating biases using als...\n",
            "Computing the msd similarity matrix...\n",
            "Done computing similarity matrix.\n",
            "Estimating biases using als...\n",
            "Computing the msd similarity matrix...\n",
            "Done computing similarity matrix.\n",
            "Evaluating RMSE, MAE, MSE, FCP of algorithm KNNBaseline on 5 split(s).\n",
            "\n",
            "                  Fold 1  Fold 2  Fold 3  Fold 4  Fold 5  Mean    Std     \n",
            "RMSE (testset)    0.8958  0.8965  0.8932  0.8966  0.8931  0.8951  0.0016  \n",
            "MAE (testset)     0.7073  0.7072  0.7049  0.7076  0.7047  0.7063  0.0013  \n",
            "MSE (testset)     0.8025  0.8038  0.7978  0.8039  0.7977  0.8011  0.0028  \n",
            "FCP (testset)     0.7322  0.7331  0.7344  0.7324  0.7333  0.7331  0.0008  \n",
            "Fit time          40.15   41.73   41.84   43.18   48.85   43.15   3.01    \n",
            "Test time         146.90  155.69  148.34  152.23  158.03  152.24  4.22    \n",
            "Computing the msd similarity matrix...\n",
            "Done computing similarity matrix.\n",
            "Computing the msd similarity matrix...\n",
            "Done computing similarity matrix.\n",
            "Computing the msd similarity matrix...\n",
            "Done computing similarity matrix.\n",
            "Computing the msd similarity matrix...\n",
            "Done computing similarity matrix.\n",
            "Computing the msd similarity matrix...\n",
            "Done computing similarity matrix.\n",
            "Evaluating RMSE, MAE, MSE, FCP of algorithm KNNBasic on 5 split(s).\n",
            "\n",
            "                  Fold 1  Fold 2  Fold 3  Fold 4  Fold 5  Mean    Std     \n",
            "RMSE (testset)    0.9240  0.9202  0.9237  0.9242  0.9231  0.9230  0.0014  \n",
            "MAE (testset)     0.7276  0.7262  0.7286  0.7280  0.7275  0.7276  0.0008  \n",
            "MSE (testset)     0.8537  0.8468  0.8531  0.8541  0.8521  0.8520  0.0027  \n",
            "FCP (testset)     0.7345  0.7373  0.7351  0.7356  0.7348  0.7355  0.0010  \n",
            "Fit time          41.52   38.25   44.43   40.17   45.07   41.89   2.57    \n",
            "Test time         149.34  148.52  149.30  140.85  147.66  147.14  3.20    \n",
            "Computing the msd similarity matrix...\n",
            "Done computing similarity matrix.\n",
            "Computing the msd similarity matrix...\n",
            "Done computing similarity matrix.\n",
            "Computing the msd similarity matrix...\n",
            "Done computing similarity matrix.\n",
            "Computing the msd similarity matrix...\n",
            "Done computing similarity matrix.\n",
            "Computing the msd similarity matrix...\n",
            "Done computing similarity matrix.\n",
            "Evaluating RMSE, MAE, MSE, FCP of algorithm KNNWithMeans on 5 split(s).\n",
            "\n",
            "                  Fold 1  Fold 2  Fold 3  Fold 4  Fold 5  Mean    Std     \n",
            "RMSE (testset)    0.9285  0.9268  0.9287  0.9320  0.9293  0.9291  0.0017  \n",
            "MAE (testset)     0.7377  0.7362  0.7379  0.7416  0.7389  0.7385  0.0018  \n",
            "MSE (testset)     0.8622  0.8589  0.8624  0.8686  0.8636  0.8631  0.0032  \n",
            "FCP (testset)     0.7267  0.7272  0.7262  0.7257  0.7235  0.7258  0.0013  \n",
            "Fit time          41.84   37.59   43.16   38.14   44.73   41.09   2.79    \n",
            "Test time         146.46  142.47  147.23  147.62  150.23  146.80  2.51    \n",
            "Computing the msd similarity matrix...\n",
            "Done computing similarity matrix.\n",
            "Computing the msd similarity matrix...\n",
            "Done computing similarity matrix.\n",
            "Computing the msd similarity matrix...\n",
            "Done computing similarity matrix.\n",
            "Computing the msd similarity matrix...\n",
            "Done computing similarity matrix.\n",
            "Computing the msd similarity matrix...\n",
            "Done computing similarity matrix.\n",
            "Evaluating RMSE, MAE, MSE, FCP of algorithm KNNWithZScore on 5 split(s).\n",
            "\n",
            "                  Fold 1  Fold 2  Fold 3  Fold 4  Fold 5  Mean    Std     \n",
            "RMSE (testset)    0.9304  0.9311  0.9297  0.9311  0.9286  0.9302  0.0009  \n",
            "MAE (testset)     0.7371  0.7370  0.7359  0.7366  0.7346  0.7362  0.0009  \n",
            "MSE (testset)     0.8656  0.8670  0.8644  0.8669  0.8623  0.8652  0.0018  \n",
            "FCP (testset)     0.7253  0.7242  0.7253  0.7226  0.7262  0.7247  0.0013  \n",
            "Fit time          41.20   38.51   44.57   40.47   45.46   42.04   2.60    \n",
            "Test time         149.37  148.12  151.69  142.67  147.65  147.90  2.97    \n",
            "Evaluating RMSE, MAE, MSE, FCP of algorithm SlopeOne on 5 split(s).\n",
            "\n",
            "                  Fold 1  Fold 2  Fold 3  Fold 4  Fold 5  Mean    Std     \n",
            "RMSE (testset)    0.9065  0.9070  0.9068  0.9051  0.9069  0.9065  0.0007  \n",
            "MAE (testset)     0.7147  0.7151  0.7149  0.7132  0.7142  0.7144  0.0007  \n",
            "MSE (testset)     0.8217  0.8227  0.8223  0.8193  0.8224  0.8217  0.0012  \n",
            "FCP (testset)     0.7255  0.7264  0.7278  0.7268  0.7254  0.7264  0.0009  \n",
            "Fit time          13.64   14.47   13.94   14.39   14.13   14.12   0.31    \n",
            "Test time         62.78   62.46   66.15   62.13   62.05   63.11   1.54    \n",
            "Evaluating RMSE, MAE, MSE, FCP of algorithm CoClustering on 5 split(s).\n",
            "\n",
            "                  Fold 1  Fold 2  Fold 3  Fold 4  Fold 5  Mean    Std     \n",
            "RMSE (testset)    0.9140  0.9137  0.9171  0.9160  0.9169  0.9155  0.0014  \n",
            "MAE (testset)     0.7157  0.7162  0.7186  0.7179  0.7191  0.7175  0.0013  \n",
            "MSE (testset)     0.8354  0.8349  0.8410  0.8390  0.8407  0.8382  0.0026  \n",
            "FCP (testset)     0.7280  0.7286  0.7296  0.7266  0.7295  0.7285  0.0011  \n",
            "Fit time          18.48   19.18   19.52   19.01   19.16   19.07   0.34    \n",
            "Test time         5.58    3.41    5.62    5.47    5.47    5.11    0.85    \n"
          ],
          "name": "stdout"
        }
      ]
    },
    {
      "cell_type": "markdown",
      "metadata": {
        "id": "PGCcwTgsMudV"
      },
      "source": [
        "#### SVD on \"The Movies Dataset\""
      ]
    },
    {
      "cell_type": "code",
      "metadata": {
        "id": "sd5GF9VUMqkV",
        "colab": {
          "base_uri": "https://localhost:8080/"
        },
        "outputId": "f0350d8e-896b-40c5-d381-07b8c171a153"
      },
      "source": [
        "# Running SVD on The Movies Dataset:\r\n",
        "\r\n",
        "algo_list = [SVD()]\r\n",
        "results, benchmark, test_results = run_surprise_models(algo_list, our_data_modified)\r\n",
        "write_files(test_results, \"tmd_surprise_SVD_new.csv\")"
      ],
      "execution_count": 30,
      "outputs": [
        {
          "output_type": "stream",
          "text": [
            "Evaluating RMSE, MAE, MSE, FCP of algorithm SVD on 5 split(s).\n",
            "\n",
            "                  Fold 1  Fold 2  Fold 3  Fold 4  Fold 5  Mean    Std     \n",
            "RMSE (testset)    0.7813  0.7815  0.7815  0.7819  0.7816  0.7815  0.0002  \n",
            "MAE (testset)     0.5912  0.5912  0.5913  0.5915  0.5915  0.5913  0.0001  \n",
            "MSE (testset)     0.6104  0.6107  0.6108  0.6114  0.6108  0.6108  0.0003  \n",
            "FCP (testset)     0.7479  0.7480  0.7469  0.7478  0.7474  0.7476  0.0004  \n",
            "Fit time          1216.84 1241.07 1241.61 1230.60 1227.75 1231.57 9.21    \n",
            "Test time         184.77  263.09  212.89  156.41  214.54  206.34  35.47   \n"
          ],
          "name": "stdout"
        }
      ]
    },
    {
      "cell_type": "markdown",
      "metadata": {
        "id": "_T7q7ejVXnc7"
      },
      "source": [
        "## ON MOVIE LENS 25 MILLION:"
      ]
    },
    {
      "cell_type": "code",
      "metadata": {
        "colab": {
          "base_uri": "https://localhost:8080/"
        },
        "id": "9BxUUhOrMgLr",
        "outputId": "ec3beca5-1698-41ad-8e99-a5b1c911e6e3"
      },
      "source": [
        "# Running SVD on Movie Lens 25M:\r\n",
        "\r\n",
        "algo_list = [SVD()]\r\n",
        "results, benchmark, test_results = run_surprise_models(algo_list, ml25m_surp)\r\n",
        "write_files(test_results, \"ml25m_surprise_SVD_new.csv\")"
      ],
      "execution_count": null,
      "outputs": [
        {
          "output_type": "stream",
          "text": [
            "Evaluating RMSE, MAE, MSE, FCP of algorithm SVD on 5 split(s).\n",
            "\n",
            "                  Fold 1  Fold 2  Fold 3  Fold 4  Fold 5  Mean    Std     \n",
            "RMSE (testset)    0.7784  0.7776  0.7779  0.7774  0.7777  0.7778  0.0003  \n",
            "MAE (testset)     0.5871  0.5870  0.5869  0.5867  0.5867  0.5869  0.0002  \n",
            "MSE (testset)     0.6059  0.6047  0.6051  0.6044  0.6048  0.6050  0.0005  \n",
            "FCP (testset)     0.7425  0.7430  0.7430  0.7433  0.7427  0.7429  0.0003  \n",
            "Fit time          1210.37 1229.02 1258.57 1251.89 1223.73 1234.72 17.94   \n",
            "Test time         151.00  142.76  163.37  108.47  131.67  139.45  18.64   \n"
          ],
          "name": "stdout"
        }
      ]
    },
    {
      "cell_type": "markdown",
      "metadata": {
        "id": "7WftzTrbtApa"
      },
      "source": [
        "#### Hypertuning SVD on Movie Lens 1M: (Very Computationally Expensive)\r\n",
        "##### Takes over 16 hours to complelte\r\n",
        "\r\n",
        "\r\n",
        "\r\n"
      ]
    },
    {
      "cell_type": "code",
      "metadata": {
        "id": "cI73UrUdNs31"
      },
      "source": [
        "# Hypertuning SVD on Movie Lens 1M Dataset:\r\n",
        "\r\n",
        "param_grid = {'n_factors': [20, 50, 100, 150, 200], \r\n",
        "              'n_epochs': [5, 10, 15, 20, 25], \r\n",
        "              'lr_all': [0.01, 0.02, 0.03, 0.05, 0.002, 0.003, 0.005],\r\n",
        "              'reg_all': [0.2, 0.4, 0.6, 0.8]}\r\n",
        "\r\n",
        "hyper_tuner, best_params = hyperparameter_tuning(SVD, param_grid, ml1m_surp, measure = \"rmse\", cv = 5)\r\n",
        "print(\"Best Parameters: \\n\\n{}\".format(best_params))"
      ],
      "execution_count": null,
      "outputs": []
    },
    {
      "cell_type": "markdown",
      "metadata": {
        "id": "D52Y5gucI_UU"
      },
      "source": [
        "![hypertuning_params.JPG](data:image/jpeg;base64,/9j/4AAQSkZJRgABAQEAeAB4AAD/4RDsRXhpZgAATU0AKgAAAAgABAE7AAIAAAALAAAISodpAAQAAAABAAAIVpydAAEAAAAWAAAQzuocAAcAAAgMAAAAPgAAAAAc6gAAAAgAAAAAAAAAAAAAAAAAAAAAAAAAAAAAAAAAAAAAAAAAAAAAAAAAAAAAAAAAAAAAAAAAAAAAAAAAAAAAAAAAAAAAAAAAAAAAAAAAAAAAAAAAAAAAAAAAAAAAAAAAAAAAAAAAAAAAAAAAAAAAAAAAAAAAAAAAAAAAAAAAAAAAAAAAAAAAAAAAAAAAAAAAAAAAAAAAAAAAAAAAAAAAAAAAAAAAAAAAAAAAAAAAAAAAAAAAAAAAAAAAAAAAAAAAAAAAAAAAAAAAAAAAAAAAAAAAAAAAAAAAAAAAAAAAAAAAAAAAAAAAAAAAAAAAAAAAAAAAAAAAAAAAAAAAAAAAAAAAAAAAAAAAAAAAAAAAAAAAAAAAAAAAAAAAAAAAAAAAAAAAAAAAAAAAAAAAAAAAAAAAAAAAAAAAAAAAAAAAAAAAAAAAAAAAAAAAAAAAAAAAAAAAAAAAAAAAAAAAAAAAAAAAAAAAAAAAAAAAAAAAAAAAAAAAAAAAAAAAAAAAAAAAAAAAAAAAAAAAAAAAAAAAAAAAAAAAAAAAAAAAAAAAAAAAAAAAAAAAAAAAAAAAAAAAAAAAAAAAAAAAAAAAAAAAAAAAAAAAAAAAAAAAAAAAAAAAAAAAAAAAAAAAAAAAAAAAAAAAAAAAAAAAAAAAAAAAAAAAAAAAAAAAAAAAAAAAAAAAAAAAAAAAAAAAAAAAAAAAAAAAAAAAAAAAAAAAAAAAAAAAAAAAAAAAAAAAAAAAAAAAAAAAAAAAAAAAAAAAAAAAAAAAAAAAAAAAAAAAAAAAAAAAAAAAAAAAAAAAAAAAAAAAAAAAAAAAAAAAAAAAAAAAAAAAAAAAAAAAAAAAAAAAAAAAAAAAAAAAAAAAAAAAAAAAAAAAAAAAAAAAAAAAAAAAAAAAAAAAAAAAAAAAAAAAAAAAAAAAAAAAAAAAAAAAAAAAAAAAAAAAAAAAAAAAAAAAAAAAAAAAAAAAAAAAAAAAAAAAAAAAAAAAAAAAAAAAAAAAAAAAAAAAAAAAAAAAAAAAAAAAAAAAAAAAAAAAAAAAAAAAAAAAAAAAAAAAAAAAAAAAAAAAAAAAAAAAAAAAAAAAAAAAAAAAAAAAAAAAAAAAAAAAAAAAAAAAAAAAAAAAAAAAAAAAAAAAAAAAAAAAAAAAAAAAAAAAAAAAAAAAAAAAAAAAAAAAAAAAAAAAAAAAAAAAAAAAAAAAAAAAAAAAAAAAAAAAAAAAAAAAAAAAAAAAAAAAAAAAAAAAAAAAAAAAAAAAAAAAAAAAAAAAAAAAAAAAAAAAAAAAAAAAAAAAAAAAAAAAAAAAAAAAAAAAAAAAAAAAAAAAAAAAAAAAAAAAAAAAAAAAAAAAAAAAAAAAAAAAAAAAAAAAAAAAAAAAAAAAAAAAAAAAAAAAAAAAAAAAAAAAAAAAAAAAAAAAAAAAAAAAAAAAAAAAAAAAAAAAAAAAAAAAAAAAAAAAAAAAAAAAAAAAAAAAAAAAAAAAAAAAAAAAAAAAAAAAAAAAAAAAAAAAAAAAAAAAAAAAAAAAAAAAAAAAAAAAAAAAAAAAAAAAAAAAAAAAAAAAAAAAAAAAAAAAAAAAAAAAAAAAAAAAAAAAAAAAAAAAAAAAAAAAAAAAAAAAAAAAAAAAAAAAAAAAAAAAAAAAAAAAAAAAAAAAAAAAAAAAAAAAAAAAAAAAAAAAAAAAAAAAAAAAAAAAAAAAAAAAAAAAAAAAAAAAAAAAAAAAAAAAAAAAAAAAAAAAAAAAAAAAAAAAAAAAAAAAAAAAAAAAAAAAAAAAAAAAAAAAAAAAAAAAAAAAAAAAAAAAAAAAAAAAAAAAAAAAAAAAAAAAAAAAAAAAAAAAAAAAAAAAAAAAAAAAAAAAAAAAAAAAAAAAAAAAAAAAAAAAAAAAAAAAAAAAAAAAAAAAAAAAAAAAAAAAAAAAAAAAAAAAAAAAAAAAAAAAAAAAAAAAAAAAAAAAAAAAAAAAAAAAAAAAAAAAAAAAAAAAAAAAAAAAAAAAAAAAAAAAAAAAAAAAAAAAAAAAAAAAAAAAAAAAAAAAAAAAAAAAAAAAAAAAAAAAAAAAAAAAAAAAAAAAAAAAAAAAAAAAAAAAAAAAAAAAAAAAAAAAAAAAAAAAAAAAAAAAAAAAAAAAAAAAAAAAAAAAAAAAAAAAAAAAAAAAAAAAAAAAAAAAAAAAAAAAAAAAAAAAAAAAAAAAAAAAAAAAAAAAAAAAAAAAAAAAAAAAAAAAAAAAAAAAAAAAAAAAAAAAAAAAAAAAAAAAAAAAAAAAAAAAAAAAAAAAAAAAAAAAAAAAAAAAAAAAAAAAAAAAAAAAAAAAAAAAAAAAAAAAAAAAAAAAAAAAAAAAAAAAAAAAAAAAAAAAAAAAAAAAAAAAAAAAAAAAAAAAAAAAAAAAAAAAAAAAAAAAAAAAAAAAAAAAAAAAAAAAAAAAAAAAAAAAAAAAAAAAAAAAAAAAAAAAAAAAAAAAAAAAAAAAAAAAAAAAAAAAAAAAAAAAAAAAAAAAAAAAAAAAAAAAAAAAAAAAAAAAAAAAAAAAAAAAAAAAAAAAAAAAAAAAAAAAAAAAAAAAAAAAAAAAAAAAAAAAAAAAAAAAAAAAAAAAAAAAAAAAAAAAAAAAAAAAAAAAAAAAAAAAAAAAAAAAAAAAAAAAAAAAAAAAAAAAAAAAAAAAAAAAAAAAAAAAAAAAAAAAAAAAAAAAAAAAAAAAAAAAAAAAAAAAAAAAAAAAAAAAAAAAAAAAAAAAAAAAAAAAAAAAAEFyc2ggTW9kYWsAAAAFkAMAAgAAABQAABCkkAQAAgAAABQAABC4kpEAAgAAAAMxMQAAkpIAAgAAAAMxMQAA6hwABwAACAwAAAiYAAAAABzqAAAACAAAAAAAAAAAAAAAAAAAAAAAAAAAAAAAAAAAAAAAAAAAAAAAAAAAAAAAAAAAAAAAAAAAAAAAAAAAAAAAAAAAAAAAAAAAAAAAAAAAAAAAAAAAAAAAAAAAAAAAAAAAAAAAAAAAAAAAAAAAAAAAAAAAAAAAAAAAAAAAAAAAAAAAAAAAAAAAAAAAAAAAAAAAAAAAAAAAAAAAAAAAAAAAAAAAAAAAAAAAAAAAAAAAAAAAAAAAAAAAAAAAAAAAAAAAAAAAAAAAAAAAAAAAAAAAAAAAAAAAAAAAAAAAAAAAAAAAAAAAAAAAAAAAAAAAAAAAAAAAAAAAAAAAAAAAAAAAAAAAAAAAAAAAAAAAAAAAAAAAAAAAAAAAAAAAAAAAAAAAAAAAAAAAAAAAAAAAAAAAAAAAAAAAAAAAAAAAAAAAAAAAAAAAAAAAAAAAAAAAAAAAAAAAAAAAAAAAAAAAAAAAAAAAAAAAAAAAAAAAAAAAAAAAAAAAAAAAAAAAAAAAAAAAAAAAAAAAAAAAAAAAAAAAAAAAAAAAAAAAAAAAAAAAAAAAAAAAAAAAAAAAAAAAAAAAAAAAAAAAAAAAAAAAAAAAAAAAAAAAAAAAAAAAAAAAAAAAAAAAAAAAAAAAAAAAAAAAAAAAAAAAAAAAAAAAAAAAAAAAAAAAAAAAAAAAAAAAAAAAAAAAAAAAAAAAAAAAAAAAAAAAAAAAAAAAAAAAAAAAAAAAAAAAAAAAAAAAAAAAAAAAAAAAAAAAAAAAAAAAAAAAAAAAAAAAAAAAAAAAAAAAAAAAAAAAAAAAAAAAAAAAAAAAAAAAAAAAAAAAAAAAAAAAAAAAAAAAAAAAAAAAAAAAAAAAAAAAAAAAAAAAAAAAAAAAAAAAAAAAAAAAAAAAAAAAAAAAAAAAAAAAAAAAAAAAAAAAAAAAAAAAAAAAAAAAAAAAAAAAAAAAAAAAAAAAAAAAAAAAAAAAAAAAAAAAAAAAAAAAAAAAAAAAAAAAAAAAAAAAAAAAAAAAAAAAAAAAAAAAAAAAAAAAAAAAAAAAAAAAAAAAAAAAAAAAAAAAAAAAAAAAAAAAAAAAAAAAAAAAAAAAAAAAAAAAAAAAAAAAAAAAAAAAAAAAAAAAAAAAAAAAAAAAAAAAAAAAAAAAAAAAAAAAAAAAAAAAAAAAAAAAAAAAAAAAAAAAAAAAAAAAAAAAAAAAAAAAAAAAAAAAAAAAAAAAAAAAAAAAAAAAAAAAAAAAAAAAAAAAAAAAAAAAAAAAAAAAAAAAAAAAAAAAAAAAAAAAAAAAAAAAAAAAAAAAAAAAAAAAAAAAAAAAAAAAAAAAAAAAAAAAAAAAAAAAAAAAAAAAAAAAAAAAAAAAAAAAAAAAAAAAAAAAAAAAAAAAAAAAAAAAAAAAAAAAAAAAAAAAAAAAAAAAAAAAAAAAAAAAAAAAAAAAAAAAAAAAAAAAAAAAAAAAAAAAAAAAAAAAAAAAAAAAAAAAAAAAAAAAAAAAAAAAAAAAAAAAAAAAAAAAAAAAAAAAAAAAAAAAAAAAAAAAAAAAAAAAAAAAAAAAAAAAAAAAAAAAAAAAAAAAAAAAAAAAAAAAAAAAAAAAAAAAAAAAAAAAAAAAAAAAAAAAAAAAAAAAAAAAAAAAAAAAAAAAAAAAAAAAAAAAAAAAAAAAAAAAAAAAAAAAAAAAAAAAAAAAAAAAAAAAAAAAAAAAAAAAAAAAAAAAAAAAAAAAAAAAAAAAAAAAAAAAAAAAAAAAAAAAAAAAAAAAAAAAAAAAAAAAAAAAAAAAAAAAAAAAAAAAAAAAAAAAAAAAAAAAAAAAAAAAAAAAAAAAAAAAAAAAAAAAAAAAAAAAAAAAAAAAAAAAAAAAAAAAAAAAAAAAAAAAAAAAAAAAAAAAAAAAAAAAAAAAAAAAAAAAAAAAAAAAAAAAAAAAAAAAAAAAAAAAAAAAAAAAAAAAAAAAAAAAAAAAAAAAAAAAAAAAAAAAAAAAAAAAAAAAAAAAAAAAAAAAAAAAAAAAAAAAAAAAAAAAAAAAAAAAAAAAAAAAAAAAAAAAAAAAAAAAAAAAAAAAAAAAAAAAAAAAAAAAAAAAAAAAAAAAAAAAAAAAAAAAAAAAAAAAAAAAAAAAAAAAAAAAAAAAAAAAAAAAAAAAAAAAAAAAAAAAAAAAAAAAAAAAAAAAAAAAAAAAAAAAAAAAAAAAAAAAAAAAAAAAAAAAAAAAAAAAAAAAAAAAAAAAAAAAAAAAAAAAAAAAAAAAAAAAAAAAAAAAAAAAAAAAAAAAAAAAAAAAAAAAAAAAAAAAAAAAAAAAAAAAAAAAAAAAAAAAAAAAAAAAAAAAAAAAAAAAAAAAAAAAAAAAAAAAAAAAAAAAAAAAAAAAAAAAAAAAAAAAAAAAAAAAAAAAAAAAAAAAAAAAAAAAAAAAAAAAAAAAAAAAAAAAAAAAAAAAAAAAAAAAAAAAAAAAAAAAAAAAAAAAAAAAAAAAAAAAAAAAAAAAAAAAAAAAAAAAAAAAAAAAAAAAAAAAAAAAAAAAAAAAAAAAAAAAAAAAAAAAAAAAAAAAAAAAAAAAAAAAAAAAAAAAAAAAAAAAAAAAAAAAAAAAAAAAAAAAAAAAAAAAAAAAAAAAAAAAAAAAAAAAAAAAAAAAAAAAAAAAAAAAAAAAAAAAAAAAAAAAAAAAAAAAAAAAAAAAAAAAAAAAAAAAAAAAAAAAAAAAAAAAAAAAAAAAAAAAAAAAAAAAAAAAAAAAAAAAAAAAAAAAAAAAAAAAAAAAMjAyMDoxMjoxNiAwMTowMjoyNgAyMDIwOjEyOjE2IDAxOjAyOjI2AAAAQQByAHMAaAAgAE0AbwBkAGEAawAAAP/hCx1odHRwOi8vbnMuYWRvYmUuY29tL3hhcC8xLjAvADw/eHBhY2tldCBiZWdpbj0n77u/JyBpZD0nVzVNME1wQ2VoaUh6cmVTek5UY3prYzlkJz8+DQo8eDp4bXBtZXRhIHhtbG5zOng9ImFkb2JlOm5zOm1ldGEvIj48cmRmOlJERiB4bWxuczpyZGY9Imh0dHA6Ly93d3cudzMub3JnLzE5OTkvMDIvMjItcmRmLXN5bnRheC1ucyMiPjxyZGY6RGVzY3JpcHRpb24gcmRmOmFib3V0PSJ1dWlkOmZhZjViZGQ1LWJhM2QtMTFkYS1hZDMxLWQzM2Q3NTE4MmYxYiIgeG1sbnM6ZGM9Imh0dHA6Ly9wdXJsLm9yZy9kYy9lbGVtZW50cy8xLjEvIi8+PHJkZjpEZXNjcmlwdGlvbiByZGY6YWJvdXQ9InV1aWQ6ZmFmNWJkZDUtYmEzZC0xMWRhLWFkMzEtZDMzZDc1MTgyZjFiIiB4bWxuczp4bXA9Imh0dHA6Ly9ucy5hZG9iZS5jb20veGFwLzEuMC8iPjx4bXA6Q3JlYXRlRGF0ZT4yMDIwLTEyLTE2VDAxOjAyOjI2LjExNDwveG1wOkNyZWF0ZURhdGU+PC9yZGY6RGVzY3JpcHRpb24+PHJkZjpEZXNjcmlwdGlvbiByZGY6YWJvdXQ9InV1aWQ6ZmFmNWJkZDUtYmEzZC0xMWRhLWFkMzEtZDMzZDc1MTgyZjFiIiB4bWxuczpkYz0iaHR0cDovL3B1cmwub3JnL2RjL2VsZW1lbnRzLzEuMS8iPjxkYzpjcmVhdG9yPjxyZGY6U2VxIHhtbG5zOnJkZj0iaHR0cDovL3d3dy53My5vcmcvMTk5OS8wMi8yMi1yZGYtc3ludGF4LW5zIyI+PHJkZjpsaT5BcnNoIE1vZGFrPC9yZGY6bGk+PC9yZGY6U2VxPg0KCQkJPC9kYzpjcmVhdG9yPjwvcmRmOkRlc2NyaXB0aW9uPjwvcmRmOlJERj48L3g6eG1wbWV0YT4NCiAgICAgICAgICAgICAgICAgICAgICAgICAgICAgICAgICAgICAgICAgICAgICAgICAgICAgICAgICAgICAgICAgICAgICAgICAgICAgICAgICAgICAgICAgICAgICAgICAgICAKICAgICAgICAgICAgICAgICAgICAgICAgICAgICAgICAgICAgICAgICAgICAgICAgICAgICAgICAgICAgICAgICAgICAgICAgICAgICAgICAgICAgICAgICAgICAgICAgICAgIAogICAgICAgICAgICAgICAgICAgICAgICAgICAgICAgICAgICAgICAgICAgICAgICAgICAgICAgICAgICAgICAgICAgICAgICAgICAgICAgICAgICAgICAgICAgICAgICAgICAgCiAgICAgICAgICAgICAgICAgICAgICAgICAgICAgICAgICAgICAgICAgICAgICAgICAgICAgICAgICAgICAgICAgICAgICAgICAgICAgICAgICAgICAgICAgICAgICAgICAgICAKICAgICAgICAgICAgICAgICAgICAgICAgICAgICAgICAgICAgICAgICAgICAgICAgICAgICAgICAgICAgICAgICAgICAgICAgICAgICAgICAgICAgICAgICAgICAgICAgICAgIAogICAgICAgICAgICAgICAgICAgICAgICAgICAgICAgICAgICAgICAgICAgICAgICAgICAgICAgICAgICAgICAgICAgICAgICAgICAgICAgICAgICAgICAgICAgICAgICAgICAgCiAgICAgICAgICAgICAgICAgICAgICAgICAgICAgICAgICAgICAgICAgICAgICAgICAgICAgICAgICAgICAgICAgICAgICAgICAgICAgICAgICAgICAgICAgICAgICAgICAgICAKICAgICAgICAgICAgICAgICAgICAgICAgICAgICAgICAgICAgICAgICAgICAgICAgICAgICAgICAgICAgICAgICAgICAgICAgICAgICAgICAgICAgICAgICAgICAgICAgICAgIAogICAgICAgICAgICAgICAgICAgICAgICAgICAgICAgICAgICAgICAgICAgICAgICAgICAgICAgICAgICAgICAgICAgICAgICAgICAgICAgICAgICAgICAgICAgICAgICAgICAgCiAgICAgICAgICAgICAgICAgICAgICAgICAgICAgICAgICAgICAgICAgICAgICAgICAgICAgICAgICAgICAgICAgICAgICAgICAgICAgICAgICAgICAgICAgICAgICAgICAgICAKICAgICAgICAgICAgICAgICAgICAgICAgICAgICAgICAgICAgICAgICAgICAgICAgICAgICAgICAgICAgICAgICAgICAgICAgICAgICAgICAgICAgICAgICAgICAgICAgICAgIAogICAgICAgICAgICAgICAgICAgICAgICAgICAgICAgICAgICAgICAgICAgICAgICAgICAgICAgICAgICAgICAgICAgICAgICAgICAgICAgICAgICAgICAgICAgICAgICAgICAgCiAgICAgICAgICAgICAgICAgICAgICAgICAgICAgICAgICAgICAgICAgICAgICAgICAgICAgICAgICAgICAgICAgICAgICAgICAgICAgICAgICAgICAgICAgICAgICAgICAgICAKICAgICAgICAgICAgICAgICAgICAgICAgICAgICAgICAgICAgICAgICAgICAgICAgICAgICAgICAgICAgICAgICAgICAgICAgICAgICAgICAgICAgICAgICAgICAgICAgICAgIAogICAgICAgICAgICAgICAgICAgICAgICAgICAgICAgICAgICAgICAgICAgICAgICAgICAgICAgICAgICAgICAgICAgICAgICAgICAgICAgICAgICAgICAgICAgICAgICAgICAgCiAgICAgICAgICAgICAgICAgICAgICAgICAgICAgICAgICAgICAgICAgICAgICAgICAgICAgICAgICAgICAgICAgICAgICAgICAgICAgICAgICAgICAgICAgICAgICAgICAgICAKICAgICAgICAgICAgICAgICAgICAgICAgICAgICAgICAgICAgICAgICAgICAgICAgICAgICAgICAgICAgICAgICAgICAgICAgICAgICAgICAgICAgICAgICAgICAgICAgICAgIAogICAgICAgICAgICAgICAgICAgICAgICAgICAgICAgICAgICAgICAgICAgICAgICAgICAgICAgICAgICAgICAgICAgICAgICAgICAgICAgICAgICAgICAgICAgICAgICAgICAgCiAgICAgICAgICAgICAgICAgICAgICAgICAgICAgICAgICAgICAgICAgICAgICAgICAgICAgICAgICAgICAgICAgICAgICAgICAgICAgICAgICAgICAgICAgICAgICAgICAgICAKICAgICAgICAgICAgICAgICAgICAgICAgICAgICAgICAgICAgICAgICAgICAgICAgICAgICAgICAgICAgICAgICAgICAgICAgICAgICAgICAgICAgICAgICAgICAgICAgICAgIAogICAgICAgICAgICAgICAgICAgICAgICAgICAgPD94cGFja2V0IGVuZD0ndyc/Pv/bAEMABwUFBgUEBwYFBggHBwgKEQsKCQkKFQ8QDBEYFRoZGBUYFxseJyEbHSUdFxgiLiIlKCkrLCsaIC8zLyoyJyorKv/bAEMBBwgICgkKFAsLFCocGBwqKioqKioqKioqKioqKioqKioqKioqKioqKioqKioqKioqKioqKioqKioqKioqKioqKv/AABEIARoCqwMBIgACEQEDEQH/xAAfAAABBQEBAQEBAQAAAAAAAAAAAQIDBAUGBwgJCgv/xAC1EAACAQMDAgQDBQUEBAAAAX0BAgMABBEFEiExQQYTUWEHInEUMoGRoQgjQrHBFVLR8CQzYnKCCQoWFxgZGiUmJygpKjQ1Njc4OTpDREVGR0hJSlNUVVZXWFlaY2RlZmdoaWpzdHV2d3h5eoOEhYaHiImKkpOUlZaXmJmaoqOkpaanqKmqsrO0tba3uLm6wsPExcbHyMnK0tPU1dbX2Nna4eLj5OXm5+jp6vHy8/T19vf4+fr/xAAfAQADAQEBAQEBAQEBAAAAAAAAAQIDBAUGBwgJCgv/xAC1EQACAQIEBAMEBwUEBAABAncAAQIDEQQFITEGEkFRB2FxEyIygQgUQpGhscEJIzNS8BVictEKFiQ04SXxFxgZGiYnKCkqNTY3ODk6Q0RFRkdISUpTVFVWV1hZWmNkZWZnaGlqc3R1dnd4eXqCg4SFhoeIiYqSk5SVlpeYmZqio6Slpqeoqaqys7S1tre4ubrCw8TFxsfIycrS09TV1tfY2dri4+Tl5ufo6ery8/T19vf4+fr/2gAMAwEAAhEDEQA/APMfBmjWWu+Ivsmp+f8AZktbidhbyKjt5cTOAGKsBkrjoan0LQdM8S6rqhhnu9L0+xsZL0hgt3NtTblf+WQJOT6envU/w2/5GyX/ALBt7/6TSU/4d6jZ6ZceIJdQ+ysj6JcxpDdSFFnc7cR8MrEnHRSD6VvLd/4b/PX/ACMV09f8ijrXhiKz0rTNV0W9k1Kw1J3hj8y38mZJkIyjRhnHRlIIY5z2rN1HQNY0eWGPV9JvrCSfPlJdWzxGTH90MBnqOnrXS6Frtrr/AIt0Gw1qSHQtDs5G8uKykeJImYZJMjMzAswUF2Y4HoBWtrFzYW3gawsduhWNymupcNaaXqDXISMxkb2ZpZBzgZ2tgcZwaa317/rb+v6Ynt8v8/6/qxw1z4e1qysDfXmkX9vaLIYjcS2zrGHBKldxGMggjHqDSSeH9Zh0hdVl0i/TTmAK3jWziE5OBh8beTx1roPG/iq/uvHPig22qfabPULh7dnDLKkkCyZjCnkYG1SCv9a7CU6Dpcev/YLnRpLS40JoLXUJNUeW9vXMSna0fmlUIZcbWRSMKBk1Ck+TmLcUp8pw9ho2j6j8P9Y1SOG+h1LSvs+52ukaGbzJCv3PLDLgD++eaPC2jaPrmlayl1DfJf2GnT30c8d0gibZjCmMxk9+Tv8AwrW8M6W7fDfxHbtf6TFPqYtGtYptWtY3cJKS2VaQFcDs2KZ8P7Ax2uvzXF9pdut3pFzZwi41S3iZ5TtwNrOCAcH5iMe9U/ten6f5krePqvz/AMjkNM0bVNameHRtNu9QljXc6WkDSsq5xkhQcCtDwzp1hc+KrfSfEFpff6RcJalYJ1geFy4Ulg0b5xz8uAc966jw+1ongS+0N4NBvNTg1UTyQajqXkxzR+XtVo5kmjRyp3cbjw5IqvDc3/iH4tQarqsmjWcltdW0l00epQrCETYMrI8pEh2rk4ZjnNVG3Ol0/wCGJlfkb6nL6lozReL7vRNMSSdkvntLdTgu5EhRRxgZPFW/EGg29l4hGiaC1xql1bJ5d08Sb1knXJk8pQM7FAxk9dpPANdDbzQaF8cbbVL66s5LKXV2uFntryGdVjaU4clGYLjOcHB9qZ4Pifwn8aIotcnSyksp51kmncIoPlvtbceMHIIPfI9ayi3yRv2f4WNJJc0rf1v/AJHH6houqaTHBJqum3lklwu6FrmBoxKOOVLAZHI6etUa6ubUkuvhbLDc3iy3z699oaOSXMjBoSGfBOcE4yfWuUq+rX9bXJ6J/wBbnTf8ItcWPhS/1DW9C8Q20/7prK5+xlLTaT8xkZhnkEbcdzWVB4f1m60qTU7bSL+bT4wS93HbO0SY65cDAx35roPC5A+HPjbJAzDZgf8Af8V0tpeWjeLvDHia01ixttG0yxgSeF7xFmgEaESwiAt5jFzu+6pDeZknrg7v+tv6+8On9eX+f4HKy+Cbu68JaFqWg2Go6jdXy3L3UdvCZViEcgVSAq5A55yTzWDpmi6prU7w6Ppt5qEsa7njtYGlZRnGSFBwM16Gl2dW8K+Ek0rWbDTbfT7+5ubmGbUooTbHzgyP5ZYM5C5xtUnqB1qta60msa14mEOnaXd6BquoNcPb3eqxafMpBcxvGzyLyN+SCrr7UXf5/p/np6fc7L+vn/l+P3+eXFvPaXMlvdwyQTxMUkilUqyMOCCDyCPSoq7KO48P+H/FGrW1hqjS6crhba4fRLXUTIB1/wBcVC4JxuUfN1wOKoa1rOnT6ta3NukOqQxIQ8M+kRaajH0K2smW9c7ge3ShO6QmtzG06y/tC/jtvtNvah87prmTZHGAMkk9eg6AEnoASQK1PFfhyHw3eWEdtf8A2+G9sYrxJfJMXD54wST26nHXoKqzyR67qUEWnaZp2lMw2hI7l442PXLPPKwX/voCum+Ilnm30G4hvdNuUtdItrOYWupW8zJKu7cu1HLED+8Bj3obsk/P/P8A4ALd+n+X/BMXxNoFrp1vp+q6NNLPpGqRs1u0+PMidDiSJ8cblJBzgAhgatRaNo178O7/AFm1hv4L/T57eGTzLpJIpfM3ZIURqV+7wNzdan1MHT/hLo1ldH/SL7UJr+GM9UhCLGGx6MwOPXZS6N/ySDxP/wBf9j/7VpS0UvJr81/nYa6fP9f+HOWTT7yXT5b6O0nezhYJLcLETGjHoC2MAn0NVq2bWC8bwhfzR63BBZrPGJdLa7KyXDHo4i6MF9T0rGqupPQ2ZvD/AJPgq18Qfac/aL6S0+z+X93Yitu3Z5zuxjHbrVnWPB19Y+IYNH0tLjVrmazhulS2tmL4kjEhAVck4z19s8Vp2Kxa98MYdHtLyyh1Cy1V7hoby7jtg8UkaqGVpGVTgpgjOeQcVt3Ovi48c36aQmlarpp022068W+v0s47lI1jDGORpEI+ZOCCeOSCKTvzNf1t/mNbJ/1v/kcLb+HdVPiBNJuNH1I3gYGWyitW+0BMZJCEZzt55FSa3o4j8V3Wm6Hpuroqt+6tL+H/AEsALuO9FHXGTwOlXdd0DTW8UJY+GLuBka3SWVbrUYPLglIy8YuCUjkx2Yde2cZru5ri1sfj/Brzarpf9nyk+XdRajBIqlbXb821yV+bgbsZPSlfZ+o7b2PK9Q0XVNJjgk1XTbyyS4XdC1zA0YlHHKlgMjkdPWrdx4P8TWti97deHdWhtUTe08ljIsar6liuAPeun8O3wvvDem209351/L4rhnMZ/fSsGT5pPL5ZsnGeOTxWr42S7Fj4oi0jS4TBc6h9s1KVdegvmQLIwDLFHh413PyWDEZAJHNEm1/Xp/n+ARSf9ev+X4nlVdbr/gi7srPTrzRbDUby1l0mG+vJ1hMiQO4YtllXCqAuefzrkq9gg1VU1rwXrja5YrpGi6TELiL+0IjIrhWEkYg3byzDC/dwcjJwKctI38/0ZK3+X6o8w03w/rOsQyzaRpF/fxQnEj2ts8qpxnkqDiodO0vUNYuvsuk2NzfXG0t5VtC0j4HU4UE4r0TwoNEg0zw/qKSaTLNHqEk16dU1OSE6cFdSnkwpKrNkDOQr8gA4ANQXNxaato/izSNI1Oztr24103eJrqOCK9tgzhVWViEO1mDbSeRyM4obt/Xp/nf5FWX9fP8Ay/E5iw8Nh9F8ST6nHc2t7o8cRWB12EM0qowdSM8Anjjms19D1aO5tLeTS71Z71Ve1iNu4adW6FBjLA9iM12vgrVrDwwPER8QfYtV8uK0X7MblZFn2zJlUOcOUA7bl+XutX7C4sbL4gavdXuu6frK65pkwsr29uSql5MYjn2MrQnaGQ8qBnjilf8Ar5bfP+ri/wA/8vyPPbjw/rNpqS6ddaRfQXzpvW1ktnWVlwTkKRnGAefY0zUNF1TSY4JNV028skuF3QtcwNGJRxypYDI5HT1r0vQNfmsPGXha21SPw/pGn6abt7d7DU1uFjLxnO5zPJt+bGASOScZrF8P65p8fhfT5NfuUudnimK7uYZH3yNEY/3jlepBI5Pc8U1r/Xnb/gg9P68rmXB4JvovBWr65rGnalZC2S3azeWBo4p/MfaeWX5vlIIwa5SvStVjhs/Dvjea+1/Tby81S5he2igvEnknjE+4yZUkDgj5SdwwcgAc+a0ottXY5KzsbOseH/7J0PRNR+0+b/a1u83l+Xt8rbIyYzk5ztz2qvpvh/WdYhlm0jSL+/ihOJHtbZ5VTjPJUHFdbq+mtr/gnwmum32lGSzs5o7iOfVbaB42M7sAVkkU9CD0qWONdV0HwmNH1jT9PbR3kW8W4v44Ggm87f56hmBkBXbym4/JjHSq6tPu/krvUnon5fpsczDokEvgOfWg0xuo9SjtFQEbCrRs2cYznKjv+FUr3QdY01JX1HSr60WFlSVp7Z0CMwyoORwSOQD1Feqaf438OW9xreossccF54i822ZQpntVaKQC6SI8EqSDgqcZ9cGsDw7YM3izWfBt7qtpqMevxFY9QiuPOja4XMkMrMuT97IYHkbzmou2/u/Jaev9dyrJL+u71/r/ACOe8NeEm1hrmXVJbrTbKDTpdQWdbTzDOkZAIQMyBuSRndjIxUeu+Go9OstJv9Ku5dQs9WV/s/mW/lTB0fYysgZh1IxhjnPau00TxFb3PjPXUs7qxhtrbQZdM0r7fJEsUgTaqZ875DvILENx8xprXOk6jrng618T6pa217btMl9LpdxGkEMW7dCgaE+VGSS24x4wGyec027tW2/4f/gCtZO+/wDwF/wTzzVNC1fRGjXWtLvdOaUExi7t3iLgdcbgM9RSz6DrFrpcWp3WlX0NhNjy7uS2dYnz0w5GDnHrXfaneaTY+DNNtbyDRIDFr8dzPp+k3zXX7nyyGYlpJASQoHytjpnBrD8dW1zc+INX12PXLG/sr6bfDJFfxtLLGzBkQwhvMTaMZDKAuzHpkv8A193+f4Dt/X3/AOX4lPxF4TmsfEt1p2hWt7fRW1rDcyFYzI0atEjszbRwoLdcccVk2+gaxd6XLqdrpN9PYQ58y7jtnaJMDJy4GBjvzXpvi/VtM8SaTqGkaRqllYXVvHbXMp+0IsWrKsEY2mQn/WRkHCZ2nnjcM02HXhDb+G9Y8MWfhm5n0/TUty2oambaa3kUMJFMTXEasrFmbIUg7jnNDdk/676/p/VhJXt/XbT9Tzex8N65qcSyabouoXiMpdWt7V5AVBwSCB0B4z61Fpmi6prU7w6Ppt5qEsa7njtYGlZRnGSFBwM12ya7Enh74e20epRxra6hNPcwpOAIG+0KVdxn5flJwT2zU2pfYde0TWNN0zVNOtJf+Ekmubhri7SJJrcgiOQEn94FO75U3N82QDmm9P680v1/D7i2tv66/wCX4nJeNNCh8NeLrzSbYzGO3Ef+vI3gtGrEHAHdj2rIjtLia3muIbeWSG32+dIqErHuOBuPQZPAzXR/Ei6tLz4gajPpt3HeWrCERzxHKuBCgz+nTt0q58O7jT3/ALb0vWruC1sry0R3aeQIGMU8b7RnqxUOAO54oW12D3scra6VqF+qNY2Fzcq8wgQwws+6QjIQYHLEA4HXitfxD4f+zeILXTNG0jXoZ5oIybTUrbbcSSnO4oijJTI478Gum8V3Gl6n4V0238PyabbyazqL3z2UdxHElkwhRCj7iBGN/mFdxAxiqPxEs82+g3EN7ptylrpFtZzC11K3mZJV3bl2o5Ygf3gMe9K/5/p/noO35fr/AJFHxT8PNb8LiKaaw1CWzNrDPNdNYvHHCzgExs3IBUnbyRz2FHjTwTd+Hta1AadYajNo9o0ai+lhLICyKSDIFC5y2Pyq544hTWI9M1vTr2wmtI9JtIZE+3RLOkiIEZTCWEhII7KRjnOK39c8RW178Q/Fsr6vDPaSaDJbWrm5DRt+6jIjQ5wfnycDvnvQ7q/lzfhsCtp52/Gx5RXV+AvBD+NtWkt5L5dNtItiyXbReZiR22xoFyMlj78AE9q5SvUfBPiHwvDP4T09tRvtO+xXwu7zzbSLyJ7gnAdpTMCqKuFHy8cnHNV0/r+v+CQzzCRdkjLnO0kZqWzsrrULyO0sLaa6uZTiOGCMu7n0Cjk1Jqi2aanMNMuJri23ZSSeERO3rlQ7Ac5/iOfbpXS+Cbm3/sbxJpiX0On6nqNmkVpPPKIkdVcNJEZDgJvUY5IBxgnmktrlySUrI56XQtXh1ZdKm0u9j1FyAtm9u4mJIyMJjPI9qdceH9ZtNSXTrrSL6C+dN62sls6ysuCchSM4wDz7Guo8MoulXGsaTf6nYxX95pD29lcLfI8MLM4YxecrFF3qGGd2BvwSMmuj8J6rZ6BeeENM1TU7E3dhc3tw88d5HJFaRyRYSPzVJTJYFsBjjI7nFJuy/rz/AK/pXEr/ANeX67HmOoaLqmkxwSarpt5ZJcLuha5gaMSjjlSwGRyOnrTp9B1i10uLU7nSr6Gwmx5d3JbOsT56YcjBzj1rprDWLNvA1v8A2zcC6kHiVLq4geQNLJGY/wB4208nOME9zTPHNtc3PiDV9dTXLG/sr6ffDJFfxtLLGzBkQwhvMTaMcMoC7MemX1t/XT/P8BKzV/66/wCX4nMPpOpR3U9tJp90lxbRmWeJoWDxIACWYYyBgg5PrU9r4c1y+gaey0bULiJYhM0kVq7qIySA5IH3cq3PT5T6V6VqU2nT+JPFPiJda0sWmpaG8dnF9sQzSu0CDYYwcoQVIw2MnAGa5rW/FV5Y6X4K/sbVcPpdj5qpE6uIJzPJksvI3bdvBHTHY0m3p8v1/wAgSv8A16f5nMaf4f1nVtn9laRfXu8MV+zWzybguN2NoOcblz6bh603T9C1bVrqW10vS729uIQTLFbW7yOgzjkKCRzxXR3uvyx/C/RrG01EJL/at1c3FvFIAQQIvLdlHQZ3Y7dcdK19H1uPXvBupR3sei3+tT6v9uuItVuzZLOrJgOrLLEpKsW+Un+MkCn/AF+X/B+77jTTz/4P+S+/7+FttD1a8uJbe00u8nmhkEUscVu7MjkkBSAMgkgjB54NamgeB9a1vxbDoUmn39rN5qJdFrN2a0RiPndeMDBzzj611N54purrRfHcupXNhZanfJYw+VYXausyqdrBGDv5nyY3EM3U5qs2uafbeN/AeoTXkbwWNjYi6kRt/lFHbIbGTkDHHXGKcdWr91+VxS0Tt2OS17w1q3hy7aLVtOvbSNpHSGW5tniEwU4yu4c9QeM9RWfa2lxfXKW9lby3E8n3IoULs3GeAOTxWt4q0mbT9auZnubC4iuLiVons7+G43LuzkiNiVyCMbgP0NO8D6kmkePNFvp3WOGK8j812bAVCcMSew2k1NO8oq+5VS0W7GPb2lxds62lvLO0cbSOIkLbUUZZjjoAOp7Vbk8P6zDpC6rLpF+mnMAVvGtnEJycDD428njrXpTXPhfStE1j7FPpxuNNsW0x/ImXfqXmvETIp/5abT5y7h/CE7Uy7v7S28b694ofVrC50O+sJo4LeO8RpZlki2xW5gB3rtO3O5Qq+XnPTKctLrt/wy+elh8utvP/AC/I86tfDmuX0DT2WjahcRLEJmkitXdRGSQHJA+7lW56fKfSr1x4cB8LaDfWCXNxf6pc3EBgQb9xQoFCKBnJ3H17Vr634qvLHS/BX9jarh9LsfNVInVxBOZ5Mll5G7bt4I6Y7Gug8MeJNLg8F6VplzfwafqN619DHqiMPM05nMeCw/gR+VLABgMkEDNU73dul/w/zJVtL9bfiv0POrXw5rd7qE9hZaNqFxeW2fPtorV3kiwcHcoGRzxzUEOk6lcXUttb6fdSzwuEliSFmaNiwQKQBkHcQuD3OOtd5ogs4PBOoaAY/D9/qVvqvnyRX2pGGKePy9qvHMk0aPtO7gseHJA60v8Awll81143v766sdP1W60yG3QWF2rrJiSFSEcO+8lAckMT973pX1/rt/S/qw7fn+tv+CcLPoWrW2qppdzpd7FqEhAS0kt3WViemEIyc9uKbqej6notwsGsadd6fM671juoGiYrnGQGAOMg8+1bvhvxHrn9t6ebeWxuGsbSW0hj1GaO3iEDhtyGRmT++2Pmzzx6U3xrp+h2U9lJomy3nuEd7uwiv0vY7U7sKFmThgRzjLEdzTd00LRnL0Vqa9on9g30dqdS07Ut8Ky+bp1x50a5z8pbA+YY5H0rLpiNfwzca3ba9E/hiCW41Eo6JFFai4LqykOPLKsGG0nPB4qDW11BNYnXWbL7DejHmW/2NbXZwMfulVQvGD0Gevet34bf8jZL/wBg29/9JpKvfCo3a6l4gOnXH2W7GhXPkzfaBB5bZTB8wkBfqSMUnv6K/wCf+Q1+bt+X+ZwlFei66X8QweF9G1K5Ot+I/OlS5nsZkupvJZgY4zKGKyMPnOdxCg8nqKqa74M0+10Gx1Sz323m6kLGa3/tW21DgruDCSEAKeGG1hnoaa1++36Ceiv/AF/WhwtFdr4p0Twfo19rmkWV5qf9oabIUgnuSpjuWEm1o9iplSF/jLYYqeFyBV1fANo+g37TW91Y39nppvg1xqdszSYCsVazUebGCpOCWPYkc4qVJOPN0K5Wpcpxr6BrEejrq0mk3y6a2Nt41s4hOTj7+NvXjr1ot9A1i70uXU7XSb6ewhz5l3HbO0SYGTlwMDHfmui8N/8AJL/Gn1sf/Rxo+Hn3fFP/AGL13/7LTf2vL/K4lul3ONq7pmjaprUzw6Npt3qEsa7nS0gaVlXOMkKDgV0vhnwjaah4Zl1zUiJo/tf2SG2Gq22nkkIHZzJOCDgMo2gZOScjHJDpNlonxe02x0rUI9Rs01G2aK4jkR8hmRtpZCVLLnaSDjINUleaj/X9akvSPMchNDLbzyQ3EbxSxsUeN1KsrA4IIPQg1f1e81a9j099Z85lS1WO0kmi2l4VZguGxlwDuAJzjGO2B0UWjw+IPjZNpd0SILrWpUl29SnmsWA9yARTtOVPiP8AFSO31eWW2tLppEjW3AH2aJEYxoikYCqFAx9e5zWcZc0U/n+H/BLatJrt/X6fkcjY3sun3iXUCwPJHnC3FukyHIxyjgqevcVrSeMdTliaNrbRQGBUlNCslIz6ERZB9xVrVtH0V/B6a5oP2+IR6gbGRLyVJPNHl71kXaq7Ohyp3Y4+Y1y9VvoLbU6C71rxHreg3AeNn06GRHu5bWxSJWc5CNNJGg3sSTguSck9ya5+u30+DS774feI5tLOtWD2Uds80L6kslvdFpQvzRrEnTkjJOKntfB+hJrmkeG9TbURq2qW8T/a4ZkENtJMu6NTEUJcDK7iHXqcDjk6u39aB0/r+upxEtncw2sFzNbyxwXG7yZXQhZdpw209Dg8HHSoK9Ru7LQo/A3g2y8TDUHkNzeW4FjKiCMfaAHcsytuxxhQBnn5h3zNM8B2R1nxBpdy82q6jpd0be206zvIrWW6AL7pFMivuwE+4oLfN7cl1v8A1/Wq/q4We39f1ozgaK2V0a3l1W9t7y9i8P8AkSELBqqzvIvJ+U+VCfmHfKr9Kjm0SP8AtGCz07WNN1FpgT5scj28aEdme4WMD+X40BsZVKOvFazW1x4Y1aCW6i0u+dVLpGLmK8izyAW8p2UkHna3BwMgjg9B8Trma8vPDlzcvvll0C1d2wBknf2HA+gp3tZ+f+f+QW1t/XT/ADOZ1661W81mZ9fEq3y4jkjmi8oxhQAF2YAUAAAAAAVr3k/i6HwUlvdaXNaaDOYnE66SkKTkA7CZhGC55OCWOc1a1+U678OdH1y7JbULO6k0uaZjlp4wokiJ9SoLLn02+lGjf8kg8T/9f9j/AO1al6Ra7W/Nf53Bbp97/r/kcbRWjB/Y39gXX2n7d/a/mp9m8vZ9n8v+Lfn5t3pjis6qEFFehWuvavoHwd0yfRNTu9PkbW595tpmTeBFGQGAPzD2PFX/ABZ4Y0mOW48Tanbyx2jWNhLJY2BSAvdTxksAdrCNfkZj8p5IAxnITdm/l+KuNK6/ro7Hl1Fei2fgPQrqUag91qEOjz6HLqsSgo88TxPseMnAVxkHBAXORwMGq1r4I03Xb3w02jS3Nja6yLjzkvJklaDyCS5DhUUgqOMgYPU45ovrb+uv+TDpf+un+ZxNpd3FjeQ3dnM8FxA4kjlQ4ZGByCDWzf8AjTW9Rs7q2mmtYo7wg3P2Swgtmn5zh2jRSwzzgkjPNaXibw1o1h4cj1HTrmO3uhdeQ9g2s2uoO8ZUkSq0GNoBBBBHcc9q46jR6BZoKKK9b8HxJ4X0W60lkX+1ta0S8u7wkcwWwt3MMXsWP7w9DjYKG7Rb/ruCV5KPf/hjySiu9+Gl/wCIZtZtbOw1BrLRLGT7VqZ3CODyMjzDNj/WZA2gNnrgYGa47VpbWfWr2bT4/KtJLiRoIwMbULEqPwGKHvb+v6/yBbX/AK/r/Mp0V33wjk05fFjreWt1LcGzuikkV0saKv2d9wKmNiSRnB3DHoaxNM03Tdf8RR2+kaVqYtUgeWaF7+JnO0EljM0aJEmMZZlOPfOKOtvK/wCf+QulznKdHG8sixxKzu5CqqjJYnoAK7fWPBmlWd94af7d/Z1jrEjR3DSX0N6trskClvOiwjDDA4wMHOabq/h2PQfE+jfZtG1KytpruNoru5vo7uG6TcpVo3jjVehycM3UdKcbNpd3YJXSfkjjJ4JrW4kguYnhmiYpJHIpVkYHBBB5BHpUdei/Erw7Y6DqepXmqNcT6nq19cT2aWzqIIYRKw3O+073J42KRt/iOflqhrPhGxsfCMOp6TZX+rRtBG02q217E1vbykKzRyQrGXjxu2/O65PPtURlePMy5RtLlRxNFFFWQFaWna/qOk2dxbadLFAtypWSVbeMzbSMFVlK71BHBCsAcnPWs2ijyDzCiiigArR1HRbjTNP0y8neJo9SgaeEISSqh2Qhsjg5U9M8VnV1vi3/AJFPwb/2DZf/AEplpPRL1/R/5DW/y/yOSoor0nT/AIeaOLXTIta1CO1l1GzW6a+fWbSFLTzFLRhrZ/3kg+7khl+8cDjJb0Vxbuxw1voGsXely6na6TfT2EOfMu47Z2iTAycuBgY781n12fw+G3/hKhkHHh67GR3+7VPwt4eg1Oxur2+sbme3ikWISDU7fT4lYgnBlnBDNgfcAzjnNHX5X/FofT52/I5iivRbnwJoWkXXi06rdX81toTWxgW2aMNOJuisxBAPKjeMjqcHgVT/AOEQ0NvEOhmS/ls9H1ewN4n2qeNZEZd4MJlIVAS6YDlQPmHHHKTvr/W1wt0/r+tThqK7c+BXufH9l4fk0zUNAWZWaQ6hcpPuVAzM6SBI0ZdqkA8jI+9jpPe+BtMvIdOTRbuK11C71FLL7DJrNrfsyOOJg0GNoBBBBHcYPaha28/+GB6XOHjtLia3muIbeWSG32+dIqErHuOBuPQZPAzUNejGLRLTwR41stEgv91s1rFJc3dwjCbbPjcsaoNmSCcFm+tcVL/Y3/CP2/kfbv7Y85vP37Ps/lY+Xbj5t2eueKSkmroGmnZmdRRXoHgHVpX0PxJpkcNvDCmgXckjxx4knbK4Luck4BwFGFHXGSSaeib7AtWkef0V6B4Y+yaL8PJtcbU7rSry61I2a3ljaia4jRIw+2Ml02Bt/wAzBgxCgYILVzfjDTL3SvE9xDqN8+oyyqlwl5IxLXCSKGR23EkEqRkE8H160m7St/XcErq/9djDorf8IaHDrOsM+pMYtKsIzd6hKOqwr/CP9piQo92r0DWre1+IPiLw7Lq7SWNtJ4dnuQtoq/uUiknKIARggKoHbOOveiTsr/1s3+jBau39bpfqeQVZudOvbO2t7i7s7iCC6UtbyyxMqzKOpUkYYfSu78UeCfD+leHLjUNMl1EzQpYXBjnlRlEdyjHy8hBlgUzu4GDjbxk5ni61tT4U8MahYT6p5F2lwiWuoXouRbiOQLiMhEABySRii+tvO34Bbr5HHUV6PrXgnw3aaxr2iadLqjXul6cb5bmaWPyyVVHMRjCZPysfn3Dn+HufOKL3DpcKKKKYgooooAKKKKACiiigAooooAKKKKACiiigAooooA6XwHqNjpniczapdLaW8lncwec6Oyq0kLouQgLYyw6A1UtNUk8MXepwabc2eoR3tm9k86JJsKOBkqGCMCMY5Hrwal8GaNZa74i+yan5/wBmS1uJ2FvIqO3lxM4AYqwGSuOhqfQtB0zxLquqGGe70vT7GxkvSGC3c21NuV/5ZAk5Pp6e9J769vw1/wCCNfr+On/AMvw/rt54a1611bTvLNxbMSqyruVgQVZSOOCCRwQea0L3xjPc6RBpdrpWm6fZQXa3iRWscmfMAI5Z3ZmBz3JxgYwOKNa8MRWelaZqui3smpWGpO8MfmW/kzJMhGUaMM46MpBDHOe1Zuo6BrGjywx6vpN9YST58pLq2eIyY/uhgM9R09ad9f69f+CK2n9eg3WNVn1vXL3VbpY0nvJ3nkWIEKGZiTgEk459TXRXfxI1C8e/nfS9KW91K0NpeXqxSGWdCgTPLlVOAD8gUEjkEcVg3Ph7WrKwN9eaRf29oshiNxLbOsYcEqV3EYyCCMeoNJJ4f1mHSF1WXSL9NOYAreNbOITk4GHxt5PHWpsuW3Qq75r9TV0vxkml6Bc6QvhzSbiC8EYunma63zlG3KSVmAGCf4QKboHi8eHra7it9B0u5a8hkt5pbhrjc0T4ynyzKAOByBn3qWw0bR9R+H+sapHDfQ6lpX2fc7XSNDN5khX7nlhlwB/fPNHhbRtH1zStZS6hvkv7DTp76OeO6QRNsxhTGYye/J3/AIU39r+un+Ql0RXs/FrWljeadJo+m3Wl3NwLlbCfztkEgGAyMsgkHHHLnI61DpniKHStf/tW30HTXZHSSCCR7gx27qQQVxKGPI/iZhVHTNG1TWpnh0bTbvUJY13OlpA0rKucZIUHArQ8M6dYXPiq30nxBaX3+kXCWpWCdYHhcuFJYNG+cc/LgHPeqiveVtyW9Ndh1z4smk8WweIrLT7PTr2G5F0RbGUpJJv3lmDux5PYEDHar934isdF8cxeJPCIRhMrTmzuY2xaySBleIkY3AZJUg9CueQRWNqWjNF4vu9E0xJJ2S+e0t1OC7kSFFHGBk8Vb8QaDb2XiEaJoLXGqXVsnl3TxJvWSdcmTylAzsUDGT12k8A1mrOKtt/V/wBC3dSd/wCv61/EgsdRe60VfDk9zZ2NlJefbGurhJDscRlcHYGOCPRSc98VLJ4f0xImdfGGiyFQSESG9y3sM24GfqRWfqGi6ppMcEmq6beWSXC7oWuYGjEo45UsBkcjp61RqxHYR3ek6D4M1uwtNXh1OfWPISOOGCVDAiPvJk3qAG6DClxnPOAMwW/j6/gWzmbT9Pm1OwgFva6pIkhnhQAheA4jYqDgMyEjA54GGf8ACLXFj4Uv9Q1vQvENtP8Aumsrn7GUtNpPzGRmGeQRtx3NZUHh/WbrSpNTttIv5tPjBL3cds7RJjrlwMDHfmlprcFsjWsfG89ppWnWU+kaZfNpckklncXSyl4WdgxOFkCN8wBwyn8RVC216Nbi5udV0ex1i5uZTK817JcBgxOT/qpUHJOeQa1JfBN3deEtC1LQbDUdRur5bl7qO3hMqxCOQKpAVcgc85J5rB0zRdU1qd4dH0281CWNdzx2sDSsozjJCg4GafUDQn8a+IpNcvdWt9Xu7G6vmBnNjM0AYAYVcKRwBwM1n6nrWq63Kkus6neahJGu1Hu7hpSo9AWJwKrXFvPaXMlvdwyQTxMUkilUqyMOCCDyCPSoqSSsGpPZzx215HNNaw3kaHLQTlwj+xKMrfkRW34i8W/8JJbWsU2iabZvaQpbwzWxuNyxJnamHlZSOepGfesfTrL+0L+O2+029qHzumuZNkcYAyST16DoASegBJArU8V+HIfDd5YR21/9vhvbGK8SXyTFw+eMEk9upx16Cm7aX/r+tQW+hP4l1eyOk6b4e0SUz2Gnb5ZLkqU+1XEmN7hTghQAFXIzgEnrgW7e70vT/hfqmn/2xbXN/qNzazJawxTboggfcHZowuRuHRjWf4m0C10630/VdGmln0jVI2a3afHmROhxJE+ONykg5wAQwNWotG0a9+Hd/rNrDfwX+nz28MnmXSSRS+ZuyQojUr93gbm61L+F37r81+v/AAAW6/rp/XzMaDV/I0C60v8As+xk+0SpJ9rkhzcRbf4UfPCnuMc1nVZTT7yXT5b6O0nezhYJLcLETGjHoC2MAn0NVqrqLodHpnjBrDw/Do9zoul6nbW9013EbwTZWRgoPCSKGGFHDAiiLxvqjXOpSarHbatFqmw3VteIwjZk+4y+WyFCvQbSBg46cVNp3hjSX8JW2u63rN3ZR3N89mkdtp6z7SqqxZiZU4+boATxVTUfB2rWXiRtFs7aTVLgxLPCbCJ5fOiZQyuoAzjBHbik7c2v9af5W/pDW2n9a/5/1qTt451L7RcvHb2cUM2mNpcdsiN5dvA3JCfNnOcnLFiSSTmobHxjqmmpoosvJibRZJXt32ZLeYQWDgnBHGMYHBNZ7aHqy389i2l3gu7dd01ubd/MiHHLLjIHI6+opuoaNqek3iWmq6dd2Vy4DJDcwNG7AnAIVgCeRQt0we1ixq2sWmpoPs+gabpj797SWbT5b/ZxJK6gfQDpWVV/VNC1fRGjXWtLvdOaUExi7t3iLgdcbgM9RVGhW6A79RK6rS/iV4u0qR2j1/UbhWgeBY7i8lZEDKV3KNwwy5yp7ECmat4Qi0zwfHrUesW97L9u+xTQ2ybo428vfxLnDkdDgbfRjVy18B2881lpkusNHrt/Zi7t7MWuYcMhdI3lLgq7KOgQjJAz1wNqzv8A1pf8gW6a/rX/ADILXx/dReHZtHvtI0/Uobm5N1dT3T3ImupMkgyPHMu/GeAeM89ea5m7mS4u5JobaK1R2ysEJYonsC7M2PqTW54f0HR9XltLS81yW11C9n8iGGKxMqRsSAplcuu0En+APgdfSsW/spdN1K5sbnb51tK8Mm05G5SQcH6ijS/9f12DWxa0DXLvw5rUGp2AjaWLcCky7kkVlKsrDuCpI7HngitGw8XnStUmutM0XTbWC5s3s7myUztFPG/XcWlLg9PusPuj3y7wb4J1HxlqEkNnDdLbxxSM91FatKiMqFlQkYALEADnv3rMuPDmt2mpw6ddaNqEF9cAGG1ktXWWQHI+VCMnoeg7U3vZ/wBb/wDBBbXL2peLZNUj0y3uNI01LHTDJ5FnEkiRsr4JViH3tyuc7t3JyTS3Pi6eSzs7Ow02x02ytbsXotrbzWWSYAAMxkd26DGAQOvGeay7/SNS0q9Wz1TTruyuWAZYLiBo3IJwCFYA84q63hfVtP1TT7bX9K1DTY7ydY1NzbPCXG4Btu4ckZH5iiO6SFLZ3LV7431HUtP1Oy1C2s7mDULtrxVkRs2krElmhO7K5zgg5BwOM80yPxZ9j026tdJ0XTdOku7Y2s91AZ3kkjONy/vJWUbsDJCg+mKi1zw3c2Wt65DplpeXOn6VdyQyXHllxEocqpkYDAJx7ZqqfDutLo/9rNo9+NNxn7abV/JxnGd+NvXjr1qI8rjdbf1+hbupWe5m0UUVZAUUUUAFFFFABXReItUs7/w/4atrWbzJrGxeK4XaRsczyMBkjB4YHjPWudrp/FFpb2/hnwnLBbxRSXGnyPM6IAZGFxIAWI6nAAyewpS2Xr+jGt36fqjmK6NvF5utMs7TV9E0zVGsofs9vc3HnpKkYOVUmKVAwGTjIJrnK0LfQNYu9Ll1O10m+nsIc+Zdx2ztEmBk5cDAx35pvbUS3NLw94u/4R20uoYdC0y7e7ge2nnuWuN7xPjKfJKqgcDkAH3p1n4yktNLn0xtF0u50+S8F7DazrMyW0u3blP3gJGMDDlgcDPepfC2jaPrmlayl1DfJf2GnT30c8d0gibZjCmMxk9+Tv8AwrE0zRNV1uV49G0y81CSNdzpaW7SlR6kKDgUnvby/r8UNbX8/wCvwOytPHdteaV4suvEFrZXV/qgsxFZNHMkMvlHBP7tlK4ABxuAz0HaucvPFEmpatBd6lpljdW9tALa3sG81IIYxnCrsdX4JJyWJJJJzVG20PVry4lt7TS7yeaGQRSxxW7syOSQFIAyCSCMHng02TRtTh1YaXLp12molggs2gYTFjyBsxnJyOMUWXQNTYPjnU4tR0m502C106PR932O2t0Zo03kl8+YzM27POWPHAxVW68Ro95b3ml6Jp2j3dvcC4SexackMDkfLJK6gZweAOnpxVLUNF1TSLtLXVdNvLG4kUMkNzA0bsCcAgMASMgil1TQtX0Ro11rS73TmlBMYu7d4i4HXG4DPUUeYG3qPj28v9J1PTotL0uxg1WVZrw2sLh5JA+/fuZ2I5z8o+UZOFBOaxpdX83w/b6V/Z9inkzNN9sSHFxJkY2s+eVHYYrag8E30XgrV9c1jTtSshbJbtZvLA0cU/mPtPLL83ykEYNc6+n3kenx372k62crmOO4MREbsOqhsYJHpRZK6C7epWro/D/i8eHbO5hg0HS7p7qB7aee5a43yRP1XCSqo6DkAH3rnK37HQLJdEi1bxBqUtjbXMjRWsdtai4mmK43NtLooQZxktkngA4JD6C6i2fis2lnd2Emj6ddaZc3AuVsJzP5cEgBAZGWQOODjljkYznFMPiu7n8XjxDqVpY6jPuyba7g3W5AXaqbAR8qjAAz2FTab4csZvD9xruq6lcWunR3gs4vs9os8zuVL5KGRAo2jruPJwAeTVPxRoD+GPEd1pUk63Ih2skyKV8xGUOp2nlTtYZHY5FLS/n/AMN+lh62/r+txtv4k1bT9Ru7zRb6fSGu3LSJp0zwIASSFAU/dGeB2rdPxT8USC2W7vXu0t7OW02XMsrrL5gdTI4L8yASEBvQAYrn9C0WXXdRNtHNFbRxxPPPcTZ2QxIMsxwCT7AAkkgd6fd6dZz3iw+GZdR1TCM8nm2AiZQOSQqSSZAHJJxihpW5f6/rcE3fm/r+tjQv/HOo6lp8tldWtmYZorSJwFcErbKVTnd3DHd+mKXVfGS6roNrpLeHdJtobMOLV4Gud8G9gzY3TMDkj+IH2xWXeeHdb0+Nnv8AR7+1RZhAzTWroBIRuCZI+8Qc464q94k0JNEsdKV9K1zTr6WJjdjVLfykdwR/qRgEqAec9yKNN+7DX7h9z421K71/VdXkgtRcarZtZzqqNsVGRUJUbsg4UdSfpXOVp3HhrXbSxlvbrRdQhtYW2SzyWrqkbccFiMA8jg+orMo0AKKKKYgooooAKKKKACiiigAooooAKKKKACiiigAooooA634bf8jZL/2Db3/0mkp/w71Gz0y48QS6h9lZH0S5jSG6kKLO524j4ZWJOOikH0rG8M3Gt22vRP4YgluNRKOiRRWouC6spDjyyrBhtJzweKg1tdQTWJ11my+w3ox5lv8AY1tdnAx+6VVC8YPQZ696T39Vb8/8xr8nf8v8jpdC1211/wAW6DYa1JDoWh2cjeXFZSPEkTMMkmRmZgWYKC7McD0ArW1i5sLbwNYWO3QrG5TXUuGtNL1BrkJGYyN7M0sg5wM7WwOM4NeaUU1pt/WtxPVW/rZr9TsfG/iq/uvHPig22qfabPULh7dnDLKkkCyZjCnkYG1SCv8AWuwlOg6XHr/2C50aS0uNCaC11CTVHlvb1zEp2tH5pVCGXG1kUjCgZNePUVCjaHL5WLcry5vO53/hnS3b4b+I7dr/AEmKfUxaNaxTataxu4SUlsq0gK4HZsUz4f2BjtdfmuL7S7dbvSLmzhFxqlvEzynbgbWcEA4PzEY965N9A1iPR11aTSb5dNbG28a2cQnJx9/G3rx160W+gaxd6XLqdrpN9PYQ58y7jtnaJMDJy4GBjvzVP7X9dLEroztfD7WieBL7Q3g0G81ODVRPJBqOpeTHNH5e1WjmSaNHKndxuPDkiq8Nzf8AiH4tQarqsmjWcltdW0l00epQrCETYMrI8pEh2rk4ZjnNcFV3TNG1TWpnh0bTbvUJY13OlpA0rKucZIUHApq6lzf10/yE9Y8p2lvNBoXxxttUvrqzkspdXa4We2vIZ1WNpThyUZguM5wcH2png+J/Cfxoii1ydLKSynnWSadwig+W+1tx4wcgg98j1rhJoZbeeSG4jeKWNijxupVlYHBBB6EGr+r3mrXsenvrPnMqWqx2kk0W0vCrMFw2MuAdwBOcYx2wIStFJen9f1+RTd279f6/U2ZtSS6+FssNzeLLfPr32ho5JcyMGhIZ8E5wTjJ9a5SrFjey6feJdQLA8kecLcW6TIcjHKOCp69xWtJ4x1OWJo2ttFAYFSU0KyUjPoRFkH3FVbW6/rSwvJ/1rc0/C5A+HPjbJAzDZgf9/wAV0tpeWjeLvDHia01ixttG0yxgSeF7xFmgEaESwiAt5jFzu+6pDeZknrjibvWvEet6DcB42fToZEe7ltbFIlZzkI00kaDexJOC5JyT3Jrn6Nf69P8Agh0/ry/yPUUuzq3hXwkmlazYabb6ff3NzcwzalFCbY+cGR/LLBnIXONqk9QOtVrXWk1jWvEwh07S7vQNV1Brh7e71WLT5lILmN42eReRvyQVdfavPpbO5htYLma3ljguN3kyuhCy7Thtp6HB4OOlQUWX9fL/ACHd3v8A11/zOyjuPD/h/wAUatbWGqNLpyuFtrh9EtdRMgHX/XFQuCcblHzdcDiqGtazp0+rWtzbpDqkMSEPDPpEWmox9CtrJlvXO4Ht0rnKKLbCvuak8keu6lBFp2madpTMNoSO5eONj1yzzysF/wC+gK6b4iWebfQbiG9025S10i2s5ha6lbzMkq7ty7UcsQP7wGPeuFpR14p2ukvP+vzC+t/6/rQ7DUwdP+EujWV0f9IvtQmv4Yz1SEIsYbHozA49dlLo3/JIPE//AF/2P/tWue1661W81mZ9fEq3y4jkjmi8oxhQAF2YAUAAAAAAVr3k/i6HwUlvdaXNaaDOYnE66SkKTkA7CZhGC55OCWOc1L1Tfe34NfogW6Xa/wCv+ZQtYLxvCF/NHrcEFms8Yl0trsrJcMejiLowX1PSsaiiq6i6HeWdkuufCvTtOttR0uC5h1iaWVLzUIbcxxtHGA+HYEjIP3QTx0ra1XXNL8SaTrOi6Jf28VxHa2Frb3F3OLdb6G3UhxvkKhcsQ4ViMhR3GK8popNXvfy/BWGna39dbnrdn4itdNU2w1a3Gpad4SuLN72K5Uhpi+5Io5AcOVUhQVJHBA4FUfDGvaVYL4Ck1G8t8Wcl8su9i32Yuf3TOFO5QGO7t0JHrXmVFFtbv+tW/wBQ+zy/1sl+h2/ii9vbXwv/AGN/Z/hy1sGvhchtK1T7W7SBCu7BuJCqkdTgZwM1xFFFCVgbuegyaRInwhOnm/0c3i6sb0wLrFqW8ryNucCTk542/e9q0PDPid9PfS/EHiKHQXOmWvl210tyJb+UKGEcXkpIQDyF3vGMKPvZxny6ihq9/P8AysC2S/re56J4G06107S5PFTXOkXesrJt03T7rUreDyJAf+PiVZHXgfwrzk88DBrhdRS4TU7gXssc1x5hMskUySqzE5JDoSrfUEiqtFFtbhfQ6v4b31pYeNoHv7mO1imt7i3E0zbURpIXRdx7DcRz0HU1Z8K6HaWPiO4t/EF5YBjp00ltFHq0XkXMuMLFLNFJhVPOQWUnAGRmuLopvV38rfn/AJi/4f8Ar7j03WtT+xL4J/sN9Ci1LTZ53Nta33mW8D+YjqrySyEYPPO/bnODVLW7bQ4bzSNUUWmnatLqCfa7O01RL232DaTMHUt5eWz8jOx78AV5/To43lkWOJWd3IVVUZLE9ABRG6a9Qlqn5np3xD1LTvFGn3z6LqNpaLpeo3DT6aJ1VLzfI2LqIk5lYjgjJIGNuAcVU1NbLWvC8l34qXTbTUrKwRLK807V4ZmudioscUlsruQcA5ZdgHcV59PBNa3EkFzE8M0TFJI5FKsjA4IIPII9KjqFG0bL+v6/rTQty96/9f1/W+oUUUVZAUUUUAFFFFABXW+Lf+RT8G/9g2X/ANKZa5KtzXIdUj0TQH1K5imtZLN2sUQYMUfnOCrfKOd4Y9TwevalLZev6Ma3fp+qMOvW4deENv4b1jwxZ+GbmfT9NS3LahqZtpreRQwkUxNcRqysWZshSDuOc15JRQ9Vb+uv+Ylo7nefD6z/ANF1+5mvNLtUvdIubSBbjUreFmlbbhdjuGAODyRj3pfD2l6dH4Yvo7l9IvdUi1JEe01HVvKto4Qh/fIY5U81s5Hys2B0BzXJW+gaxd6XLqdrpN9PYQ58y7jtnaJMDJy4GBjvzWfQ9/kvzuO/5v8AKx7Tf3D6w3xHk8PajabbpNPUXC3qQxOpADjzJGAweQQxyeQea5+41qWz8Q+HoNEn0u/1DTNGayvJLm7SO2k3eYDGJS6A7UcKGVuo4JxXB22rXtppd7p1vNstL7y/tEexTv2HcvJGRg+mKpUrdP62t+rC+t/63T/Q9OsW8K+HPiL4f1GB4LNZBK13aC+F9DYSEMsRE0fUZKtgMWXHLZ6Rvq/9jvpVhqumeHIdCj1qK8n/ALL1P7YzleGbabiRgpXr8ozgA+lea0VS0af9b3E9b/15HpWqxw2fh3xvNfa/pt5eapcwvbRQXiTyTxifcZMqSBwR8pO4YOQAOeOuILxfB1pM+twS2bXLrHpQuy0kLY5kMXRQem7vWZHaXE1vNcQ28skNvt86RUJWPccDcegyeBmoamMeVWRUpXdwr1DQtcv5vCvheHQPEkGkHTZpY9Sjlv47Ushm8xXKswMybWYbRu5BG35ufL6Kok9W07V7GOHxBd+CZ9MhuLnWQyWGq3EcMBs1JdGWOZljY7hjuyDG3bnNc34nsdM1/wCKFxa6Hq1rHbXUg3X19dv5CybAZD5z5YrvDYY5zx161xtFSopNf10S/Qpybv5/1/Xkdt4FvU0LxDrlh/adtb3NzYT2VpfrKohEwdWRhIeFBMfD8YJByOo63SfEMdlPpR17Xbe58QW9hqRlvzfpOY0aI+REZwxV23biAGJG4DvivHKKJLmVn2t+f+Yk7O/nf8v8j1jxXrVnqPhC8soNUtZnNlo0cMQuU+8scnmAc/wlvm9M84rG8T6YyfDvw1At9pMs2mC6N1FBq1tK6b5QVwqyEtkc/LnHeuAop/acu7uF9EvKx6vrniC1vPiJ4umbVoJrSTQZLa2f7QrRv+6jIjQ5wfmzwO+e9eUVZbTr1NNTUHs7hbKSQxJcmJhGzjkqGxgn2qtQlb7rfm/1Dp/Xkv0CiiimIKKKKACiiigAooooAKKKKACiiigAooooAKKKKAOt+G3/ACNkv/YNvf8A0mkq98KjdrqXiA6dcfZbsaFc+TN9oEHltlMHzCQF+pIxWT4D1Gx0zxOZtUultLeSzuYPOdHZVaSF0XIQFsZYdAaqWmqSeGLvU4NNubPUI72zeyedEk2FHAyVDBGBGMcj14NKW7/w2/8ASv8AMa6ev+R1eul/EMHhfRtSuTrfiPzpUuZ7GZLqbyWYGOMyhisjD5zncQoPJ6iqmu+DNPtdBsdUs99t5upCxmt/7VttQ4K7gwkhACnhhtYZ6GuX8P67eeGtetdW07yzcWzEqsq7lYEFWUjjggkcEHmtC98Yz3OkQaXa6Vpun2UF2t4kVrHJnzACOWd2Zgc9ycYGMDimtH8/11/D+uondq3l/n+tjT8U6J4P0a+1zSLK81P+0NNkKQT3JUx3LCTa0exUypC/xlsMVPC5Aq6vgG0fQb9pre6sb+z003wa41O2ZpMBWKtZqPNjBUnBLHsSOcVxesarPreuXuq3SxpPeTvPIsQIUMzEnAJJxz6muiu/iRqF49/O+l6Ut7qVobS8vVikMs6FAmeXKqcAH5AoJHII4qEpcnn+v9f0y248+m36DvDf/JL/ABp9bH/0caPh593xT/2L13/7LVPS/GSaXoFzpC+HNJuILwRi6eZrrfOUbcpJWYAYJ/hApugeLx4etruK30HS7lryGS3mluGuNzRPjKfLMoA4HIGfeqf2l3X6WJW6fmvzL3hnwjaah4Zl1zUiJo/tf2SG2Gq22nkkIHZzJOCDgMo2gZOScjHJDpNlonxe02x0rUI9Rs01G2aK4jkR8hmRtpZCVLLnaSDjINZ1n4ta0sbzTpNH0260u5uBcrYT+dsgkAwGRlkEg445c5HWodM8RQ6Vr/8AatvoOmuyOkkEEj3Bjt3UggriUMeR/EzCqi7TUun/AA363Jkrwa6/1+hsxaPD4g+Nk2l3RIgutalSXb1KeaxYD3IBFO05U+I/xUjt9XlltrS6aRI1twB9miRGMaIpGAqhQMfXuc1kXPiyaTxbB4istPs9OvYbkXRFsZSkkm/eWYO7Hk9gQMdqv3fiKx0XxzF4k8IhGEytObO5jbFrJIGV4iRjcBklSD0K55BFZxTUIp9L/l/X9M0k05Sff/g/8D+kQ6to+iv4PTXNB+3xCPUDYyJeSpJ5o8vesi7VXZ0OVO7HHzGuXrZsdRe60VfDk9zZ2NlJefbGurhJDscRlcHYGOCPRSc98VLJ4f0xImdfGGiyFQSESG9y3sM24GfqRVbN/wBdP8yd0v66/wCRs6fBpd98PvEc2lnWrB7KO2eaF9SWS3ui0oX5o1iTpyRknFT2vg/Qk1zSPDeptqI1bVLeJ/tcMyCG2kmXdGpiKEuBldxDr1OBxzRju9J0HwZrdhaavDqc+seQkccMEqGBEfeTJvUAN0GFLjOecAZgt/H1/AtnM2n6fNqdhALe11SRJDPCgBC8BxGxUHAZkJGBzwMHf+un/Df1oHT+vL/gnUXdloUfgbwbZeJhqDyG5vLcCxlRBGPtADuWZW3Y4woAzz8w75mmeA7I6z4g0u5ebVdR0u6NvbadZ3kVrLdAF90imRX3YCfcUFvm9ucix8bz2mladZT6Rpl82lySSWdxdLKXhZ2DE4WQI3zAHDKfxFULbXo1uLm51XR7HWLm5lMrzXslwGDE5P8AqpUHJOeQaNfz/T/g39fuen9fP/gfcKujW8uq3tveXsXh/wAiQhYNVWd5F5PynyoT8w75VfpUc2iR/wBowWenaxpuotMCfNjke3jQjsz3Cxgfy/GrM/jXxFJrl7q1vq93Y3V8wM5sZmgDADCrhSOAOBms/U9a1XW5Ul1nU7zUJI12o93cNKVHoCxOBQr2Qn1LLW1x4Y1aCW6i0u+dVLpGLmK8izyAW8p2UkHna3BwMgjg9B8Trma8vPDlzcvvll0C1d2wBknf2HA+grj7OeO2vI5prWG8jQ5aCcuEf2JRlb8iK2/EXi3/AISS2tYptE02ze0hS3hmtjcbliTO1MPKykc9SM+9D1S9f8/8wW79P8jQ1+U678OdH1y7JbULO6k0uaZjlp4wokiJ9SoLLn02+lGjf8kg8T/9f9j/AO1apeJdXsjpOm+HtElM9hp2+WS5KlPtVxJje4U4IUABVyM4BJ64Fu3u9L0/4X6pp/8AbFtc3+o3NrMlrDFNuiCB9wdmjC5G4dGNKW0vNr81f9WNdPn+Tt+iMCD+xv7AuvtP27+1/NT7N5ez7P5f8W/PzbvTHFZ1aMGr+RoF1pf9n2Mn2iVJPtckObiLb/Cj54U9xjms6q6k9D0K117V9A+DumT6Jqd3p8ja3PvNtMybwIoyAwB+Yex4q/4s8MaTHLceJtTt5Y7RrGwlksbApAXup4yWAO1hGvyMx+U8kAYzkcjpnjBrDw/Do9zoul6nbW9013EbwTZWRgoPCSKGGFHDAiiLxvqjXOpSarHbatFqmw3VteIwjZk+4y+WyFCvQbSBg46cVMk2215fkk1/XkOOiSf9a3/r5nRWfgPQrqUag91qEOjz6HLqsSgo88TxPseMnAVxkHBAXORwMGq1r4I03Xb3w02jS3Nja6yLjzkvJklaDyCS5DhUUgqOMgYPU45rIbxzqX2i5eO3s4oZtMbS47ZEby7eBuSE+bOc5OWLEkknNQ2PjHVNNTRRZeTE2iySvbvsyW8wgsHBOCOMYwOCafXy/wCC/wBLA/h8/wDgL9bml4m8NaNYeHI9R065jt7oXXkPYNrNrqDvGVJEqtBjaAQQQR3HPauQVWdwiAszHAAGSTWnq2sWmpoPs+gabpj797SWbT5b/ZxJK6gfQDpWbFLJBMksLtHJGwZHQ4Kkcgg9jRHzCXkerssXh/4d+J/CUAQ3VtYQ3WqSgZJuWuIgIs+kanbwcFi1L4PiTwvot1pLIv8Aa2taJeXd4SOYLYW7mGL2LH94ehxsFcfafEzxha2d7b/8JDqU/wBriEfmTXszPDhg26M7/lJ24J9CR3pNM+JXi7S5HZNf1G4VoHgEdxezOqBlK7lG4YZc5U9iBSabUl3/AMn/AMD5aDi0mvJ3/L/g/M0/hpf+IZtZtbOw1BrLRLGT7VqZ3CODyMjzDNj/AFmQNoDZ64GBmuO1aW1n1q9m0+PyrSS4kaCMDG1CxKj8BiugtfH91F4dm0e+0jT9Shubk3V1PdPcia6kySDI8cy78Z4B4zz15rmbuZLi7kmhtorVHbKwQliiewLszY+pNP7X9f16f8EXQ7j4Ryacvix1vLW6luDZ3RSSK6WNFX7O+4FTGxJIzg7hj0NYmmabpuv+Io7fSNK1MWqQPLNC9/EznaCSxmaNEiTGMsynHvnFZ2ga5d+HNag1OwEbSxbgUmXckispVlYdwVJHY88EVo2Hi86Vqk11pmi6bawXNm9nc2Smdop4367i0pcHp91h90e+R738v8/8wW1vP/I1tY8GaVZ33hp/t39nWOsSNHcNJfQ3q2uyQKW86LCMMMDjAwc5pur+HY9B8T6N9m0bUrK2mu42iu7m+ju4bpNylWjeONV6HJwzdR0rI1LxbJqkemW9xpGmpY6YZPIs4kkSNlfBKsQ+9uVzndu5OSaW58XTyWdnZ2Gm2Om2Vrdi9FtbeayyTAABmMju3QYwCB14zzTi7NPz/r+v+HFJXTXkdJ8SvDtjoOp6leao1xPqerX1xPZpbOoghhErDc77TvcnjYpG3+I5+WqGs+EbGx8Iw6npNlf6tG0EbTarbXsTW9vKQrNHJCsZePG7b87rk8+1Zt7431HUtP1Oy1C2s7mDULtrxVkRs2krElmhO7K5zgg5BwOM80yPxZ9j026tdJ0XTdOku7Y2s91AZ3kkjONy/vJWUbsDJCg+mKzjFqFvT/hv69fI0k053/r+v+G8znqKKK0MwooooAKKKKACut8W/wDIp+Df+wbL/wClMtclXReItUs7/wAP+Gra1m8yaxsXiuF2kbHM8jAZIweGB4z1pS2Xr+jGt36fqjna9J0/4eaOLXTIta1CO1l1GzW6a+fWbSFLTzFLRhrZ/wB5IPu5IZfvHA4yfNq6NvF5utMs7TV9E0zVGsofs9vc3HnpKkYOVUmKVAwGTjIJol8On9f1oC31ND4fDb/wlQyDjw9djI7/AHap+FvD0Gp2N1e31jcz28UixCQanb6fErEE4Ms4IZsD7gGcc5qLw94u/wCEdtLqGHQtMu3u4Htp57lrje8T4ynySqoHA5AB96dZ+MpLTS59MbRdLudPkvBew2s6zMltLt25T94CRjAw5YHAz3pve/kvzf6MOnz/AE/4B0Nz4E0LSLrxadVur+a20JrYwLbNGGnE3RWYggHlRvGR1ODwKp/8IhobeIdDMl/LZ6Pq9gbxPtU8ayIy7wYTKQqAl0wHKgfMOOOZ7Tx3bXmleLLrxBa2V1f6oLMRWTRzJDL5RwT+7ZSuAAcbgM9B2rnLzxRJqWrQXepaZY3VvbQC2t7BvNSCGMZwq7HV+CScliSSSc1Kvt/W3+Y9Lv8Arqv0ubR8Cvc+P7Lw/JpmoaAsys0h1C5SfcqBmZ0kCRoy7VIB5GR97HSe98DaZeQ6cmi3cVrqF3qKWX2GTWbW/ZkccTBoMbQCCCCO4we1Yx8c6nFqOk3OmwWunR6Pu+x21ujNGm8kvnzGZm3Z5yx44GKq3XiNHvLe80vRNO0e7t7gXCT2LTkhgcj5ZJXUDODwB09OKa3V/wCtf8hPrY6sxaJaeCPGtlokF/utmtYpLm7uEYTbZ8bljVBsyQTgs31ripf7G/4R+38j7d/bHnN5+/Z9n8rHy7cfNuz1zxWzqPj28v8ASdT06LS9LsYNVlWa8NrC4eSQPv37mdiOc/KPlGThQTmsaXV/N8P2+lf2fYp5MzTfbEhxcSZGNrPnlR2GKmKdtd/+GG7X02M6vQPAOrSvofiTTI4beGFNAu5JHjjxJO2VwXc5JwDgKMKOuMkk+f10fh/xePDtncwwaDpd091A9tPPctcb5In6rhJVUdByAD71b1i15P8AIS0afmjS8H+KbbSfDd9pMmtavodxd3sMy3umRb8IqupVsSocZcHjP3elbUNrqOgXnivTzr9unisvbvBqU96IXngPzPsnkK7WYNGSCwJAI55ribLXLOyuppz4b0q5LyeZEk7XBWD0VQJhuH+/u96X/hJJbrWrrVdesLXXLq6bc7XplUBvUCJ07cY6AcAUnq7/ANdP8tQWit/XX/M3Pibb7NR0W6nmhnv7zSYZr2aBtyyy7nUvu6MSFGWHDHkE5ycPwhrFv4f8ZaVq14srwWd0k0ixAFyAcnAJAz+IqC71671DXItU1BYbmSJk2wPEBCETG2MIuAEwMbRjilv9aj1DxHJqs2kadGkjhmsLeN4bbgAbQqMGA4zww5ojdP7xSs1by/Q7uPRZ/G9xoc9x4u1fWdHu9VFhKl+WSe1kYZyql5FwV7g9sEUzUvAPhuLw1Pfafc6mbj+zJb2Hznj2furkQtuAXOHzkAH5ccls1zcPjy/srzS5NMsrGwtNLuftcFhAshhabu7lnLscADluAMDHNJJ481STTPsLQWnlfYZbHIRt3lyTCZj97724YHbHbvUtO3u+f5afj+Bad5Xl5fnr+Ba1G2s5/hVa6hYzarEsOqfZWs7m+E0G4w72kRBGuwk8d+O5rWg8E+G5NQ0HSGl1RtQ1rS1vBMJY1itpGjZgCuwmRSy9MqQO7dufbxnG3hg6CPDWkC083zwQ91vE2zZ5mfPxnHbG32qOPxvqUWuaRqqwWpn0izSzgUo21kVWUFhuyThj0I+lOV3e3f8AT/MmOiV/61/yOcoooqhBRRRQAUUUUAFFFFABRRRQAUUUUAFFFFABRRRQBv8AgzRrLXfEX2TU/P8AsyWtxOwt5FR28uJnADFWAyVx0NT6FoOmeJdV1Qwz3el6fY2Ml6QwW7m2ptyv/LIEnJ9PT3qf4bf8jZL/ANg29/8ASaSn/DvUbPTLjxBLqH2VkfRLmNIbqQos7nbiPhlYk46KQfSlLd/4b/PX/Ia6ev8AkUda8MRWelaZqui3smpWGpO8MfmW/kzJMhGUaMM46MpBDHOe1Zuo6BrGjywx6vpN9YST58pLq2eIyY/uhgM9R09a6XQtdtdf8W6DYa1JDoWh2cjeXFZSPEkTMMkmRmZgWYKC7McD0ArW1i5sLbwNYWO3QrG5TXUuGtNL1BrkJGYyN7M0sg5wM7WwOM4NNb69/wBbf1/TE9vl/n/X9WOGufD2tWVgb680i/t7RZDEbiW2dYw4JUruIxkEEY9QaSTw/rMOkLqsukX6acwBW8a2cQnJwMPjbyeOtdB438VX91458UG21T7TZ6hcPbs4ZZUkgWTMYU8jA2qQV/rXYSnQdLj1/wCwXOjSWlxoTQWuoSao8t7euYlO1o/NKoQy42sikYUDJqFJ8nMW4pT5Th7DRtH1H4f6xqkcN9DqWlfZ9ztdI0M3mSFfueWGXAH9880eFtG0fXNK1lLqG+S/sNOnvo547pBE2zGFMZjJ78nf+Fa3hnS3b4b+I7dr/SYp9TFo1rFNq1rG7hJSWyrSArgdmxTPh/YGO11+a4vtLt1u9IubOEXGqW8TPKduBtZwQDg/MRj3qn9r0/T/ADJW8fVfn/kchpmjaprUzw6Npt3qEsa7nS0gaVlXOMkKDgVoeGdOsLnxVb6T4gtL7/SLhLUrBOsDwuXCksGjfOOflwDnvXUeH2tE8CX2hvBoN5qcGqieSDUdS8mOaPy9qtHMk0aOVO7jceHJFV4bm/8AEPxag1XVZNGs5La6tpLpo9ShWEImwZWR5SJDtXJwzHOaqNudLp/wxMr8jfU5fUtGaLxfd6JpiSTsl89pbqcF3IkKKOMDJ4q34g0G3svEI0TQWuNUurZPLuniTesk65MnlKBnYoGMnrtJ4BrobeaDQvjjbapfXVnJZS6u1ws9teQzqsbSnDkozBcZzg4PtTPB8T+E/jRFFrk6WUllPOsk07hFB8t9rbjxg5BB75HrWUW+SN+z/CxpJLmlb+t/8jj9Q0XVNJjgk1XTbyyS4XdC1zA0YlHHKlgMjkdPWqNdXNqSXXwtlhubxZb59e+0NHJLmRg0JDPgnOCcZPrXKVfVr+trk9E/63Om/wCEWuLHwpf6hreheIbaf901lc/YylptJ+YyMwzyCNuO5rKg8P6zdaVJqdtpF/Np8YJe7jtnaJMdcuBgY7810HhcgfDnxtkgZhswP+/4rpbS8tG8XeGPE1prFjbaNpljAk8L3iLNAI0IlhEBbzGLnd91SG8zJPXB3f8AW39feHT+vL/P8DlZfBN3deEtC1LQbDUdRur5bl7qO3hMqxCOQKpAVcgc85J5rB0zRdU1qd4dH0281CWNdzx2sDSsozjJCg4Ga9DS7OreFfCSaVrNhptvp9/c3NzDNqUUJtj5wZH8ssGchc42qT1A61WtdaTWNa8TCHTtLu9A1XUGuHt7vVYtPmUguY3jZ5F5G/JBV19qLv8AP9P89PT7nZf18/8AL8fv88uLee0uZLe7hkgniYpJFKpVkYcEEHkEelRV2Udx4f8AD/ijVraw1RpdOVwttcPolrqJkA6/64qFwTjco+brgcVQ1rWdOn1a1ubdIdUhiQh4Z9Ii01GPoVtZMt653A9ulCd0hNbmNp1l/aF/Hbfabe1D53TXMmyOMAZJJ69B0AJPQAkgVqeK/DkPhu8sI7a/+3w3tjFeJL5Ji4fPGCSe3U469BVWeSPXdSgi07TNO0pmG0JHcvHGx65Z55WC/wDfQFdN8RLPNvoNxDe6bcpa6RbWcwtdSt5mSVd25dqOWIH94DHvQ3ZJ+f8An/wAW79P8v8AgmL4m0C10630/VdGmln0jVI2a3afHmROhxJE+ONykg5wAQwNWotG0a9+Hd/rNrDfwX+nz28MnmXSSRS+ZuyQojUr93gbm61PqYOn/CXRrK6P+kX2oTX8MZ6pCEWMNj0Zgceuyl0b/kkHif8A6/7H/wBq0paKXk1+a/zsNdPn+v8Aw5yyafeS6fLfR2k72cLBJbhYiY0Y9AWxgE+hqtWzawXjeEL+aPW4ILNZ4xLpbXZWS4Y9HEXRgvqelY1V1J6HU6d4Y0l/CVtrut6zd2UdzfPZpHbaes+0qqsWYmVOPm6AE8VU1Hwdq1l4kbRbO2k1S4MSzwmwieXzomUMrqAM4wR24res7Jdc+FenadbajpcFzDrE0sqXmoQ25jjaOMB8OwJGQfugnjpW1quuaX4k0nWdF0S/t4riO1sLW3uLucW630NupDjfIVC5YhwrEZCjuMVMm03by/Ja/f8AqOOqV/61/wAv0POG0PVlv57FtLvBd267prc27+ZEOOWXGQOR19RTdQ0bU9JvEtNV067srlwGSG5gaN2BOAQrAE8ivTrPxFa6apthq1uNS07wlcWb3sVypDTF9yRRyA4cqpCgqSOCBwKo+GNe0qwXwFJqN5b4s5L5Zd7Fvsxc/umcKdygMd3boSPWn1t/W7/O34g/hv8A1sn+pwOqaFq+iNGutaXe6c0oJjF3bvEXA643AZ6iqNdt4ovb218L/wBjf2f4ctbBr4XIbStU+1u0gQruwbiQqpHU4GcDNcRRF3G1Y7DSvC/hzWob97LXtUjFhaPdTSXGkRpGoXopYXDHLMQo4PJp9r4Dt55rLTJdYaPXb+zF3b2Ytcw4ZC6RvKXBV2UdAhGSBnriK7u7bRPhvbaXY3cM19rcv2rUPJkDeVEhIhibB4JO5yOo+XNdH4Z8Tvp76X4g8RQ6C50y18u2uluRLfyhQwji8lJCAeQu94xhR97OMqV9bf1o/wBdPkJdP67f8H7zkPD+g6Pq8tpaXmuS2uoXs/kQwxWJlSNiQFMrl12gk/wB8Dr6Vi39lLpupXNjc7fOtpXhk2nI3KSDg/UV3ngbTrXTtLk8VNc6Rd6ysm3TdPutSt4PIkB/4+JVkdeB/CvOTzwMGuF1FLhNTuBeyxzXHmEyyRTJKrMTkkOhKt9QSKf2rBpZs2/BvgnUfGWoSQ2cN0tvHFIz3UVq0qIyoWVCRgAsQAOe/esy48Oa3aanDp11o2oQX1wAYbWS1dZZAcj5UIyeh6DtWz8N760sPG0D39zHaxTW9xbiaZtqI0kLou49huI56Dqas+FdDtLHxHcW/iC8sAx06aS2ij1aLyLmXGFilmikwqnnILKTgDIzQ9/K3+YLb5/5HMX+kalpV6tnqmnXdlcsAywXEDRuQTgEKwB5xV1vC+rafqmn22v6VqGmx3k6xqbm2eEuNwDbdw5IyPzFdnrWp/Yl8E/2G+hRalps87m2tb7zLeB/MR1V5JZCMHnnftznBqlrdtocN5pGqKLTTtWl1BPtdnaaol7b7BtJmDqW8vLZ+RnY9+AKcHdq/cUtn6HN654bubLW9ch0y0vLnT9Ku5IZLjyy4iUOVUyMBgE49s1VPh3Wl0f+1m0e/Gm4z9tNq/k4zjO/G3rx16133xD1LTvFGn3z6LqNpaLpeo3DT6aJ1VLzfI2LqIk5lYjgjJIGNuAcVU1NbLWvC8l34qXTbTUrKwRLK807V4ZmudioscUlsruQcA5ZdgHcVnFvku/L+v6/PQ0klz29f6/r8tTzqiiitDMKKKKACiiigArp/FFpb2/hnwnLBbxRSXGnyPM6IAZGFxIAWI6nAAyewrmK63xb/wAin4N/7Bsv/pTLSlsvX9GNbv0/VHJVoW+gaxd6XLqdrpN9PYQ58y7jtnaJMDJy4GBjvzWfXrcOvCG38N6x4Ys/DNzPp+mpbltQ1M201vIoYSKYmuI1ZWLM2QpB3HOaJaRuC1djjfC2jaPrmlayl1DfJf2GnT30c8d0gibZjCmMxk9+Tv8AwrE0zRNV1uV49G0y81CSNdzpaW7SlR6kKDgV13w+s/8ARdfuZrzS7VL3SLm0gW41K3hZpW24XY7hgDg8kY96Xw9penR+GL6O5fSL3VItSRHtNR1byraOEIf3yGOVPNbOR8rNgdAc0PR/Jfm/+AC2+b/L/hzkbbQ9WvLiW3tNLvJ5oZBFLHFbuzI5JAUgDIJIIweeDTZNG1OHVhpcunXaaiWCCzaBhMWPIGzGcnI4xXrl/cPrDfEeTw9qNptuk09RcLepDE6kAOPMkYDB5BDHJ5B5rn7jWpbPxD4eg0SfS7/UNM0ZrK8kubtI7aTd5gMYlLoDtRwoZW6jgnFJN6f10v8A8D5/e7av+uq/r5HCahouqaRdpa6rpt5Y3EihkhuYGjdgTgEBgCRkEUuqaFq+iNGutaXe6c0oJjF3bvEXA643AZ6iu/sW8K+HPiL4f1GB4LNZBK13aC+F9DYSEMsRE0fUZKtgMWXHLZ6Rvq/9jvpVhqumeHIdCj1qK8n/ALL1P7YzleGbabiRgpXr8ozgA+lNatL+t7CelzAg8E30XgrV9c1jTtSshbJbtZvLA0cU/mPtPLL83ykEYNc6+n3kenx372k62crmOO4MREbsOqhsYJHpXoOqxw2fh3xvNfa/pt5eapcwvbRQXiTyTxifcZMqSBwR8pO4YOQAOeOuILxfB1pM+twS2bXLrHpQuy0kLY5kMXRQem7vUxbau/62G1Z2Mauh8M6HpPiC8ttNm1W7tNTu5hDAgsFkgLHhN0nmhgCeDhDjrzXPV23gF9Q0u8t9Rju9DttPMwNzLd3Fr9oSMZD7AT9oUlS2PLAY8YzxWiIZn2XhS3j0m51TxFqMmn2cV4bGL7NbC4kmmHLYUug2qOS2e4ABq9d/DuXSNV1qPX782mn6OIzJdRW5keYy8xKkbFcsw5ILDGDzxzvabrWnXHhe70/wvJY22oafq00+my6ndrB5dtKAPMRpGCmVdi9TkAkgEjI0pPF2l6q+taTBLYXd1BDZHTrjUZhHb3M1vGUdmZ8KfvMyhyFYgZznac7u39dlf7v+B0NLK/8AXfT7/wDgnnHinw0/hu6s9s7XNnqFpHeWk7RGJnjccblydrAg5AJHuc1W8N6FN4l8R2ekWsscMl0+0SSZwoAJJ45PAPHeuj8a6kdcvPD+kSapBeXdpb+Td6hJcB4jNLKztmToVXcAWGRwcZFVvD+m6dovxQs7LWdZtXtLacFtQ0+6byS23chEq4YLu2gsMEc8jGaqPn5/h/XzJltp5fkQ3fhK3n0CLVvDF7eanG199ge3msfJm8wpuXYqvJvBAPcEEDjmsmfw5rdrayXNzo+oQ28caSvLJauqKjnCMSRgBj0PftXrFjrlu+o+HLrxZqOkQarBr4lj/s+9ieEW7ZaSSXy3MSncVG84dgPmzjNVr/xLaXXhGSGXWLeWR9Cvg0ZuVLNM98rAEZ+8VGQOpHNS5NK/9aK//A8ikk3b+tXb+vvOA1PQBpnhCyvLvSNdtL+ec5nurfy7OSIrlfLYjJY9euMVQTw1rstnJdxaLqL20UQmeZbVyiRkZDlsYCkDOemK61tJkX4QfYDf6R9rGrfbTANXtS/k+RjOPMznPG373tWvb+IbU+OfA3matB9hstEjilJuF8uB2jkDq3OFJ+UEHnoDTk7N27/pf89CYq6V/wCtTyiiiiqEFFFFABRRRQAUUUUAFFFFABRRRQAUUUUAFFFFAGv4ZuNbtteifwxBLcaiUdEiitRcF1ZSHHllWDDaTng8VBra6gmsTrrNl9hvRjzLf7Gtrs4GP3SqoXjB6DPXvW78Nv8AkbJf+wbe/wDpNJV74VG7XUvEB064+y3Y0K58mb7QIPLbKYPmEgL9SRik9/RX/P8AyGvzdvy/zOEor0XXS/iGDwvo2pXJ1vxH50qXM9jMl1N5LMDHGZQxWRh85zuIUHk9RVTXfBmn2ug2OqWe+283UhYzW/8AattqHBXcGEkIAU8MNrDPQ01r99v0E9Ff+v60OFortfFOieD9Gvtc0iyvNT/tDTZCkE9yVMdywk2tHsVMqQv8ZbDFTwuQKur4BtH0G/aa3urG/s9NN8GuNTtmaTAVirWajzYwVJwSx7EjnFSpJx5uhXK1LlONfQNYj0ddWk0m+XTWxtvGtnEJycffxt68detFvoGsXely6na6TfT2EOfMu47Z2iTAycuBgY7810Xhv/kl/jT62P8A6ONHw8+74p/7F67/APZab+15f5XEt0u5xtXdM0bVNameHRtNu9QljXc6WkDSsq5xkhQcCul8M+EbTUPDMuuakRNH9r+yQ2w1W208khA7OZJwQcBlG0DJyTkY5IdJstE+L2m2OlahHqNmmo2zRXEciPkMyNtLISpZc7SQcZBqkrzUf6/rUl6R5jkJoZbeeSG4jeKWNijxupVlYHBBB6EGr+r3mrXsenvrPnMqWqx2kk0W0vCrMFw2MuAdwBOcYx2wOii0eHxB8bJtLuiRBda1Kku3qU81iwHuQCKdpyp8R/ipHb6vLLbWl00iRrbgD7NEiMY0RSMBVCgY+vc5rOMuaKfz/D/gltWk12/r9PyORsb2XT7xLqBYHkjzhbi3SZDkY5RwVPXuK1pPGOpyxNG1tooDAqSmhWSkZ9CIsg+4q1q2j6K/g9Nc0H7fEI9QNjIl5Kknmjy96yLtVdnQ5U7scfMa5eq30FtqdBd614j1vQbgPGz6dDIj3ctrYpErOchGmkjQb2JJwXJOSe5Nc/Xb6fBpd98PvEc2lnWrB7KO2eaF9SWS3ui0oX5o1iTpyRknFT2vg/Qk1zSPDeptqI1bVLeJ/tcMyCG2kmXdGpiKEuBldxDr1OBxydXb+tA6f1/XU4iWzuYbWC5mt5Y4Ljd5MroQsu04baehweDjpUFeo3dloUfgbwbZeJhqDyG5vLcCxlRBGPtADuWZW3Y4woAzz8w75mmeA7I6z4g0u5ebVdR0u6NvbadZ3kVrLdAF90imRX3YCfcUFvm9uS63/r+tV/Vws9v6/rRnA0Vsro1vLqt7b3l7F4f8iQhYNVWd5F5PynyoT8w75VfpUc2iR/2jBZ6drGm6i0wJ82OR7eNCOzPcLGB/L8aA2MqlHXitZra48MatBLdRaXfOql0jFzFeRZ5ALeU7KSDztbg4GQRweg+J1zNeXnhy5uX3yy6Bau7YAyTv7DgfQU72s/P/AD/yC2tv66f5nM69dareazM+viVb5cRyRzReUYwoAC7MAKAAAAAAK17yfxdD4KS3utLmtNBnMTiddJSFJyAdhMwjBc8nBLHOata/Kdd+HOj65dktqFndSaXNMxy08YUSRE+pUFlz6bfSjRv+SQeJ/wDr/sf/AGrUvSLXa35r/O4LdPvf9f8AI42itGD+xv7AuvtP27+1/NT7N5ez7P5f8W/PzbvTHFZ1UIKK9Ctde1fQPg7pk+iand6fI2tz7zbTMm8CKMgMAfmHseKv+LPDGkxy3HibU7eWO0axsJZLGwKQF7qeMlgDtYRr8jMflPJAGM5Cbs38vxVxpXX9dHY8uor0Wz8B6FdSjUHutQh0efQ5dViUFHnieJ9jxk4CuMg4IC5yOBg1WtfBGm67e+Gm0aW5sbXWRcecl5MkrQeQSXIcKikFRxkDB6nHNF9bf11/yYdL/wBdP8zg6K7HxN4a0aw8OR6jp1zHb3QuvIewbWbXUHeMqSJVaDG0AgggjuOe1cfQncGrCUV6Bq2rS6t8GI5JIbe2ii1/y4be2j2RxL9n6AdSfViSx6kmrHw+1TV5be4n1e8ZfCGl2ckd5bOQlvKWRtkfljh5Wcg5wW4zngUN2v5f5XBK9vP/ADseb0V6v8KYk8Mapoeozop1PX7xbayVhkw2obEsv1cjYPYMRXJ+ErrxTNrZ0jwheTWc1zP5kklu4hIVc5Mkg58sDJIJ2+2ae8rC6X/rr/kcpRXQ+PbrTb3x5q1xonlfYnnPltCoVHIADMoHYsCfxq78MJLFPiNoovre4mdr6EQNDcLGI33jlgUbcPYFfrRD37eYT92/kcjRXV6jZ6ZrfjddP0XS9VWaa+kSZPtUdw8vzf8ALNRHGF79SR+XNvxJ4Q0/T/DNtrFmWtN1+bOaFtUt9RABTcH3wABcYYFSM9DUxlzRUu5Uo2k12/r9DiamubS4spzBeW8tvKAGMcqFWAIyDg+oIP0Ndd408J2eg2ST6RYahc2LSBYtbF9FPa3IGQcLHH+7YkH5WckAcg9a6D4ieHbGykn8Q641xKLyG3t9Pt7J1HzrbR7nlcqwUDsn3m68DmjmVritrY8rortrXwjYz+Bo9WsLK/1y6MTvdmwvYlGntlgokg8t5CuF3FsquDjI61xNV1sHS4UUUUCCiiigAq5d6peX9pZ211N5kNjEYrddoGxSxYjIGTyxPOetU6KANGXRbiHw5ba0zxG2ubmS2RATvDIqsSRjGMOO/rWdXW33/JIdH/7C93/6KhrkqXVr+th/ZT/rdhWhpugaxrMUsmkaTfX8cOPNe1tnlEf+8VBx0PWuu0DwRpc2gaVqWuTZXVJHwV1i0svs0SPsLlZsmU5DHC7QNvXJ4T4fWUem/Ge3sre7ivYrea5iS5hIKTKscgDrgngjnqaG7XXr+AJX1OPttWvbTS73TrebZaX3l/aI9infsO5eSMjB9MVSrf8ACuhprNxdvcWdxc29rEHk8q8htETLBQXnlBRBzwMEseBjrXU/8K+0WLxFcw3t3eRacmgf2wv2eaG4kjIwCnmL8kgyGww2g5HvQ2lq/wCtP8kC12/r+rnm9FdnL4Y0O7t/Dup2d3caXpmq3j2d0b6VZmtWRly+9VQFSrg9Bgg5NLrvgzyfEGlaZp2kahp8epXCw297d30d3BchyoRo3ijVehycM3XtT3aXcXRs4upre0uLvzPstvLN5UZlk8tC2xB1Y46AdzXc694K0Sy0nU2s75Ib2wlRIRLrNncm/BfY22GL54mGQ2CWwMgnjNaenaRpHhzUPFGiQxXs2q2ehXKXN29wghL7FLKsQj3YBOAS/OM4GcCeZcra7P8AK5XK7pPv+p5bRWjB/Y39gXX2n7d/a/mp9m8vZ9n8v+Lfn5t3pjis6qJCiu58CRJ4ft/+EuvEVpUuBaaTG4zvuTjdLjuI1OeRgsy1vXdyYfFXxAj0jUrfTPED6mTa3E1yls3kiZ/NWOZyoRjlCRuBIBHPNJuz/ry/zv6DWqv6fr/keUUV6pr3hyDVvFWj3usXETQJokWoa7d27bg+xmUkMPvO+1F3DOWbcMjk5HxR1d9ebw1qUkSQefpOUhjGFiQXEwRB7BQB+FJu332/P/IaV/uv+X+ZwVFOVmRwyEqynIIOCDXpMs13r3w6uF1LXX8TTrf2rvI0sjvpkbZU/NMoYl2IUhNy/KCT0zVn0/q7JulueaVZj069m0+a/is7h7OBgstwsTGONj0DNjAJ969WvPhf4Whubi2gvNWaRLu+so2Z48GSCDzg5Gz7o+4VzlvvAr92uR022s7z4Ya7LbzarbTWD2zzQ/bg1rcs8hUExCMEFQOMseanmTWnl+JTi09fP8P+CcdRXeab4Y8NLofhe61Y6pNc69cSQNHbTRxrCFlCb8sjZ6j5eM8/MOlcfq9gdK1q+08yeYbS4kg34xu2sVzj8KfW39aC6FOiiimIKKKKACiiigAooooAKKKKACiiigAooooA6XwHqNjpniczapdLaW8lncwec6Oyq0kLouQgLYyw6A1UtNUk8MXepwabc2eoR3tm9k86JJsKOBkqGCMCMY5Hrwal8GaNZa74i+yan5/2ZLW4nYW8io7eXEzgBirAZK46Gp9C0HTPEuq6oYZ7vS9PsbGS9IYLdzbU25X/AJZAk5Pp6e9J769vw1/4I1+v46f8Ay/D+u3nhrXrXVtO8s3FsxKrKu5WBBVlI44IJHBB5rQvfGM9zpEGl2ulabp9lBdreJFaxyZ8wAjlndmYHPcnGBjA4o1rwxFZ6Vpmq6LeyalYak7wx+Zb+TMkyEZRowzjoykEMc57Vm6joGsaPLDHq+k31hJPnykurZ4jJj+6GAz1HT1p31/r1/4Iraf16DdY1WfW9cvdVuljSe8neeRYgQoZmJOASTjn1NdFd/EjULx7+d9L0pb3UrQ2l5erFIZZ0KBM8uVU4APyBQSOQRxWDc+HtasrA315pF/b2iyGI3Ets6xhwSpXcRjIIIx6g0knh/WYdIXVZdIv005gCt41s4hOTgYfG3k8damy5bdCrvmv1NXS/GSaXoFzpC+HNJuILwRi6eZrrfOUbcpJWYAYJ/hApugeLx4etruK30HS7lryGS3mluGuNzRPjKfLMoA4HIGfepbDRtH1H4f6xqkcN9DqWlfZ9ztdI0M3mSFfueWGXAH9880eFtG0fXNK1lLqG+S/sNOnvo547pBE2zGFMZjJ78nf+FN/a/rp/kJdEV7Pxa1pY3mnSaPpt1pdzcC5Wwn87ZBIBgMjLIJBxxy5yOtQ6Z4ih0rX/wC1bfQdNdkdJIIJHuDHbupBBXEoY8j+JmFUdM0bVNameHRtNu9QljXc6WkDSsq5xkhQcCtDwzp1hc+KrfSfEFpff6RcJalYJ1geFy4Ulg0b5xz8uAc96qK95W3Jb012HXPiyaTxbB4istPs9OvYbkXRFsZSkkm/eWYO7Hk9gQMdqv3fiKx0XxzF4k8IhGEytObO5jbFrJIGV4iRjcBklSD0K55BFY2paM0Xi+70TTEknZL57S3U4LuRIUUcYGTxVvxBoNvZeIRomgtcapdWyeXdPEm9ZJ1yZPKUDOxQMZPXaTwDWas4q239X/Qt3Unf+v61/EgsdRe60VfDk9zZ2NlJefbGurhJDscRlcHYGOCPRSc98VLJ4f0xImdfGGiyFQSESG9y3sM24GfqRWfqGi6ppMcEmq6beWSXC7oWuYGjEo45UsBkcjp61RqxHYR3ek6D4M1uwtNXh1OfWPISOOGCVDAiPvJk3qAG6DClxnPOAMwW/j6/gWzmbT9Pm1OwgFva6pIkhnhQAheA4jYqDgMyEjA54GGf8ItcWPhS/wBQ1vQvENtP+6ayufsZS02k/MZGYZ5BG3Hc1lQeH9ZutKk1O20i/m0+MEvdx2ztEmOuXAwMd+aWmtwWyNax8bz2mladZT6Rpl82lySSWdxdLKXhZ2DE4WQI3zAHDKfxFULbXo1uLm51XR7HWLm5lMrzXslwGDE5P+qlQck55BrUl8E3d14S0LUtBsNR1G6vluXuo7eEyrEI5AqkBVyBzzknmsHTNF1TWp3h0fTbzUJY13PHawNKyjOMkKDgZp9QNCfxr4ik1y91a31e7sbq+YGc2MzQBgBhVwpHAHAzWfqetarrcqS6zqd5qEka7Ue7uGlKj0BYnAqtcW89pcyW93DJBPExSSKVSrIw4IIPII9KipJKwak9nPHbXkc01rDeRoctBOXCP7Eoyt+RFbfiLxb/AMJJbWsU2iabZvaQpbwzWxuNyxJnamHlZSOepGfesfTrL+0L+O2+029qHzumuZNkcYAyST16DoASegBJArU8V+HIfDd5YR21/wDb4b2xivEl8kxcPnjBJPbqcdegpu2l/wCv61Bb6E/iXV7I6Tpvh7RJTPYadvlkuSpT7VcSY3uFOCFAAVcjOASeuBbt7vS9P+F+qaf/AGxbXN/qNzazJawxTboggfcHZowuRuHRjWf4m0C10630/VdGmln0jVI2a3afHmROhxJE+ONykg5wAQwNWotG0a9+Hd/rNrDfwX+nz28MnmXSSRS+ZuyQojUr93gbm61L+F37r81+v/ABbr+un9fMxoNX8jQLrS/7PsZPtEqSfa5Ic3EW3+FHzwp7jHNZ1WU0+8l0+W+jtJ3s4WCS3CxExox6AtjAJ9DVaq6i6HR6Z4waw8Pw6Pc6Lpep21vdNdxG8E2VkYKDwkihhhRwwIoi8b6o1zqUmqx22rRapsN1bXiMI2ZPuMvlshQr0G0gYOOnFTad4Y0l/CVtrut6zd2UdzfPZpHbaes+0qqsWYmVOPm6AE8VU1Hwdq1l4kbRbO2k1S4MSzwmwieXzomUMrqAM4wR24pO3Nr/AFp/lb+kNbaf1r/n/WpO3jnUvtFy8dvZxQzaY2lx2yI3l28DckJ82c5ycsWJJJOahsfGOqaamiiy8mJtFkle3fZkt5hBYOCcEcYxgcE1ntoerLfz2LaXeC7t13TW5t38yIccsuMgcjr6im6ho2p6TeJaarp13ZXLgMkNzA0bsCcAhWAJ5FC3TB7WLGraxaamg+z6BpumPv3tJZtPlv8AZxJK6gfQDpWVV/VNC1fRGjXWtLvdOaUExi7t3iLgdcbgM9RVGhW6A79Tp38aRv4ZOhDwzo6WZl+0Aq91uEuzZ5mTP1x2+77VJ/wnfmeG7DQ7vw5o9zZWJLRqzXUZdz1kfy5lDOfUjgcDA4qLVvCEWmeD49aj1i3vZft32KaG2TdHG3l7+Jc4cjocDb6Mam8M+GfD/iTULXT01vVLe6lQvMx0qNoYAq7nYv8AaAdqgE52g8dO1Gjv/XT/ACDov6/rUg0b4h+J9BvbSWw1e9FtaOGisHu5TbBQeEKb/u9sZqfTviHqVnaapDfWdrq0mrYW7ur+S4M7oAMR+Ykqts4Hy556HIxTrHwbpskOmNqeuvZvrMrrp4Sz8xSgcxiSUl18tSwPQOcAnHTObBommWl3eWvibVptPuLa5NsYLWz+0vkEhmOXRQoIxwxJ9Mc0aPT+v67hqv69TM1C7hvbszW2n2+noQB5Fs0hQe+ZHZv1pNO1C50rU7bULGTy7m1lWaJ8A7WU5BwevIq34k0Kfw14ivNIupI5ZLVwvmR52uCAykZ55BBxVjwl4WvvF3iG202xhuCkkqJPcQ27Si3RmxvYDoB7kfWnDWziKWl7ltPG81r4ottf0vR9M069hleV/s4mZJy/DBleRgAQWGF2/ePtiHUPFsl9okWjxaRpljp8d0LsQWySDc4Uqdzs7OQQe54wMYqtrXhfWdBvxbajpd9b+ZK0du09q8f2jBxlARz1HTPUVW1TQtX0Ro11rS73TmlBMYu7d4i4HXG4DPUVK5Wlbb+mU731NC78VNJotzpWm6Rp+k2146Nci0MzNNsJKgmWR8AE5+XGe+atyfEDU7iTUheWtlc2upQRRTWkqOYlaNAiSrhsq4C9Qe54xxWPe+Hda03T4r7UdHv7SzmwI7ie1dI3yMjDEYORyK1PEXhOax8S3WnaFa3t9FbWsNzIVjMjRq0SOzNtHCgt1xxxTdtbiV9yLSPFn9hpHJpei6bDqMUbImo5naZSylS20ymPOCR9zHtmuerStfDutX2myajZaPf3NjFuMl1Dau8SbRlssBgYHJ9KzafUXQKKKKACiiigAooooA6K71Szl+HOm6Wk2byDUbieSLaflRkjCnOMclTxnPFc7XT3lpbr8LdKu1t4hcyapcxvMEG9lEcRClupAJPHua5il1f9dEP7K+f5s6Cz8WPFoUGkalpGnava2sjyWwvBMrQbvvBWikQ4JGcHPNL4c8W/8IxqzalZaJps1yHZoWuDORAGBBVQsoyMEj5tx96ztN0DWNZilk0jSb6/jhx5r2ts8oj/AN4qDjoetbPgHRtH8R+IotH1eG+8y53+VPa3SRiPajN8ytG27OB0K0PqC6ENl4wNgupW8GiaZ/ZuppGs+nMbgxZjO5WDeb5gOc/x45PFbui+PobjU9RvPEFtYxqPD8um2trFDIkUvzZSMiM5GckZBXgdc81xOn6Zf6vdi10qyub64ILCG2iaRyB1O1QTUraHqy389i2l3gu7dd01ubd/MiHHLLjIHI6+oot0/rawX6/1/Whev/FEmoNp8MumWMem6eWMOmReasOWOXJO/wAwkkDJL54AGBxT7vxfdSWVpZ6XZWmj21pd/bUisvMbM4AAkLSu7ZAGAM49qzNQ0bU9JvEtNV067srlwGSG5gaN2BOAQrAE8ipNU0DWdDER1rSb7ThNny/tds8W/GM43AZxkfnQHkXdb8TRa6Z5p9A0u2vrh/Mlvbbz1dmzlm2mUxgnvhO5xitKb4kanNHqDHT9MW71O0Npf3ohczXK7QuSS5CngH5AoJAJBwK5++0DWNMsobzUtJvrS1nx5M9xbPGkmRkbWIwcjnjtW34d8E32p6XqWp6hp2pQadb6bPdwXiwMsUkiD5RvK4IJzwDnik0lF9gTba7mLBq/kaBdaX/Z9jJ9olST7XJDm4i2/wAKPnhT3GOazqspp95Lp8t9HaTvZwsEluFiJjRj0BbGAT6Gq1V1F0NnS/F/iLRYY4NK1zUrS2jfeLeG7kSPOcn5VYDnvVu/8aXWs+IbnV/EVjbazLMSY4b2W4MduCxbbGFlUhRk4UkiqGlWuh3EJGq6hqVtcF9qR2mnJcKw4xy0yHOc8YP1rW1nwvoug+Jr3TNQ8QTCKzjTcY9P3TNKwBaMJ5mwFM4YmQdOM0PdDWzKDeMvEI1Oa/tdXu7GeZFjb7DKbdRGowqBUwAqjgAcCpNf8ba/4l0+xstY1G4uILOMIFeeRhKwZj5jhmIL/ORu9ABUup+F7LR9cgg1DWdmm3Nkl9Bdras0kkbjKqIs4DkgjBYKMfeqv4g8PQ6TYaZqWn3rXunapG7QSSweTIrI211ZAzAYOMEMQQfwqdNv66/8ENb3/roQa1rq61qkF42kaZYrDGkZtrGAwxSBT1YBs5OcEgg1bl8XypYPZaTpWn6RbzSJJcJaeaxuChygZpZHbAPOFIBzznAxhQQS3NxHBboZJZXCIg6sxOAPzra1vRNM0iSSwi1Wa+1eGTypooLQfZw2cMqyl9zEHj/VgE5wSME1tYW5qyfE7WZbx7lrawDteXV4QI3xvuIvKcff6BeR79SelUtL8ZJpegXOkL4c0m4gvBGLp5mut85RtyklZgBgn+ECs9/C3iCONnk0LU1RUkkZms5AAiHDseOingnt3q5FoAj8EXOrX2ka6szSJ9kvUt8WJQnDb3IyTngYOM1Nkl93/AKu2/v/AMyFvFV4bbRIBBbrHokzzWwCt8xaQSENluRkAcY4/OszUb6XVNUu7+4VFlupnmcICFDMxY4z2yatWPhvXNTiWTTdF1C8RlLq1vavICoOCQQOgPGfWs3p1piEooopiCiiigAooooAKKKKACiiigAooooAKKKKAOt+G3/I2S/9g29/9JpKf8O9Rs9MuPEEuofZWR9EuY0hupCizuduI+GViTjopB9KxvDNxrdtr0T+GIJbjUSjokUVqLgurKQ48sqwYbSc8HioNbXUE1iddZsvsN6MeZb/AGNbXZwMfulVQvGD0Gevek9/VW/P/Ma/J3/L/I6XQtdtdf8AFug2GtSQ6FodnI3lxWUjxJEzDJJkZmYFmCguzHA9AK1tYubC28DWFjt0KxuU11LhrTS9Qa5CRmMjezNLIOcDO1sDjODXmlFNabf1rcT1Vv62a/U7Hxv4qv7rxz4oNtqn2mz1C4e3ZwyypJAsmYwp5GBtUgr/AFrsJToOlx6/9gudGktLjQmgtdQk1R5b29cxKdrR+aVQhlxtZFIwoGTXj1FQo2hy+Vi3K8ubzud/4Z0t2+G/iO3a/wBJin1MWjWsU2rWsbuElJbKtICuB2bFM+H9gY7XX5ri+0u3W70i5s4RcapbxM8p24G1nBAOD8xGPeuTfQNYj0ddWk0m+XTWxtvGtnEJycffxt68detFvoGsXely6na6TfT2EOfMu47Z2iTAycuBgY781T+1/XSxK6M7Xw+1ongS+0N4NBvNTg1UTyQajqXkxzR+XtVo5kmjRyp3cbjw5IqvDc3/AIh+LUGq6rJo1nJbXVtJdNHqUKwhE2DKyPKRIdq5OGY5zXBVd0zRtU1qZ4dG0271CWNdzpaQNKyrnGSFBwKaupc39dP8hPWPKdpbzQaF8cbbVL66s5LKXV2uFntryGdVjaU4clGYLjOcHB9qZ4Pifwn8aIotcnSyksp51kmncIoPlvtbceMHIIPfI9a4SaGW3nkhuI3iljYo8bqVZWBwQQehBq/q95q17Hp76z5zKlqsdpJNFtLwqzBcNjLgHcATnGMdsCErRSXp/X9fkU3du/X+v1NmbUkuvhbLDc3iy3z699oaOSXMjBoSGfBOcE4yfWuUqxY3sun3iXUCwPJHnC3FukyHIxyjgqevcVrSeMdTliaNrbRQGBUlNCslIz6ERZB9xVW1uv60sLyf9a3NPwuQPhz42yQMw2YH/f8AFdLaXlo3i7wx4mtNYsbbRtMsYEnhe8RZoBGhEsIgLeYxc7vuqQ3mZJ644m71rxHreg3AeNn06GRHu5bWxSJWc5CNNJGg3sSTguSck9ya5+jX+vT/AIIdP68v8j1FLs6t4V8JJpWs2Gm2+n39zc3MM2pRQm2PnBkfyywZyFzjapPUDrVa11pNY1rxMIdO0u70DVdQa4e3u9Vi0+ZSC5jeNnkXkb8kFXX2rz6WzuYbWC5mt5Y4Ljd5MroQsu04baehweDjpUFFl/Xy/wAh3d7/ANdf8zso7jw/4f8AFGrW1hqjS6crhba4fRLXUTIB1/1xULgnG5R83XA4qhrWs6dPq1rc26Q6pDEhDwz6RFpqMfQrayZb1zuB7dK5yii2wr7mpPJHrupQRadpmnaUzDaEjuXjjY9cs88rBf8AvoCum+Ilnm30G4hvdNuUtdItrOYWupW8zJKu7cu1HLED+8Bj3rhaUdeKdrpLz/r8wvrf+v60Ow1MHT/hLo1ldH/SL7UJr+GM9UhCLGGx6MwOPXZS6N/ySDxP/wBf9j/7VrnteutVvNZmfXxKt8uI5I5ovKMYUABdmAFAAAAAAFa95P4uh8FJb3WlzWmgzmJxOukpCk5AOwmYRgueTgljnNS9U33t+DX6IFul2v8Ar/mULWC8bwhfzR63BBZrPGJdLa7KyXDHo4i6MF9T0rGooquouh3lnZLrnwr07TrbUdLguYdYmllS81CG3McbRxgPh2BIyD90E8dK2tV1zS/Emk6zouiX9vFcR2tha29xdzi3W+ht1Icb5CoXLEOFYjIUdxivKaKTV738vwVhp2t/XW563Z+IrXTVNsNWtxqWneErize9iuVIaYvuSKOQHDlVIUFSRwQOBVHwxr2lWC+ApNRvLfFnJfLLvYt9mLn90zhTuUBju7dCR615lRRbW7/rVv8AUPs8v9bJfodv4ovb218L/wBjf2f4ctbBr4XIbStU+1u0gQruwbiQqpHU4GcDNcRRRQlYG7noMmkSJ8ITp5v9HN4urG9MC6xalvK8jbnAk5OeNv3vaszSru28P/D3ULuC7hbV9ac2KRRyAvBajDSswByu87VGeoDYrkaKGrt+f9foCdreX9fmeg+FNVkbTdKbXU0B9M0mdnhur25BurdNwZlSBJA0nzZKh42XLHJC5xLoFtpfiTxLrni7WZdPdFupJ7XR7rUIbZ7qV2LKG8x1AjXILHPOMAHmvOaKfW4uljX8Uz6jd+Jby81qa1mvbp/Oka0uI5o+egDRsy4A4xnjFSeDNQttK8caLf30nlW1tfRSSvgnaocEnA9BWJRRD3bW6BL3r+Z3Vlolna/E+1bXtWs4dMur6VhdWGqQvxklctGxMQYlRlsYBPocXfEM9rB8PLbT7dNBsr9daWcWem6gbkIpiKh2Z5ZF5IGdrYHG7BrziipjHliorpb8Hcpu7b/rr/meheMl0/VdHu9b1hLCx8RyTJ8umatFeRXxYtvYxqzmIqMc7wp6BfTb8X6tpniTSdQ0jSNUsrC6t47a5lP2hFi1ZVgjG0yE/wCsjIOEztPPG4ZryKprm0uLKcwXlvLbygBjHKhVgCMg4PqCD9DRy6WC+tzv9JWy1rwrZWfjBdNt7KxtpPsepW2rwrdQL877Htt7GTLkDARW98V51RRT6ti6WCiiimIKKKKACiiigDrb7/kkOj/9he7/APRUNclW5cw6oPAthNNcxNpTX86wQAfOsoSPexO3oQUHU9DwO+HS6v8Aroh/ZXz/ADZ6do2pQSeCPDv9k22gXOo6TcTPLHqepNZyRSGQOkqfv4lcEBRnkjYO1V/A00l58VpPEOq3OkWEYurh7ktqEEMau6P/AKsNJll3NgFdw9685rQ03QNY1mKWTSNJvr+OHHmva2zyiP8A3ioOOh60Nbv1/EE+h1HhjR7K1h1631SbTLnUY4ITa2M+sRx2lzlwXLSxyqrFRghd45+mK7a0vFufE9z/AMI/fWCXEHgt4FlsbwrDBKrYwJZGyu3jlm4GDnGDXiNXdO1a90r7V9gm8r7Zbvaz/Irb4mxuXkHGcDkc0NXVvX8mv1BOzv8A1un+h20moyaLpvhDTrG806613TL6a7Dfa4nt4AzIUjabd5ZyVZjhuM9QaXU08OWGqaJrd3Da2l8dSje/06z1JNQgeFdrPKGUsUy24bGdj+Fed0U1dNPz/r+v1E9Vb+v61PTfFmrXFtb+IFs7TwzNp2rXCvPd2eqtLPcKJd6P5T3DMrc8/uwRlulX7+XTX8Q+K9dGu6aLC+0WWDS4BdK0rgxLti8sHMe0Dbh9pJwFB5x5HU1vaXF35n2W3lm8qMyyeWhbYg6scdAO5qOVKNvL9LFczcr+d/xNO1gvG8IX80etwQWazxiXS2uyslwx6OIujBfU9KxqKKvqT0Op8BnT7LWJ9c1WeBY9HhN1BbyOA1zcDiJFXOWG4hjjoFOal8H6TZ+KvEt1feKNUtobeItdXKT3kcEt65JPloZGUZY9TkAD8K5Gijrf+v6/yDpb+v6/zO/vNMm8YfEKBPEGpaJotk0QCmDU7eSG2towFWJGVyu7HABIyTngZql8QZpbi5s0t4dPtNGs0Ntp1paalb3TImdxaTypGO9icknjPHauNoqbbDvudPBaxeCvHWi3F1qVhqcNvPb3kkmmT+ciqHBKZwPmAXke4rstR1ZorfXl8Q+IbXVrG5uojosEd9HOIj524SLGrH7Oqx7gQQn3sY448moquqfb/gf5C6Nd/wCv1PfL3xbp02sXBOvWjxSa1qjk/a0IaM2RSI9fuk/Kp6E8CuC8M6W7fDfxHbtf6TFPqYtGtYptWtY3cJKS2VaQFcDs2K4CioULfcl9xblf8fxZ6IutRweHvh9ZJqcSrZahNNdRJcDELC4Xa74PHy7iCe2cVyHiiWKbxdrEts6SQvfTtG8ZBVlMhwQRwRiqdrp17fRXEtlZ3FxHax+bO8MTOIk/vMQPlHuarVXW/r+Nv8ie/wDW1/8AMKKKKYgooooAKKKKACiiigAooooAKKKKACiiigDrfht/yNkv/YNvf/SaSr3wqN2upeIDp1x9luxoVz5M32gQeW2UwfMJAX6kjFZPgPUbHTPE5m1S6W0t5LO5g850dlVpIXRchAWxlh0BqpaapJ4Yu9Tg025s9QjvbN7J50STYUcDJUMEYEYxyPXg0pbv/Db/ANK/zGunr/kdXrpfxDB4X0bUrk634j86VLmexmS6m8lmBjjMoYrIw+c53EKDyeoqprvgzT7XQbHVLPfbebqQsZrf+1bbUOCu4MJIQAp4YbWGehrl/D+u3nhrXrXVtO8s3FsxKrKu5WBBVlI44IJHBB5rQvfGM9zpEGl2ulabp9lBdreJFaxyZ8wAjlndmYHPcnGBjA4prR/P9dfw/rqJ3at5f5/rY0/FOieD9Gvtc0iyvNT/ALQ02QpBPclTHcsJNrR7FTKkL/GWwxU8LkCrq+AbR9Bv2mt7qxv7PTTfBrjU7ZmkwFYq1mo82MFScEsexI5xXF6xqs+t65e6rdLGk95O88ixAhQzMScAknHPqa6K7+JGoXj3876XpS3upWhtLy9WKQyzoUCZ5cqpwAfkCgkcgjioSlyef6/1/TLbjz6bfoO8N/8AJL/Gn1sf/Rxo+Hn3fFP/AGL13/7LVPS/GSaXoFzpC+HNJuILwRi6eZrrfOUbcpJWYAYJ/hApugeLx4etruK30HS7lryGS3mluGuNzRPjKfLMoA4HIGfeqf2l3X6WJW6fmvzL3hnwjaah4Zl1zUiJo/tf2SG2Gq22nkkIHZzJOCDgMo2gZOScjHJDpNlonxe02x0rUI9Rs01G2aK4jkR8hmRtpZCVLLnaSDjINZ1n4ta0sbzTpNH0260u5uBcrYT+dsgkAwGRlkEg445c5HWodM8RQ6Vr/wDatvoOmuyOkkEEj3Bjt3UggriUMeR/EzCqi7TUun/DfrcmSvBrr/X6GzFo8PiD42TaXdEiC61qVJdvUp5rFgPcgEU7TlT4j/FSO31eWW2tLppEjW3AH2aJEYxoikYCqFAx9e5zWRc+LJpPFsHiKy0+z069huRdEWxlKSSb95Zg7seT2BAx2q/d+IrHRfHMXiTwiEYTK05s7mNsWskgZXiJGNwGSVIPQrnkEVnFNQin0v8Al/X9M0k05Sff/g/8D+kQ6to+iv4PTXNB+3xCPUDYyJeSpJ5o8vesi7VXZ0OVO7HHzGuXrZsdRe60VfDk9zZ2NlJefbGurhJDscRlcHYGOCPRSc98VLJ4f0xImdfGGiyFQSESG9y3sM24GfqRVbN/10/zJ3S/rr/kbOnwaXffD7xHNpZ1qweyjtnmhfUlkt7otKF+aNYk6ckZJxU9r4P0JNc0jw3qbaiNW1S3if7XDMghtpJl3RqYihLgZXcQ69Tgcc0Y7vSdB8Ga3YWmrw6nPrHkJHHDBKhgRH3kyb1ADdBhS4znnAGYLfx9fwLZzNp+nzanYQC3tdUkSQzwoAQvAcRsVBwGZCRgc8DB3/rp/wAN/WgdP68v+CdRd2WhR+BvBtl4mGoPIbm8twLGVEEY+0AO5ZlbdjjCgDPPzDvmaZ4DsjrPiDS7l5tV1HS7o29tp1neRWst0AX3SKZFfdgJ9xQW+b25yLHxvPaaVp1lPpGmXzaXJJJZ3F0speFnYMThZAjfMAcMp/EVQttejW4ubnVdHsdYubmUyvNeyXAYMTk/6qVByTnkGjX8/wBP+Df1+56f18/+B9wq6Nby6re295exeH/IkIWDVVneReT8p8qE/MO+VX6VHNokf9owWenaxpuotMCfNjke3jQjsz3Cxgfy/GrM/jXxFJrl7q1vq93Y3V8wM5sZmgDADCrhSOAOBms/U9a1XW5Ul1nU7zUJI12o93cNKVHoCxOBQr2Qn1LLW1x4Y1aCW6i0u+dVLpGLmK8izyAW8p2UkHna3BwMgjg9B8Trma8vPDlzcvvll0C1d2wBknf2HA+grj7OeO2vI5prWG8jQ5aCcuEf2JRlb8iK2/EXi3/hJLa1im0TTbN7SFLeGa2NxuWJM7Uw8rKRz1Iz70PVL1/z/wAwW79P8jQ1+U678OdH1y7JbULO6k0uaZjlp4wokiJ9SoLLn02+lGjf8kg8T/8AX/Y/+1apeJdXsjpOm+HtElM9hp2+WS5KlPtVxJje4U4IUABVyM4BJ64Fu3u9L0/4X6pp/wDbFtc3+o3NrMlrDFNuiCB9wdmjC5G4dGNKW0vNr81f9WNdPn+Tt+iMCD+xv7AuvtP27+1/NT7N5ez7P5f8W/PzbvTHFZ1aMGr+RoF1pf8AZ9jJ9olST7XJDm4i2/wo+eFPcY5rOqupPQ9Ctde1fQPg7pk+iand6fI2tz7zbTMm8CKMgMAfmHseKv8AizwxpMctx4m1O3ljtGsbCWSxsCkBe6njJYA7WEa/IzH5TyQBjORyOmeMGsPD8Oj3Oi6Xqdtb3TXcRvBNlZGCg8JIoYYUcMCKIvG+qNc6lJqsdtq0WqbDdW14jCNmT7jL5bIUK9BtIGDjpxUyTbbXl+STX9eQ46JJ/wBa3/r5nRWfgPQrqUag91qEOjz6HLqsSgo88TxPseMnAVxkHBAXORwMGq1r4I03Xb3w02jS3Nja6yLjzkvJklaDyCS5DhUUgqOMgYPU45rIbxzqX2i5eO3s4oZtMbS47ZEby7eBuSE+bOc5OWLEkknNQ2PjHVNNTRRZeTE2iySvbvsyW8wgsHBOCOMYwOCafXy/4L/SwP4fP/gL9bml4m8NaNYeHI9R065jt7oXXkPYNrNrqDvGVJEqtBjaAQQQR3HPauOrV1bWLTU0H2fQNN0x9+9pLNp8t/s4kldQPoB0rLoV+o3boej6Rqmr3fgLXtQ8U3jSaG9n9i060lIWNroFdhgiGFXYASWUDqc5ya0/B8SeF9FutJZF/tbWtEvLu8JHMFsLdzDF7Fj+8PQ42CuR1bx7/bdlaWt/4Z0Yx2Vv9ntRG10iwr6qizhdxPJJHJ65pml/ErxdpUjtHr+o3CtA8Cx3F5KyIGUruUbhhlzlT2IFKSupLurfn+v+QRdnF9nf8v0/zOt+FMSeGNU0PUZ0U6nr94ttZKwyYbUNiWX6uRsHsGIrk/CV14pm1s6R4QvJrOa5n8ySS3cQkKucmSQc+WBkkE7fbNN0r4k+LtK1K3vE8QalciCUSfZ7m9leKQ5yQy7hkHvUmnfEPUrO01SG+s7XVpNWwt3dX8lwZ3QAYj8xJVbZwPlzz0ORiq15ub+v66iVrW9P1Kfj260298eatcaJ5X2J5z5bQqFRyAAzKB2LAn8au/DCSxT4jaKL63uJna+hEDQ3CxiN945YFG3D2BX61zeoXcN7dma20+309CAPItmkKD3zI7N+tJp2oXOlanbahYyeXc2sqzRPgHaynIOD15FFO0beQqnvXOi1Gz0zW/G66foul6qs019Ikyfao7h5fm/5ZqI4wvfqSPy5t+JPCGn6f4ZttYsy1puvzZzQtqlvqIAKbg++AALjDAqRnoaoJ43mtfFFtr+l6PpmnXsMryv9nEzJOX4YMryMACCwwu37x9sQ6h4tkvtEi0eLSNMsdPjuhdiC2SQbnClTudnZyCD3PGBjFRFOMUvT/g/gXJpyb/rr/wAA0/GnhOz0GySfSLDULmxaQLFrYvop7W5AyDhY4/3bEg/KzkgDkHrXQfETw7Y2Uk/iHXGuJReQ29vp9vZOo+dbaPc8rlWCgdk+83Xgc1xV34qaTRbnStN0jT9Jtrx0a5FoZmabYSVBMsj4AJz8uM981bk+IGp3EmpC8tbK5tdSgiimtJUcxK0aBElXDZVwF6g9zxjiizsxaXLlr4RsZ/A0erWFlf65dGJ3uzYXsSjT2ywUSQeW8hXC7i2VXBxkda4muh0jxZ/YaRyaXoumw6jFGyJqOZ2mUspUttMpjzgkfcx7Zrnqr7TF0QUUUUxBRRRQAUUUUAdbff8AJIdH/wCwvd/+ioa5Kuiu9Us5fhzpulpNm8g1G4nki2n5UZIwpzjHJU8ZzxXO0ur/AK6If2V8/wA2d9oHgjS5tA0rUtcmyuqSPgrrFpZfZokfYXKzZMpyGOF2gbeuTwnw+so9N+M9vZW93FexW81zElzCQUmVY5AHXBPBHPU1hWfix4tCg0jUtI07V7W1keS2F4JlaDd94K0UiHBIzg55pfDni3/hGNWbUrLRNNmuQ7NC1wZyIAwIKqFlGRgkfNuPvQ73fzBWsN8K6Gms3F29xZ3Fzb2sQeTyryG0RMsFBeeUFEHPAwSx4GOtdT/wr7RYvEVzDe3d5FpyaB/bC/Z5obiSMjAKeYvySDIbDDaDke9c1ZeMDYLqVvBommf2bqaRrPpzG4MWYzuVg3m+YDnP8eOTxW7ovj6G41PUbzxBbWMajw/LptraxQyJFL82UjIjORnJGQV4HXPNEr208/yf62/rQFa+vl+a/S5Sl8MaHd2/h3U7O7uNL0zVbx7O6N9KszWrIy5feqoCpVwegwQcml13wZ5PiDStM07SNQ0+PUrhYbe9u76O7guQ5UI0bxRqvQ5OGbr2rIv/ABRJqDafDLpljHpunljDpkXmrDljlyTv8wkkDJL54AGBxT7vxfdSWVpZ6XZWmj21pd/bUisvMbM4AAkLSu7ZAGAM49qFur9/6/4H9MHs/T/M39e8FaJZaTqbWd8kN7YSokIl1mzuTfgvsbbDF88TDIbBLYGQTxmtPTtI0jw5qHijRIYr2bVbPQrlLm7e4QQl9illWIR7sAnAJfnGcDOBxet+JotdM80+gaXbX1w/mS3tt56uzZyzbTKYwT3wnc4xWlN8SNTmj1Bjp+mLd6naG0v70QuZrldoXJJchTwD8gUEgEg4FTaXK097P8irx5k13/UwIP7G/sC6+0/bv7X81Ps3l7Ps/l/xb8/Nu9McVnVowav5GgXWl/2fYyfaJUk+1yQ5uItv8KPnhT3GOazqvqR0PQPhDq0tv41sdPght0Fw0xluPLzM6+S2E3H7q5GcLjOec4GH+ALK5Twb4g1bSbqOw1CKa3tzqMknl/YYG3mSQN1UnaF+X5jnaMk4rm/C3ipvCl8t7a6Rp95eRsTFPdmbMYKlSAEkVSME9QTzS2fitrC4vRa6Rp66ffxLHc6Y3nNA+05U5MhkDA8ghwR9Dik+tu39f5DXT+v67nf6rr2laL4g0DxL9q1HdqOhzwS30USi5klxJCtyV3r8xwG+9ngck81y3iR76zbRPEk+syeKbK7jl+yNrCuzRshwyvGzsOGIIG5lPcEZFYt34mbUNXivNR0yxuoIIBbwWDeakEMY+6q7HV+Mk5LEkkk5pL/xPNqV3Ym7sLNrDT0Mdtpi+YtvGp5I4cOSScli+4nqccUra39fuu/8+g76f1vZf5dTc+J1zNeXnhy5uX3yy6Bau7YAyTv7DgfQVxFdF4i8W/8ACR2trFNomm2b2kKW8M1qbjcsSZ2ph5WUjnqRn3qjqmt/2pp+nWo0zTrL7BEYvOtINklx0+aVsnc3HXjqafV+r/zF29Ed3qOrTeONKvk0DxRrFutjpMTzaLdAx28kcMSLJsKysCcruwUXOfWr9v8ADLwqWt0uLvV2cyaakuySMAm7T7q5Q42n5snOR8uAfmrgP+Erkt9JuLHSNLsNK+1xCC6uLXzmlnj6lCZJH2gkAnYFzjB44rSHxM1lZVkFtY5WWylH7t+toMR/xdD/ABevbFPr81+ev4C6W8n+lix4b02yktfFWmrcatb3VnYXMzTW16I4bhIiAI5ItmWBJyfn/Cqel6HoKeAH8R61/aE0q6l9iS1tJUiDjyw+S7I23HPY54HHWotI8bNpH9oOug6XdTaiksVzNObjc8chyyYWVQB7gZ96z7rxFNceH5NFis7W2smvzfKkW8lH2bNoLMTtx65PvULmtrvZfffX8Cna/ld/lp+I/wAX6JD4d8WX2l2ksk0ELKYnlA3bGUOobHGQGAOPSsStHXdauPEOtTanepEk0wQMsQIUbUCjGST0Ud6zqpbCYUUUUxBRRRQAUUUUAFFFFABRRRQAUUUUAb/gzRrLXfEX2TU/P+zJa3E7C3kVHby4mcAMVYDJXHQ1PoWg6Z4l1XVDDPd6Xp9jYyXpDBbubam3K/8ALIEnJ9PT3qf4bf8AI2S/9g29/wDSaSn/AA71Gz0y48QS6h9lZH0S5jSG6kKLO524j4ZWJOOikH0pS3f+G/z1/wAhrp6/5FHWvDEVnpWmarot7JqVhqTvDH5lv5MyTIRlGjDOOjKQQxzntWbqOgaxo8sMer6TfWEk+fKS6tniMmP7oYDPUdPWul0LXbXX/Fug2GtSQ6FodnI3lxWUjxJEzDJJkZmYFmCguzHA9AK1tYubC28DWFjt0KxuU11LhrTS9Qa5CRmMjezNLIOcDO1sDjODTW+vf9bf1/TE9vl/n/X9WOGufD2tWVgb680i/t7RZDEbiW2dYw4JUruIxkEEY9QaSTw/rMOkLqsukX6acwBW8a2cQnJwMPjbyeOtdB438VX91458UG21T7TZ6hcPbs4ZZUkgWTMYU8jA2qQV/rXYSnQdLj1/7Bc6NJaXGhNBa6hJqjy3t65iU7Wj80qhDLjayKRhQMmoUnycxbilPlOHsNG0fUfh/rGqRw30OpaV9n3O10jQzeZIV+55YZcAf3zzR4W0bR9c0rWUuob5L+w06e+jnjukETbMYUxmMnvyd/4VreGdLdvhv4jt2v8ASYp9TFo1rFNq1rG7hJSWyrSArgdmxTPh/YGO11+a4vtLt1u9IubOEXGqW8TPKduBtZwQDg/MRj3qn9r0/T/Mlbx9V+f+RyGmaNqmtTPDo2m3eoSxrudLSBpWVc4yQoOBWh4Z06wufFVvpPiC0vv9IuEtSsE6wPC5cKSwaN845+XAOe9dR4fa0TwJfaG8Gg3mpwaqJ5INR1LyY5o/L2q0cyTRo5U7uNx4ckVXhub/AMQ/FqDVdVk0azktrq2kumj1KFYQibBlZHlIkO1cnDMc5qo250un/DEyvyN9Tl9S0ZovF93ommJJOyXz2lupwXciQoo4wMnirfiDQbey8QjRNBa41S6tk8u6eJN6yTrkyeUoGdigYyeu0ngGuht5oNC+ONtql9dWcllLq7XCz215DOqxtKcOSjMFxnODg+1M8HxP4T+NEUWuTpZSWU86yTTuEUHy32tuPGDkEHvketZRb5I37P8ACxpJLmlb+t/8jj9Q0XVNJjgk1XTbyyS4XdC1zA0YlHHKlgMjkdPWqNdXNqSXXwtlhubxZb59e+0NHJLmRg0JDPgnOCcZPrXKVfVr+trk9E/63Om/4Ra4sfCl/qGt6F4htp/3TWVz9jKWm0n5jIzDPII247msqDw/rN1pUmp22kX82nxgl7uO2dokx1y4GBjvzXQeFyB8OfG2SBmGzA/7/iultLy0bxd4Y8TWmsWNto2mWMCTwveIs0AjQiWEQFvMYud33VIbzMk9cHd/1t/X3h0/ry/z/A5WXwTd3XhLQtS0Gw1HUbq+W5e6jt4TKsQjkCqQFXIHPOSeawdM0XVNaneHR9NvNQljXc8drA0rKM4yQoOBmvQ0uzq3hXwkmlazYabb6ff3NzcwzalFCbY+cGR/LLBnIXONqk9QOtVrXWk1jWvEwh07S7vQNV1Brh7e71WLT5lILmN42eReRvyQVdfai7/P9P8APT0+52X9fP8Ay/H7/PLi3ntLmS3u4ZIJ4mKSRSqVZGHBBB5BHpUVdlHceH/D/ijVraw1RpdOVwttcPolrqJkA6/64qFwTjco+brgcVQ1rWdOn1a1ubdIdUhiQh4Z9Ii01GPoVtZMt653A9ulCd0hNbmNp1l/aF/Hbfabe1D53TXMmyOMAZJJ69B0AJPQAkgVqeK/DkPhu8sI7a/+3w3tjFeJL5Ji4fPGCSe3U469BVWeSPXdSgi07TNO0pmG0JHcvHGx65Z55WC/99AV03xEs82+g3EN7ptylrpFtZzC11K3mZJV3bl2o5Ygf3gMe9Ddkn5/5/8AABbv0/y/4Ji+JtAtdOt9P1XRppZ9I1SNmt2nx5kTocSRPjjcpIOcAEMDVqLRtGvfh3f6zaw38F/p89vDJ5l0kkUvmbskKI1K/d4G5utT6mDp/wAJdGsro/6RfahNfwxnqkIRYw2PRmBx67KXRv8AkkHif/r/ALH/ANq0paKXk1+a/wA7DXT5/r/w5yyafeS6fLfR2k72cLBJbhYiY0Y9AWxgE+hqtWzawXjeEL+aPW4ILNZ4xLpbXZWS4Y9HEXRgvqelY1V1J6HU6d4Y0l/CVtrut6zd2UdzfPZpHbaes+0qqsWYmVOPm6AE8VU1Hwdq1l4kbRbO2k1S4MSzwmwieXzomUMrqAM4wR24res7Jdc+FenadbajpcFzDrE0sqXmoQ25jjaOMB8OwJGQfugnjpW1quuaX4k0nWdF0S/t4riO1sLW3uLucW630NupDjfIVC5YhwrEZCjuMVMm03by/Ja/f+o46pX/AK1/y/Q84bQ9WW/nsW0u8F3brumtzbv5kQ45ZcZA5HX1FN1DRtT0m8S01XTruyuXAZIbmBo3YE4BCsATyK9Os/EVrpqm2GrW41LTvCVxZvexXKkNMX3JFHIDhyqkKCpI4IHAqj4Y17SrBfAUmo3lvizkvll3sW+zFz+6Zwp3KAx3duhI9afW39bv87fiD+G/9bJ/qcDqmhavojRrrWl3unNKCYxd27xFwOuNwGeoqhXb+KL29tfC/wDY39n+HLWwa+FyG0rVPtbtIEK7sG4kKqR1OBnAzXEUJ3G1Y6W28N6ZqmhX93o2q3Ut3p1st1c291YrEhTcFbZIsr5ILDgquR+VOj8HxN4L1DXP7Yt5LiyWCR7KBPM2rK21Q8mQFbvtG7HQ4ORW3pkj6X4P1Wx8SXWjrp09kVtorC4tnuZbkHdFvNuS7AHJPmnaPrtpvhrSn/4Vx4jtnv8ASIp9TFo1rFNq9rG7hJCzZVpAUIHZsGlLr8vzEtv68jL0vwfYz2WkSazrTafPrTstlHHaeaoAfyw8rF12KXBHyhzgE46ZoQaJplpd3lr4m1abT7i2uTbGC1s/tL5BIZjl0UKCMcMSfTHNdL4W1OX7Bpn9vJ4ffTdIuGaK7vLoNdW67wzLHCkoaT5slQ0bLluu3OJNAttL8SeJdc8XazLp7ot1JPa6PdahDbPdSuxZQ3mOoEa5BY55xgA80/teX/DW+YdPP/h7/ocb4k0Kfw14ivNIupI5ZLVwvmR52uCAykZ55BBxVjwl4WvvF3iG202xhuCkkqJPcQ27Si3RmxvYDoB7kfWovFM+o3fiW8vNamtZr26fzpGtLiOaPnoA0bMuAOMZ4xUngzULbSvHGi399J5VtbX0Ukr4J2qHBJwPQU6etlIVTS9hmteF9Z0G/FtqOl31v5krR27T2rx/aMHGUBHPUdM9RVbVNC1fRGjXWtLvdOaUExi7t3iLgdcbgM9RXV2WiWdr8T7Vte1azh0y6vpWF1YapC/GSVy0bExBiVGWxgE+hxd8Qz2sHw8ttPt00Gyv11pZxZ6bqBuQimIqHZnlkXkgZ2tgcbsGoi3ypvy/y/r9C5JczS/rc4q98O61punxX2o6Pf2lnNgR3E9q6RvkZGGIwcjkVqeIvCc1j4lutO0K1vb6K2tYbmQrGZGjVokdmbaOFBbrjjitzxkun6ro93resJYWPiOSZPl0zVoryK+LFt7GNWcxFRjneFPQL6bfi/VtM8SaTqGkaRqllYXVvHbXMp+0IsWrKsEY2mQn/WRkHCZ2nnjcM0XdmxW1seaWvh3Wr7TZNRstHv7mxi3GS6htXeJNoy2WAwMDk+lZtei6StlrXhWys/GC6bb2VjbSfY9SttXhW6gX532Pbb2MmXIGAit74rzqq+00LomFFFFMQUUUUAFFFFAHT3lpbr8LdKu1t4hcyapcxvMEG9lEcRClupAJPHua5iutvv8AkkOj/wDYXu//AEVDXJUvtP8Aroh/ZXz/ADZoaboGsazFLJpGk31/HDjzXtbZ5RH/ALxUHHQ9a2fAOjaP4j8RRaPq8N95lzv8qe1ukjEe1Gb5laNt2cDoVrpdG1KCTwR4d/sm20C51HSbiZ5Y9T1JrOSKQyB0lT9/ErggKM8kbB2qv4GmkvPitJ4h1W50iwjF1cPcltQghjV3R/8AVhpMsu5sAruHvQ+q9QWyZwen6Zf6vdi10qyub64ILCG2iaRyB1O1QTUraHqy389i2l3gu7dd01ubd/MiHHLLjIHI6+orqfDGj2VrDr1vqk2mXOoxwQm1sZ9YjjtLnLguWljlVWKjBC7xz9MV21peLc+J7n/hH76wS4g8FvAstjeFYYJVbGBLI2V28cs3Awc4waG7K6/rRv8AQEru39br/M8e1DRtT0m8S01XTruyuXAZIbmBo3YE4BCsATyKk1TQNZ0MRHWtJvtOE2fL+12zxb8YzjcBnGR+ddlJqMmi6b4Q06xvNOutd0y+muw32uJ7eAMyFI2m3eWclWY4bjPUGl1NPDlhqmia3dw2tpfHUo3v9Os9STUIHhXazyhlLFMtuGxnY/hQtWvX+v8Ag/5A9n6f5nF32gaxpllDealpN9aWs+PJnuLZ40kyMjaxGDkc8dq2/Dvgm+1PS9S1PUNO1KDTrfTZ7uC8WBlikkQfKN5XBBOeAc8V0XizVri2t/EC2dp4Zm07VrhXnu7PVWlnuFEu9H8p7hmVuef3YIy3Sr9/Lpr+IfFeujXdNFhfaLLBpcAulaVwYl2xeWDmPaBtw+0k4Cg84nmfI35P8vzK5VzJea/M8sTT7yXT5b6O0nezhYJLcLETGjHoC2MAn0NVq2bWC8bwhfzR63BBZrPGJdLa7KyXDHo4i6MF9T0rGq+pHQ6fwb4Pi8VX0dvPrFvYGZnjij2ebNIyoXJ2AjC4H3mI68bsHFbw5oFpq9pq15qV/PZW2mWyzube1E7vukWMAKXQdXB69q2vhVbrD40s9VurzT7SztjIsr3d/DAQWiYDCu4ZhkgZAIrL0iz8RaTq9xBoms2+nXSxjzZbfXbeBXU84EolCv8AQE470uvyH0DRvD2l654ims7PVLxLGGzmunuZbFRLiKMuwEYlI/hwPnqjJZ6HJqltBZaxcraSH9/c31iIvK+iRySFuPpz+ddT4k1WfUvG1nN4Y1aGLVoNPjivtUhvEsluLgA+a4lZkBzkLuz82CRkGneI3j8SzeGNGvtZsJtcRHj1LV5rlTEqs2Y1efOJCiA5YE9QoJNGrat/W+vpsGiTv/Wi09dzn9W8OWcHhqDXtF1Ga9sZLprOQXVqLeWOULvHyh3BUr33dulc9Xf+Po0tNKttI0JtOGgadISkkWp20095MwAad0jkZhnGAMfKMZx0rlNU0T+y9P066Op6defb4jL5NpceZJb9PllGPlbnpz0NJO+o2jRtvDemapoV/d6Nqt1Ld6dbLdXNvdWKxIU3BW2SLK+SCw4KrkflVCLwp4hnEZg0HU5BK22PZZyHe2zfgYHJ2/N9OeldZpkj6X4P1Wx8SXWjrp09kVtorC4tnuZbkHdFvNuS7AHJPmnaPrtrto/FmnrcwqNdtBGs+gIP9LTAjjXMo69Fb73oetPr934u39L8Sen3/hY8p0Xw+LrQdV1LUNI12eGGBvs11YW2beOUdfOcjAUDrjms3T9B1fVlU6VpV7ehmKKba3eTLAZI+UHkDnHpXb+FLVXv/Fl42oaXDDf2F7a2xn1O3iaSRmG0bWcEA4+8Rj3rNmvf7O+EVzoov4BdNr26a3gukk8yMQ8N8hIZNwHIyMgVKldX8l+LsW46283+COOngmtbiSC5ieGaJikkcilWRgcEEHkEelR11HxGvLe/8fahdWlxHcxSCEiWJw6ufKTPI6nOc++a5eqW2pLCiiimIKKKKACiiigAooooAKKKKACiiigDX8M3Gt22vRP4YgluNRKOiRRWouC6spDjyyrBhtJzweKg1tdQTWJ11my+w3ox5lv9jW12cDH7pVULxg9Bnr3rd+G3/I2S/wDYNvf/AEmkq98KjdrqXiA6dcfZbsaFc+TN9oEHltlMHzCQF+pIxSe/or/n/kNfm7fl/mcJRXouul/EMHhfRtSuTrfiPzpUuZ7GZLqbyWYGOMyhisjD5zncQoPJ6iqmu+DNPtdBsdUs99t5upCxmt/7VttQ4K7gwkhACnhhtYZ6Gmtfvt+gnor/ANf1ocLRXa+KdE8H6Nfa5pFlean/AGhpshSCe5KmO5YSbWj2KmVIX+Mthip4XIFXV8A2j6DftNb3Vjf2emm+DXGp2zNJgKxVrNR5sYKk4JY9iRzipUk483QrlalynGvoGsR6OurSaTfLprY23jWziE5OPv429eOvWi30DWLvS5dTtdJvp7CHPmXcds7RJgZOXAwMd+a6Lw3/AMkv8afWx/8ARxo+Hn3fFP8A2L13/wCy039ry/yuJbpdzjau6Zo2qa1M8Ojabd6hLGu50tIGlZVzjJCg4FdL4Z8I2moeGZdc1IiaP7X9khthqttp5JCB2cyTgg4DKNoGTknIxyQ6TZaJ8XtNsdK1CPUbNNRtmiuI5EfIZkbaWQlSy52kg4yDVJXmo/1/WpL0jzHITQy288kNxG8UsbFHjdSrKwOCCD0INX9XvNWvY9PfWfOZUtVjtJJotpeFWYLhsZcA7gCc4xjtgdFFo8PiD42TaXdEiC61qVJdvUp5rFgPcgEU7TlT4j/FSO31eWW2tLppEjW3AH2aJEYxoikYCqFAx9e5zWcZc0U/n+H/AAS2rSa7f1+n5HI2N7Lp94l1AsDyR5wtxbpMhyMco4Knr3Fa0njHU5Ymja20UBgVJTQrJSM+hEWQfcVa1bR9FfwemuaD9viEeoGxkS8lSTzR5e9ZF2quzocqd2OPmNcvVb6C21Ogu9a8R63oNwHjZ9OhkR7uW1sUiVnOQjTSRoN7Ek4LknJPcmufrt9Pg0u++H3iObSzrVg9lHbPNC+pLJb3RaUL80axJ05IyTip7XwfoSa5pHhvU21EatqlvE/2uGZBDbSTLujUxFCXAyu4h16nA45Ort/WgdP6/rqcRLZ3MNrBczW8scFxu8mV0IWXacNtPQ4PBx0qCvUbuy0KPwN4NsvEw1B5Dc3luBYyogjH2gB3LMrbscYUAZ5+Yd8zTPAdkdZ8QaXcvNquo6XdG3ttOs7yK1lugC+6RTIr7sBPuKC3ze3Jdb/1/Wq/q4We39f1ozgaK2V0a3l1W9t7y9i8P+RIQsGqrO8i8n5T5UJ+Yd8qv0qObRI/7Rgs9O1jTdRaYE+bHI9vGhHZnuFjA/l+NAbGVSjrxWs1tceGNWgluotLvnVS6Ri5ivIs8gFvKdlJB52twcDII4PQfE65mvLzw5c3L75ZdAtXdsAZJ39hwPoKd7Wfn/n/AJBbW39dP8zmdeutVvNZmfXxKt8uI5I5ovKMYUABdmAFAAAAAAFa95P4uh8FJb3WlzWmgzmJxOukpCk5AOwmYRgueTgljnNWtflOu/DnR9cuyW1CzupNLmmY5aeMKJIifUqCy59NvpRo3/JIPE//AF/2P/tWpekWu1vzX+dwW6fe/wCv+RxtFaMH9jf2Bdfaft39r+an2by9n2fy/wCLfn5t3pjis6qEFFehWuvavoHwd0yfRNTu9PkbW595tpmTeBFGQGAPzD2PFX/FnhjSY5bjxNqdvLHaNY2EsljYFIC91PGSwB2sI1+RmPynkgDGchN2b+X4q40rr+ujseXUV6LZ+A9CupRqD3WoQ6PPocuqxKCjzxPE+x4ycBXGQcEBc5HAwarWvgjTddvfDTaNLc2NrrIuPOS8mSVoPIJLkOFRSCo4yBg9Tjmi+tv66/5MOl/66f5nB0V2Pibw1o1h4cj1HTrmO3uhdeQ9g2s2uoO8ZUkSq0GNoBBBBHcc9q46hO4NWCivRtFvr7VfAWuW97rz68y6cHg0iSWV2sgjjM2ZVCjYoIxGWJDegOLOi6vN4q0nRvDOgeKNY0bUINPkt/sYDJaXThpJDl0lyCVbHMZ6YzRJ2v8A13/yBa/16f5nmFFev6S03hfwp4UvbfUX0zTbgPdXwt2Hm6nN5xQW+3PzqFUA7sqoYkgkgNf1bRx4VsdWuPDupf2Dbtr1xHeajC22WGGNVZLeMAgsSzHCAjO0ZwqkgbSdv60aX6/d6gk2v67N/p9/oeI0V2XxTgs4/HD3OnQ+RFf2lveGLABRpI1Y5AwMknJ9zWX4X0O31Y6leak8y2Gl2hup1gIEknzKiopIIXLMPmIOBk4PShO6u/6sDWqt1t+Oxg0V6HovgfRPEVzoN3YvqFtp2pTXNrcQSzJJNDLFGZAVkCAMrAr1QEYI54Nc9Z6Ppy+C116+W6mK6qLR4IZlj3R+UX4JRsNkdcEY7UX3v0/ULbf1sc7RXonxQn0Q3lgkWn6gt42j2Rhma/Ro0XylwGTyQWOOMhhzzgdK87ovq/Vh0TCrWn6Zf6vdi10qyub64ILCG2iaRyB1O1QTXaWvg/Qk1zSPDeptqI1bVLeJ/tcMyCG2kmXdGpiKEuBldxDr1OBxzY8N2WjWfgXxdFealqENwqW8F4YdPjcRj7R0QmZd4JUZzs/Ghuwbnn93aXNhdyWt9by21xE22SGZCjofQg8g1DUk4iW4kFs7yQhiI3kQIzLnglQSAfbJ+prT8OX99Y6kf7P8QyaAZUKvdrLNGMddp8lWY5I9DTQmZFFep6pr1v4d+JqavcvdRw3ejbI9SskQy3LyQGP7Wq7lwS+WwSG45wasaJol1q/i7QNVvNZuvFVpc2l3PYLqQYyedAhPlPGzOB8+04DEGlf9fwv/AJeQ7f193+f4XPJKK9t02xt/FmlWVn4n1Z9c1C01+1Se7dxIirNu320cmSWUbMkj5cn5cgbjU1R5dT8OeMNP8Sag11e2sIvbeyTDQ6SElCLEp6IxV9pRcBQADlshZcrJ/wBdE/yY1G7t/Wra/Q8pk1S8l0eHS3mzZwTPPHFtHyuwAY5xnkKOM44qWDRbi48O3mso8Qt7OeKCRSTvLSBiCBjGPkOefSs6ut0z/kk2v/8AYSsv/QZqp6Rb9PzSEt0vX8mzkqKK7Lwz4RtNQ8My65qRE0f2v7JDbDVbbTySEDs5knBBwGUbQMnJORjl9Li62Oa0zRtU1qZ4dG0271CWNdzpaQNKyrnGSFBwKfaahqWhTX0Fuz2ss8MlndRvGN2wnDoQw+U5HsRiuih0my0T4vabY6VqEeo2aajbNFcRyI+QzI20shKllztJBxkGmXOkf218UNatjbXFzGt7dyyJbyJEdquxJaR/ljX1dsgehpXvbzv+n+Y+/lb8f+GOQor0uH4daTdeI/DVv589tZ6ylz5qR30F60LRAnKzRDYwPy8YBHI96wL7QtDu/Ccut6A99BHaX6WdwL6RJPMV1JWUBFGz7jZTLdR8xov/AF87fmFv6+Vzk6K7Xxn4Ss9Cs0m0iw1C5sXkCxa2L6Ke1uRyDhY4/wB2xIPys5IA5B61qap8PNG0qHUbG81GK3v7G0Mou31m0KTTKoYwi1H71c8qCWJyAdvOAcytf+v6/ELO9jzy1tLi+uUt7K3luJ5PuRQoXZuM8Acnioa9T8F6NpPh3xv4dtryK9uNXu7X7X5sdwkcEAkiZlXZsZnO3kncvJxjjJ8903+xvsd//a/277T5P+g/Zdmzzc/8tN3O3H93mi+rXYOifczqKK6j4f6tLpvjDTY7aG3825vreP7Q8e6SJfMG4ITwuc8sBu4wCMnNRV3YluyucvRXpOgkD4weI8o6fNf4vk25047m/wBJyxUDZ65B545wKZ411LVLHSfC1/Bq1xfXiRTmPxHBcMHn3MMxK+RJ8m4j5wrfORjGM5qV0n3/AOD/AJFuOrXY85or1S68RTWOi+FtK8Z6pe6it/exapqaXszz+VbBsRJhieCu5yByQVp+tJqOoeD/ABc3iDWbHVILSWGfTPs99HciHM2z92EYiFCjY2Hb0GB8vDbt/Xa1/wBfuBK/9d7/APA+88ooor1vwfEnhfRbrSWRf7W1rRLy7vCRzBbC3cwxexY/vD0ONgpt2i3/AF3EleSj3/4Y8kqzY6de6pc/Z9Ms7i8n2lvKt4mkbaOpwATgV6Fp/gPw2/hO31PULnUzcNpDapKkLxhQFuPKKDKk5YdD/CRnDZwDRPDmmad8WtQ8LxXWswN5s0NvfWd8sDpGI2Yq48s78gAHBUdeKG7Nr1/DT8wSuk/T/P8AI80orqfDGhaPfeGte1jW3vdulCAxw2jKpmMjldpLKdvQfNg454PSqvi3RrPR7ywfS2n+y6hYQ3scdw4eSLeCChZQA2Cp5wOMcUN2/r5huYFaE2g6xb6THqk+lX0WnyY2Xb2ziJ89MORg/nUOnpYyXirqlxcW1tg7pLa3WZwccYVnQH/vquz+KyaSvjS4NveXs1xGtvG1u9okUccQhTAVxIxzjHGwAZPXHIxI4u5069s7a3uLuzuIILpS1vLLEyrMo6lSRhh9KrV2Pi61tT4U8MahYT6p5F2lwiWuoXouRbiOQLiMhEABySRitbWvBPhu01jXtE06XVGvdL043y3M0sflkqqOYjGEyflY/PuHP8Pcl7K78/wHbVL0OBj069m0+a/is7h7OBgstwsTGONj0DNjAJ96rV2Om21nefDDXZbebVbaawe2eaH7cGtblnkKgmIRggqBxljzUnhjwnYax4Zlvo7S+1zUUmYPpmnXsUE0MShf3mxo3eQEtj5F4wc+xtfyF28zkfsdz9h+2/Z5fsvmeV5+w+Xvxnbu6ZxzjrioK9C00aTD8GJjr0V9IkfiAiO3tZFidn8jGGdlbaAMn7pycDjqHf8ACu7GHX/ESyXDzafpBg8qOS9gs5JjMNyKZpfkXC5J4OSMADOQX1a/rZf5jton/W7R53U0lpcRW0NxLbypBPu8qVkIWTacNtPQ4J5x0ruJ/A+jrrUssGomfSrXSv7SvIba8huJoSG2GDzY8oWLEfNjhWyV4wa/i+Sxk8A+Em0q2uLa23XuI7m4WZwfMTPzKiD/AMdovrb+uv8AkFv6/r1OJooopiOl8B6jY6Z4nM2qXS2lvJZ3MHnOjsqtJC6LkIC2MsOgNVLTVJPDF3qcGm3NnqEd7ZvZPOiSbCjgZKhgjAjGOR68Gn6B4ei1Sw1DU9SvWsNM05U86aOHzpGdzhERNygk4J5YAAE0eKfDT+G7qz2ztc2eoWkd5aTtEYmeNxxuXJ2sCDkAke5zSdr69rfn/wAH5DW2nr+X/AKnh/Xbzw1r1rq2neWbi2YlVlXcrAgqykccEEjgg81oXvjGe50iDS7XStN0+ygu1vEitY5M+YARyzuzMDnuTjAxgcVR8O6JL4i1yHToZo7fervJNKDtijRS7sccnCqeO9aN74XtH0i11TQNUa8s5rz7DIb2FLRoJSMqW/eMoQjJ3Fhjac4p9V/XXT8fxFv/AF5f5GRrGqz63rl7qt0saT3k7zyLECFDMxJwCScc+prorv4kahePfzvpelLe6laG0vL1YpDLOhQJnlyqnAB+QKCRyCOKpeJPC0GhaPpF/a6tHqSakJgWihZEUxMFO0tywJPUqvTpUviHw7ovh/8A0WTWL+fUTawziJdNQQ5kjWQL5nnbuA2M7O3Sp05bdNitXLz3G6X4yTS9AudIXw5pNxBeCMXTzNdb5yjblJKzADBP8IFN0DxePD1tdxW+g6XcteQyW80tw1xuaJ8ZT5ZlAHA5Az70+PwfE3gvUNc/ti3kuLJYJHsoE8zasrbVDyZAVu+0bsdDg5FQ+GdD0nxBeW2mzard2mp3cwhgQWCyQFjwm6TzQwBPBwhx15qt20Tskws/FrWljeadJo+m3Wl3NwLlbCfztkEgGAyMsgkHHHLnI61DpniKHStf/tW30HTXZHSSCCR7gx27qQQVxKGPI/iZhVu08LWkOlSal4j1SSwthetYxC1tftEkkiAF2wXQBACOck5PAqxL4FGm3msnXNSFvYaS8SNcW0HnPcGUExeWhZQcqCxywwPU8Uk0ndf1t/wLDaez/r+upQufFk0ni2DxFZafZ6dew3IuiLYylJJN+8swd2PJ7AgY7Vfu/EVjovjmLxJ4RCMJlac2dzG2LWSQMrxEjG4DJKkHoVzyCKr33hGOy1mKFtYtU06ezS+hvpwU3wtwB5Y3EyZyuwZ5B52gsI9e8M22geOJtBudVVbaF0D30luwwrIHzsUsc84wD17ilZaR9f8AJju9X/X9f5lax1F7rRV8OT3NnY2Ul59sa6uEkOxxGVwdgY4I9FJz3xUsnh/TEiZ18YaLIVBIRIb3LewzbgZ+pFP1bw5ZweGoNe0XUZr2xkums5BdWot5Y5Qu8fKHcFSvfd26Vc1HwK+mfD618R3V+q3NxNGv9n+VykUiuY5C+f4vLJC46EHPNN9X6f8AAEui/rzHx3ek6D4M1uwtNXh1OfWPISOOGCVDAiPvJk3qAG6DClxnPOAMwW/j6/gWzmbT9Pm1OwgFva6pIkhnhQAheA4jYqDgMyEjA54GG6t4Qi0zwfHrUesW97L9u+xTQ2ybo428vfxLnDkdDgbfRjWjpvw7S+n03S5dVeLXtUtTd2tktpvjVCpZBJLvBRmCk8IwAIyRnhO2t/60/wAgXT+uv+ZnWPjee00rTrKfSNMvm0uSSSzuLpZS8LOwYnCyBG+YA4ZT+Iqhba9Gtxc3Oq6PY6xc3Mplea9kuAwYnJ/1UqDknPINW9B8P6Rqs9rZX2tzWeo3lx9nigjsTKsTEhV81y67QSf4A+B19KS38KrAuo3HiC++wWenXRs5Hhi8+SWfn5I03KDjaSSWUAY6kgF3Sd/66f8AADXb+uv/AASOfxr4ik1y91a31e7sbq+YGc2MzQBgBhVwpHAHAzWfqetarrcqS6zqd5qEka7Ue7uGlKj0BYnAqxaWehy3l0bvWLm3sogPJYWIeefJxxH5gRcdTmT6ZrdTwFF/wkyWEuqsLCbS21WG7jtd0jwCJpMGIuAG+UjG7Ge5FGiX9dv8g1vY5OznjtryOaa1hvI0OWgnLhH9iUZW/IitvxF4t/4SS2tYptE02ze0hS3hmtjcbliTO1MPKykc9SM+9ZepxaVFKg0a8vLuMr87XdotuVPoAsj5HvkVRp7hsdL4l1eyOk6b4e0SUz2Gnb5ZLkqU+1XEmN7hTghQAFXIzgEnrgW7e70vT/hfqmn/ANsW1zf6jc2syWsMU26IIH3B2aMLkbh0Y1x9FK101/W9wvaxowav5GgXWl/2fYyfaJUk+1yQ5uItv8KPnhT3GOazqKKYjo9M8YNYeH4dHudF0vU7a3umu4jeCbKyMFB4SRQwwo4YEUReN9Ua51KTVY7bVotU2G6trxGEbMn3GXy2QoV6DaQMHHTiucoo63HsrHSt451L7RcvHb2cUM2mNpcdsiN5dvA3JCfNnOcnLFiSSTmobHxjqmmpoosvJibRZJXt32ZLeYQWDgnBHGMYHBNYFFHW4uljV1bWLTU0H2fQNN0x9+9pLNp8t/s4kldQPoB0rKoopJWHe50A8WNbafcW2j6Pp2lPdQmC4ubbznlkjP3kzLI4UHjJUA8YzjIpNN8VyaNa40jS7Czv/KaH+0085rgKwwxG6QopIJG5UBAPBHWsCii1w2Oj0rxldabptrZTadp+opYzGexe9jdmtXPJ27WUEEgHa4Zcjp1y2y8Y3kMF5b6naWms215c/a5Yb8OQJ/8AnoDGyMCQSDzgjqOlc9RT63EXdX1a71zVp9R1B1eecgttUKqgDAUAcAAAAD0FT6Fr11oF1NJbRw3EVzA1vc21wpaOeNuqtgg9QCCCCCAQay6KSVlYfW50qeOdRttS0q50u1s9Oh0l2e2s7dHMW5/vlt7Mzbhwct0AAxiotV8XTan4fTRIdM07TtPjuftSxWcbg+ZtKklndmbIPcnGABgcVz9FFgub2p+Kn1nS7e21HSrCa6t7aO1j1H96s4jT7oIEgjJA+XJQnHvzWDRRT63F0sdTb+Pr+BbOZtP0+bU7CAW9rqkiSGeFACF4DiNioOAzISMDngYx7PW7my0bU9NjWNodTEQmZwSw8t9w2nPr1yDWdRStrcfSwVf0vULaweRrvSLLUw4AVbt5lCe48qRD+eaoUUxG5d+J5dR1iO91XT7K9hghFvBYuJI4IYx91F8t1bAz3Yk9SSealk8basNW029sjDYLpQ22NrbofJgUnLDDEltxJ3FiSc8nGK56igDoL/xfdXMEEGm2Vno1vBc/bBFp4kAafs5LuzZA4ABwOcDk1Jq3jS71WzvIF0/T7B9QkWS/mtI3V7tlOQW3MQo3fMQgUE844GObopWX9f15L7h3YV0VjqlnD8PNY0ySbbeXN9ayxR7T8yIsoY5xgY3L1PeudopvVW/re4tncK3NJ8Ty6bo8+k3On2WqadNMs/2e8EmI5QMb1aN0YHHB5wR2rDooA29M8RQ6Vr/9q2+g6a7I6SQQSPcGO3dSCCuJQx5H8TMKvJ47ni8QXuq2+j6ZCdQglgvrZfPMV0spy+7dKWU5wflZcYFctRSsM9A8MePoR4u8PyaxbWOm6VpH2gRJawybVEkZGDyzN8wHJy3JyfTnNQ8USXmmRaZbaZY6dpqTi5e0tfNKzSAYDOzuznjIADADJxyc1hUUWC5v3fippNFudL0zSNP0m2vHja5+yGZmm2ElQTLI+ACc/LjPfNSar4vOuRM+raHplzqDQrE2o/v0mbaNochZRGWAA5Kc45zXOUUWC52GmfEjU9LexuItP0ya/sbYWkV9PC7S+QMgR/f2jg43BQ2ON2M1gabq/wDZtnfwf2fY3f22HyfMuod7wc53RnPyt781nUUW3AK1fD+troGpJfDS7K/midJITdtKBE6nIYCORM8465FZVFPYW51A8c3EfiC71W20jTIDqEMsN9aqJmiulkOX3bpCynOD8jLjAxVTVPFU+p2+nWYsLK003TmZ4bC3WTyizNlyxZ2di2ADluAMDFYVFJJK1ug22zU1zXrrxD4hn1jU0ieadwzRKCsaqAAEAzkKAABznA61NqPiSS803+zbHT7PSbFnEstvZCT984zhnaR3dsZOBu2jJIGSTWLRRZWsF9bmpPrfn+GrbR/7M06P7PM0v26ODFzLnPyvJnlRngY7CtbS/iV4u0qR2j1/UbhWgeBY7i8lZEDKV3KNwwy5yp7ECuVopiOql+IetXGnva3IgnMmntYSTyh2kdGm84uWLcvu7+nbPNSWfxDurXxbdeJH0bS7nU7iVpRJL54EW5SpCqsoGCCfvZPvXI0UrL+vMd3/AF9xuN4nkTTdV0+x02ysbTVPJ82KHzW8vym3DaXdjyeuSfbFVNW1q41kWAukiT7DZpZx+WCMohJBOSefmPp9KzqKLAFaeta5Pr2vSarfww+bLs3xoGCEKoUDrnkKM8/lWZRTEdNqvjJdV0G10lvDuk20NmHFq8DXO+DewZsbpmByR/ED7Yplz421K71/VdXkgtRcarZtZzqqNsVGRUJUbsg4UdSfpXOUUrf16judNpfjJNL0C50hfDmk3EF4IxdPM11vnKNuUkrMAME/wgVW0bxJDoskU8OgaZPeQTedDdTtcF42ByuFWUIQCOMqffNYVFPrcXkbF34nv77QZtLuvKkjn1BtRkmKkSNKy7T0OMc5xjrWgfHuoS6pqd3eWVhdw6rFHFd2UyP5LiMAIRhw6sNuchhzn6Vy9FKyHdm/Z+Km03VprvTdI0+1guLVrW5sVMzQzxt1DbpC47HIYYKjFM1/xVdeILDTrGa0srS100SLaw2kRQIrkEg5JLcjOTliSSSTWHRRYLhRRRTEd74D1ezTwzrejzLYHUJJIbzTxqUyx27yx7gQxYhchXLAMQpIwc9DD411I65eeH9Ik1SC8u7S38m71CS4DxGaWVnbMnQqu4AsMjg4yK4pVZ3CopZmOAAMkmrN9pWoaZffYtSsLqzuuD5FxC0b89PlIzzSavJN/wBaW/L9ATsml/XX8/zZtWC3/hHx5HFpOoaVfXNvJsE6XKNZzqy/MpkcquwqxUkkd+R1rZ8RanbReDYPDVtBo9teXOordzQ6XcGWCEBCi753kcFjvJ4cqoA6EmuIvbK7028ktNRtprS5iOJIZ4yjocZ5U8jg1BRulf8ArqPZ3R33ijTGT4c+G4FvtJln0wXRuooNWtpXTfKCuFWQlsjn5c471Z0/VtQsPCurQ+Mtdh1LT7jTjBp+ntqUd8wnOPLZUV28nYMkk7fTk8V5xWhYaDrGq201zpelX17Bb/66W3tnkWPjPzFQQOOeaGtHcE9UzsPDWlP/AMK48R2z3+kRT6mLRrWKbV7WN3CSFmyrSAoQOzYNVvAh1HSL+C/S70O2sPP/ANKlurm1M6RrkPsBJnUlS2PKwTxjPFcRRT63FujvNMvVuk1LTbKDQ7jw4movc2w1y98l7YcjeqrKkr5TblQHyVHGet288VT+IvFmurpkGkXmkXqwI9vrFylnG4hVUSRf3kZVuDwp6MQRXm1FJL+v69Cm2dt4su4/FevadYaNLp4i0zTktRJ56WtuxUszbGmZflBfA3Hc2MnJJq7480dNc+KLvb6vo62WpSRpHef2nA8cYWJAzPtclAMHqBntmvPKKErP7/xE3dWPTvEP9k6ddaTphW1k8HaXdB5vsWpWs91qEhADysiSkjdtwBxtX34pNb1vw9rngzX7iTXb6S8vNUguEgk0+KNvlilVEVBcH92AQpb+H5eDmvMqsz6feWtrb3N1aTwwXSlreWSIqswBwSpIwwB44pW0s/62f6DTs7r+t1+p3EmkSJ8ITp5v9HN4urG9MC6xalvK8jbnAk5OeNv3vaumtPFFnJqGga/ZX2n2FlBbW51km7VbyR7dQBAIyd7I2xSAikEnLH5Rt8Yopu92/wCtFYnS1v61dz0nwhaWlvb3fjEz6Rc6y9wx03TbrU7eH7O+4nz5RI65C/wrzk88DBo0rVNWTwbe6TpWv2+na9Dq7XU8q6rDb+fHJGA2y43hWwyAlQ3OQcHHHm1FFktFt/lb/LX/AIYrmd79f+H/AM9D02XTfDviz4mX93c6nYx6ZaRRyXTG6jtm1KdUAcRGRlX53DEtkDBz3FZOs3fiO88bJe2V7p2k3Rg8u0Gn63bpHbQINqxiVZdq8cYLAnniuIoota39f1/kK/8AX9f1c7Tx5qsd9pmhW17exanrtrDINRvopBLuy2Y4zMCRKyr1YEjnGTg1xdFFCVgbuFFWZ9PvLW1t7m6tJ4YLpS1vLJEVWYA4JUkYYA8cVWpiCiiigAooooAKKKntLO5v7pLaxt5bmd87YoULs2Bk4A5PAJoAgooooAKKstp94unLqDWk4snkMS3JiPls4GSobGM45x1qtQAUUUUAFFFFABRRRQAUVZn0+8tbW3ubq0nhgulLW8skRVZgDglSRhgDxxU99oGsaZZQ3mpaTfWlrPjyZ7i2eNJMjI2sRg5HPHagDPooooAKKKu6Zo2qa1M8Ojabd6hLGu50tIGlZVzjJCg4FAFKirtrpGpXupNp1lp13cXyllNrFAzygr94bAM8YOeOKhvbK7028ktNRtprS5iOJIZ4yjocZ5U8jg0AQUVZvNPvNOkjTULSe1eWNZY1niKF0PRhkcg9j0qtQAUUUUAFFFFABRRRQAUUUUAFFFWW0+8XTl1BrScWTyGJbkxHy2cDJUNjGcc460AVqKKKACiiigAooqa1tbi9uo7aygkuLiVgscUSF3dj0AA5JoAhoq7f6RqWlXq2eqadd2VywDLBcQNG5BOAQrAHnFO1TQtX0Ro11rS73TmlBMYu7d4i4HXG4DPUUAUKKstp94unLqDWk4snkMS3JiPls4GSobGM45x1qtQAUUUUAFFFFABRU1ra3F7dR21lBJcXErBY4okLu7HoAByTRd2lzYXclrfW8ttcRNtkhmQo6H0IPINAENFFFABRRRQAUUUUAFFFFABRRRQB13w0t2PjiwvyEaGwlE8iBg0rYBI8uIfPIcj+EHHU4HNcv9ok+2fadxaTzPM3McknOcmtXwdrEGgeMtL1S8V2t7acNIEGWC9CQO+M5xVHVbW2s9SkistRg1GHOVuIEkRWB9pFVgfwx7mi7TTDdNHS6QP+FmfFJW19zbHVJJHna0GNhWMkbQ2ePlHX86q6to+iv4PTXNB+3xCPUDYyJeSpJ5o8vesi7VXZ0OVO7HHzGsrw9rtz4a1231WxSKSe33bVmBKncpU5AIPQnvU1jqL3Wir4cnubOxspLz7Y11cJIdjiMrg7AxwR6KTnvilaysvL8/8AId9bv+tP8zIXaXG8kLnkgZIH0r0LxFD4fT4Y+HI7fVdTKb72SAHTY186TcoPmYnOzoBkbuOwxiuZk8P6YkTuvjDRZGVSQiw3uW9hm3Az9SKpXmtXF7oem6VKkQg04ymJlB3N5jBm3HOOo4wBQ9dA21Ox8MeAbTWrSxhvre6tLjUIJJYbqXU7aHoG2lbVh5sqZXG4MM84HHOLb6No+meE7HWvECX12+pzSpa2tnMkGxIyAztIyPkljgKF7E57VZsviRqNk+m3H9l6VPfabbLaQXs8UjSeSM4Ujfs4BI3BQ2O9Zlh4rlttDTR9R02x1exhlM1vFeiUG3ZhhtjROjYbjKkkZAOM0a3f9f1p/XUNLL+v61/rodP4Cm0NND8XrJZahNt0ty7reJH5kXnR4UL5TbW6ZOWHXjvWLYaPol1peq+IZ7fUI9JspIYIrNbuMzySyA9ZfKwFARj/AKv0HqazdG8S3Oi397PFa2k8N/C8FzaTIRDJGxztwhUrggEFSCMCp7PxY1k1/DDo+nHTNQCedpj+c0O5PuurGTzAwOeQ/wDER04pNO912X5v9AXZ9/8AL+vQ6G08C6Ne6tp8ovL220bUtIuNQQsFknt2hV9ynAAkAZDggLkHsaxzp/hLUr7SI9N1C80yO5uzBerqDrKbePK7Zt6oi4IJyvYr1xzUJ8a6h/an2yO3tIkXT5NOgtURvKggdGUhRu3Z+djliSScnNYVpNHb3cc01tFdojZaCYuEf2JRlbH0Ipr4r9P+C/0sL7Pn/wABfrc6Pxn4dj0GW3+zaNqVlbTZaK7ub6O7hukwCrRvHGq9Dk4Zuo6Vl6n4hvNW0jSdNuliEOkxPFAUB3EM5c7iScnJ7Y4qbVPE0moaPFpNrp1npmnxzm5NvaeaweUqF3lpXdvujGAQPasSkk7WZTa6GjL/AGN/wj9v5H27+2PObz9+z7P5WPl24+bdnrnis6tGXV/N8P2+lf2fYp5MzTfbEhxcSZGNrPnlR2GKzqrqT0O9+Gl/4hm1m1s7DUGstEsZPtWpncI4PIyPMM2P9ZkDaA2euBgZrb05RZ+CrjXPDmoHw/a3mtXH2nUIm2yxW6BWigjAIZi24nYCM7cnCqSOP03xs+n+E28PPoWl3dnJN58zSm4SSdh93e0cqbgvYHgdevNQWXi1rO3u7JtH0250y4nFwNPn84xQyAYDIwkEgOODlzkdc8Unvp/Wq/y0/wCCNab/ANaP/PX/AIGvqmqaUkMviLX/AAxJHpN3dRafI15I6xHT4p4i8rhl+6zFQPlGTuIUEtg8N8ThZ3SeHdXtJJppb/Tv39xOgSS5aORo/OcDPzMFzySeOp61jReN9T/tLUrq/itdQi1RAl3Z3EZELquNgAQqV2YG3aQRjHTNN/tg+IfE9jNqtxYaba2wSOJHgke3giTkJsUMzA89ckknJ5JqVG7X9WVnp+v3j5rJ/wBX21/ry8znqK3fGmp6TrHjC/vvD1gun6dK48i3SMIAAoBO0cLkgnA6ZrCqou6uJqzsaup+ILzV9J0nTbpYhBpUTwwFAdxDOWO4knJye2OK7LWvBPhu01jXtE06XVGvdL043y3M0sflkqqOYjGEyflY/PuHP8Pc+cjiuiufG2o3ev6rq8kNqLjVbRrOdVRtioyKhKjdkHCjqT9KGrrTz+//AIcFuvl93/DHOV32geCNLm0DStS1ybK6pI+CusWll9miR9hcrNkynIY4XaBt65PGCPDulkf8jnog/wC2N9/8jVMPEwsdNTQ7yy0nxDY2UzvaTTLcJs3fe2MrRPtJ5ww69hTuI028LeHNK8M6hq2qXl5qf2XWH02AadNHHHdKE3CQOVfaMZPAbPA461LqXgbS9Ck1fUb+W8utItBam0ihkSKaY3CeYgZyrBdqg5O05IGAM8V7HxTpFn8O5LCbTLG9u31o3S2Nx9oEcUflYDKyOpOD8uGYnHUHrWePHepzXmpS6pBaanBqYT7RaXKMsX7v/VlfLZWTaBgbSOODmp1v935K/wCpWn5/m7f11NZfAmnXV9YX1td3UGhXOlS6pL5irJcQpESskYICqxLLhWwowwJHGDN8OX0ab4p6KdHt76zj/fiVbu4S4P8AqXwwZUT34x2688YKeOdVh1631K2jtYI7e2+xx2KxE2/2c53QlWJLK2WySSxJJznmm2Xi9tK1+z1XR9G0ywktA+2GITOjl1KksXkZjweAGAHpycn5a/r+lg6f15frcsapouhS+FIta0N7+CNdSNhKL2RJN4Kb1lARRs6NlPm7fMateNPCdnoNkk+kWGoXNi0gWLWxfRT2tyBkHCxx/u2JB+VnJAHIPWuej1ydPDo0VoYZLT7aL07g25nCbNpII+XB7c+9XLvxU0mi3OlabpGn6TbXjo1yLQzM02wkqCZZHwATn5cZ75pu/T+tv+D/AFYSt1/rf9LFWXxDeS+E7fw8yxfY4Lt7tWAO/eyhSCc4xgeneo4P7G/sC6+0/bv7X81Ps3l7Ps/l/wAW/PzbvTHFZ1aMGr+RoF1pf9n2Mn2iVJPtckObiLb/AAo+eFPcY5ofURnV0/gq68UzanHpHhC8ms5rmQSSSW7iEhVHJkkHPlgZJBO32zXMV0nh7xlL4e0bUNNi0nTruLUQFuJJ/OWRkH/LPfHIhCE8kd++apO2obnUTeL9F0rxx4vk0u+vdOttSRYLW+0eJSyMsiMzqPMjwrFG6H+KuY8caff2etW8+oazNraX9pHdW19OzGSSFshQwYkqRgjGTj1qkmtWC6hLcN4Z0t4nQKtq0t15cZH8QIm35PuxHoBVj+2JfEfiu1u9cvbOzii2InnQO1vBFH92IRorHaAMYxznk8k1EY/Cuw3Ld/1fQ5+it3xpqek6x4wv77w9YLp+nSuPIt0jCAAKATtHC5IJwOmawqcXdXBqzsaup+IbzVtI0nTbpYhDpMTxQFAdxDOXO4knJye2OK3T/wAkPH/Yw/8AtvXG107eM428MHQR4a0gWnm+eCHut4m2bPMz5+M47Y2+1D+F+f8AncF8S/rpY0l0Dwfp2neHpNeu9VWXWbXzpZIGQR2Y8yRPMI2M0g+UfIMEYPzHIA4hwFkYKwdQSAwGMj1q/qetXGq2mm29wkSpptr9lhMYILLvZ8tknJy56Y4xVu30HTpraOWTxZo9u7qGaGSK8LRkj7p225GR7Ej3o6t+b/4AdEvJflqW/C3h6DU7G6vb6xuZ7eKRYhINTt9PiViCcGWcEM2B9wDOOc1e/sKPwz8Z7LSbeZp4bfVLby5GxkqzIwyRwSAwGRwcZFU4vER0DTZNBVdH8Raf9pW8jd47gJHNt25UHyyeMAhlKnA4NM/4Ta4k8XSeJL7StNvb5mikQSLKkcTxhQrKsci/3Rwcj2qou00+i/4H/BJkrwa6lLxb/wAjxrf/AGEbj/0Y1bHxX/5Kdq3/AGx/9EpWXfeJLfUfED6rc+HtLLSl3mtw9yI5XYklz++3A5PQMB7UeKfFDeK9RN/c6VYWd25BlltDNmXChRkPIwGAB0A981nFNRiu3/ANJNOTZX1/xDeeI7u2uL9Yle2tIrRPKBAKRrtBOSefWo9R/sb7Bp/9k/bvtflH7d9p2eX5mePK287cf3uazq0dR1f+0LDT7X+z7G1+wxGPzbaHZJcZOd0pz8zds8VRBnV7vpluNH8ReGdGuLww6Be2VvCmkwkN/aUk8Y82aVOm0FvvsCcoFXoSvhFdRaePNQtbS0X7HYzX1hAbez1KWNzcW8ZzhVwwQ4ydpZSVzwRgYb2t/WzBb/15HP38CWupXMETbkilZFb1AJANei+GILjTPhhFq2maodE+0alImoapE2JkijRCkKYIZizMTsBGcZOFUkcNpet/2XY6jbHTNOvTfw+V515B5klv1+aI5G1uevPQVPpHiebS9Mm0y4sLLVNPmlWf7LeiTakoGA6mN1YHHB5wR1B4pK6jb0/Mbs5X9fyPWtU0pIZfEWv+GJI9Ju7qLT5GvJHWI6fFPEXlcMv3WYqB8oydxCglsHlPGl2sep+F9d0TWbnT7rUNP2T6pIXhlkKO0RnfytzZYLzjccetcxF431P+0tSur+K11CLVECXdncRkQuq42ABCpXZgbdpBGMdM1BdeJ21DV47zUtLsLqCGAW9vYN5qQQRj7oXZIr8cnJYkkknJqbO6/rSz0/rzHfR/121/ry8zc+IjSXOn+HL2S5GqtJZNHJrIJP22RZDkHcA/yAquXAY46YxXD1tajrc3iCSxsZvselada5S3giSTybYMQXY/fkbJ5JJY9hwAKu+PNU0TVNbtj4dtLeCC2s4oJpba38iO5lUHdKqdQDnjODxzzTWnzb/zDf7jmK1ZfEN5L4Tt/DzLF9jgu3u1YA797KFIJzjGB6d6yqKrpYnzO5XQPB+nad4ek1671VZdZtfOlkgZBHZjzJE8wjYzSD5R8gwRg/McgCfQ/A+lSaJpmoazcCSPU5ZArprFrY/Z4kfYZNk/zSkkMcDbjbjOTxyGp61caraabb3CRKmm2v2WExggsu9ny2ScnLnpjjFX7PxY8WhQaRqWkadq9rayPJbC8EytBu+8FaKRDgkZwc80urfn+Fx9F6L77f5nQ6P8P7W5tNVuYoNS8TLZaoNPjTQ3VdyYY+eWKSAqcDAHHPLdM834z07StI8W32naBJNLZ2r+Wss06TFyOp3Iqj2wM9OprodB1fw9N4Km07UP7JiuTqbXS2+qJeGCNCm0eU1vmTPGCHYjAXqcms7WNL8L6jrE8uha7p+lWahEEV1HdkO4Qb3jxFIRGWzgO271Apa839dl+t/6Q9Gv67v9LGT4Z0j+2taW2NtcXMaxvLIlvIkR2qMktI/yxr6u2QPQ1qeMvDFnodhpF/p7MseopLuga+hvfLaN8HE0ICMCCOMAg5BpljfL4NuJbjTNW0jXEvbeS0urVYroK0TjkNvSI9QMFWzkVX1LxbJqkemW9xpGmpY6YZPIs4kkSNlfBKsQ+9uVzndu5OSab1at/X9aCWid/wCv61NL4ife8Mf9i9af+zUeJf8AkmXgr6X3/o4VQ1/xePEMVmtxoOl27WUUcEUlu1xkQpnEZ3SsCOeuN3vT9W8Yrq2gW2kN4d0m2gsw4tXga53wb2DNjdMwOSP4gfbFD6vzb/P/ADDol5IzpfEN5L4Tt/DzLF9jgu3u1YA797KFIJzjGB6d6jg/sb+wLr7T9u/tfzU+zeXs+z+X/Fvz8270xxWdWjBq/kaBdaX/AGfYyfaJUk+1yQ5uItv8KPnhT3GOaH1EZ1em+GILjTPhhFq2maodE+0alImoapE2JkijRCkKYIZizMTsBGcZOFUkeZVt6R4nm0vTJtMuLCy1TT5pVn+y3ok2pKBgOpjdWBxwecEdQeKfT+u4dU/62Nf4pwWcfjh7nTofIiv7S3vDFgAo0kascgYGSTk+5rm9I1LUNL1BZ9HkaK8ZTHHJGgMiluPkOMq3oy4I7Grq+KLqTxaPEGo2llqU+/cba7g3W7DbtClAR8oGMDtgVJoXiybw/wCK31+10zTZbje7xQTRN5MDMc5RVYFdvReePrg0oqyt/XoOWv4f8ObfxIaeG20Cx1ucXXiO2tX/ALTmaTzJBufMccj/AMTqvXJJGQO1VvHMcl5Z6Fq2QEfSraBxM4SZnRSpbY2HZMKMSAFT0zkYGRqGqWuv3sYbT9O0d5ZS014sl1JuLdWffJKTzz8oz9ateNtSsdQ1Sxi0u4+1QWGnW9n9oEbIsrIvzMobBAyeMgHjpS6fO/5/5j6/L/L/ACOboooqiQooooAKKKKACiiigAooooAKKKKACiiigAooooAKKKKACiiigAooooAKKKKACiiigAooooAKKKKACiiigAooooAKKKKACiiigAooooAKKKKACiiigAooooAKKKKACiiigAooooAKKKKACiiigAooooAKKKKACiiigAooooAKKKKACiiigAooooAKKKKACiiigAooooAKKKKACiiigAooooAKKKKACiiigAooooAKKKKACiiigAooooAKKKKACnRxvLIscSs7uQqqoyWJ6ACuv+GOtapYePNFs7HUry2tbnUIRPBDOyJKNwHzKDhuOOaoX/iC5v8AxMZvE15quqRW0riIDUCskfzcbHdX24IB4HbtR1SDo/67/wCRiXtld6beSWmo201pcxHEkM8ZR0OM8qeRwagr0i98I2OofF/VtH1LUtSltobaS5a7mlE1wxW3EnzMQA3PHbj0qfU/hvo0lpGuhXF+l5NJppQXciPGi3athDtRSSpXO7gEHG3jNJPRedvx0Hprbpf8P+HR5hRXfeIfBmhadouqy2t+kF3p0irEJNZtLk3437G2wxfPEw4bBL8ZBPGa4GhST2BprcKK9F0rxf4lX4WazMviHVRLb39nFC4vZN0aFJcqp3cDgcD0FU/CnhS216G2u9bt71xqF4YRePqttZgnIDMizAtcMC2SFxzgZyeHrzNf10/zF0TOMFpcGza7FvKbZZBGZth2ByMhd3TOATj2qGvU9C8GSan4R1rQvtaxxafr+bi4CFmMcUMu5kjHzO2Bwoz74AJrB0Twxo2vy6zqVktzHpGneWsVvd6nb280zSEhczSKI04VmxtY8BRn71TzK/3fil/ww7O39d7HFUV6LF4G8OPrt0jarK9hDob6m6Wd1BdSW0iEBoWdPkfuQRt4ZenfnfEej6Za6HousaMt3DBqSzBre7mWVo3jfaSHVEBBBH8Ixz1p31t/XX/ILaX/AK6f5nOVoRaDrE+kvqkGlX0mnx533aWzmFcdcuBgfnVW1W3e6jW9lkityw8ySKMSOq9yFLKCfbI+td549ttIksPDVvY6hqElwuj262kD2EccbhnfLMwmOxiSSQFbnvzw3eyt1dhK19fU89or0CTwZob+INS8K2z6gNZsLeVhevMht5pok3unlbAyqQGAbeegJHOBAugeD9O07w9Jr13qqy6za+dLJAyCOzHmSJ5hGxmkHyj5BgjB+Y5AC5la/wDWt/8AJjs/6+X+Zw1FOcBZGCsHUEgMBjI9a76DT7a/+DOnLd6vZ6YF1q4Ia7SZg/7qPgeVG5/PFD+G/wDW6Qfat/Wx5/RXqnjrw/Z6pd6pJBPJLqWl6Pp9zEI2/dT24hRZGAZQ2RlWGccZ4rNsfBGgnVJrDU7u/jksNCOpag0Gxik2FfylUjsjAHJ+9nkYxRda+X/B/wAvv0C17edvxt/mee0V31l4F03xFJ4fudEmubGz1Sa4huEvJkleAwLvZg4WNSCh4yBgjk4qDW/CuiW+k2t3Y3SW1w98ttJYHWbW/d42GRKrQAbcEEEFT1HPamtXYT0V/wCv60OIort/EuieDNF1LWtJt7vVWvdMmKRSzsoS6Ik2tEFWMlCFzhy2CVPyjIFaPjG48Pf8IP4Txpepgvp8/wBlzqUf7r9+/wB/9x8/zc8bOOPep5k4prr/AJP/ACK5Wm0zzeiu7g8EabL4w8MaU090INX0yK8nYOu5XZHYhTtwBlR1B+tLpvhjw0uh+F7rVjqk1zr1xJA0dtNHGsIWUJvyyNnqPl4zz8w6VW7t52J2VzjLHTr3VLn7PplncXk+0t5VvE0jbR1OACcCq1d74L0e0j+Il14dnudVguvOuLaO+029FvtVFfduUoxYNt6bh+NZfhjQtHvvDWvaxrb3u3ShAY4bRlUzGRyu0llO3oPmwcc8HpS5k9VtYbTWjOWor0G18BadqHii2t7H+0JbO50T+14rNGVrmQhD+4Vwm0kspw2zp/Dnis7xt4f0jQNP0kWdnqlhqV3E0t1Z6jdI8lsAxCgqsSEbgNwJxx270N20f9b/AOTBK+q/rb/NHH0Vo6z/AGN9sj/4R77d9m8lPM+3bN/m4+fGzjbnp39azqYgor0bRb6+1XwFrlve68+vMunB4NIklldrII4zNmVQo2KCMRliQ3oDiHSdWlvvhH4qtPJt7e3tVsQkcEe3e3mnc7nqzHHUnjoMDApN2/rzsNK6uef0Vo6b/Y32O/8A7X+3fafJ/wBB+y7Nnm5/5abuduP7vNa3gq68UzanHpHhC8ms5rmQSSSW7iEhVHJkkHPlgZJBO32zVLV2F0OYor2REtrq68ba74Oubawdb6C2TU1YRJaQsGM0yEcrvZMDbyd2F5OK5v4jDTbqbwzq6yXMy39gPtdw6Kk1z5cjRmYjn5mC55J6DJPWoUtvO34q/wDX/AKtv/Wzt/X/AATz+itW4vrPTfEzXnhVrhbWGTfaNqEcbyrx1YYKZz0444PWut8V3Wo2/gPRF8VXLXniGS8a8g+2N580NoUG1ZN2TtZvmCNnjPHJp30uK2tjz2ivRdR1DVbn4VXl34yvZLqXU7qJtFiuX3PGFLebJGv/ACzjIwuBgHjA4FedUdWg6JhRXpHw+1TV5be4n1e8ZfCGl2ckd5bOQlvKWRtkfljh5Wcg5wW4zngVX8A6tK+h+JNMjht4YU0C7kkeOPEk7ZXBdzknAOAowo64ySSN2v5K/wCf+QJXt5ux5/RRRTEFFFFABRRRQAUUUUAFFFFABRRRQAUUUUAFFFFABRRRQAUUUUAFFFFABRRRQAUUUUAFFFFABRRRQAUUUUAFFFFABRRRQAUUUUAFFFFABRRRQBe0bVZ9D1yy1S0WN57OZZo1lBKllORkAg4/Gi11COHU3vLvT7W/DlmMFw0ipk9/3bq3H1qjRQB2F58Rby68Qza2mj6XbX88EtvNJEJyJFeLyuQ0pAIXpjHPXNQXPxA1i4tmiVLaBilmqyxIwZDagiMjLEZ+bJ457YrlqKVv69B/1/X3G9rniaLXTPNPoGl299cP5kt7beers2cs20ymMZ74TucYrBoooSS2C9zRg1q4t/Dt5oyJEbe8ninkYg7w0YYAA5xj5znj0rX03x1eafpem2b6bpt62lSPJYT3UTs9uXYMwADhGGRn5lbBPHauXop9bi8joh431eP7Q1q0VrNPqn9q+dCGDxzYbhckjb854OfrU3/CdXP9pancHSNK+zasire6eIpFt5WByHADhkbPOVYck8Vy9FKy/r7v0Hd/195vQeKWsbm/l0vSrCxS/sHsZYYjM6hH6sN8jNu4HfHtVK81q4vdD03SpUiEGnGUxMoO5vMYM245x1HGAKzqKLAFaWq63c6v9g+0LHGbC0jtIjECMohJBOSfm57Y+lZtFMR1N349vrv7VOdP0+LU723+z3OqRpIJ5UICtkFzGCwGCyoCcnnk5x9T1q41W0023uEiVNNtfssJjBBZd7Plsk5OXPTHGKzqKVl/X9ebHf8Ar+vRBWnLrtzL4Xt9BZIha29090rgHeXdVUgnOMYUdqzKKfSwvM73QfF0TeKIvFOu3lnG1jaraf2ZHbyO17GsPlBOQUCsOGLMO5CngVV8KeKba11vxHqfiAxzyalptygilWTZPNIwOw+WQQDzyCMeorjKKTV/ua+/cadvw/DY6X/hOdTh1DS7jTIbXTYtJZmtLS2RjEhf75O9mZi3Q7mPHAwKp6hrttdyxS2nh/TNMljmEpe0a4+bvtIklZQM+gFY1FNaO6E9VYu6zqk+ua5e6pdrGk97O88ixAhQzEkgAknHPrWj/wAJU83h220jUdKsL9LNJEtLibzVlt1c7iAUkVWw2SNwbBPpxWDRSskrDu27nX6Z8R9R0z+z5U03S573T7f7LBfXELtKIcn5Pv7ejEbgobHGayh4pvRZ6FbeVb7NDleW2O1suWkDnfzyMjtjisWin1uLdWOn0fxxPo/iS515dH0261GeeScS3Hn4iL7twVUlUY+Y/eBPvVRvE8iabqun2Om2Vjaap5PmxQ+a3l+U24bS7seT1yT7YrDopWQ7s7zwv4tspr6RfEhtYY00NtLtxLFKbeTByvneXmT15jwchegzWZ4rbw1/ZtiuiLZf2jvkNy+mfahbbONg/wBJO8vwSSMDBHU1y1FDV3f+t2/1BaK39bW/Q0dZ1f8Atm8jn/s+xsPLhSHy7GHykbaMbiMnLHue9Z1FFMR0A8WNbafcW2j6Pp2lPdQmC4ubbznlkjP3kzLI4UHjJUA8YzjIqfTPGaaZoFzpCeG9IngvFjF08z3W+codyklZgAc8/KAK5iigDS0/WBp9tqMI02wuRfQ+UHuYfMa35zuiJPyt2zzWl4e8ZS+HtG1DTYtJ067i1EBbiSfzlkZB/wAs98ciEITyR375rm6KAOgtPFjWFxei10fTk0++iWK50w+c0Em05VstIZAwPIIcY+hIqrqniC51bVbe8uILZY7VEit7REPkxRpyIwCSSOuckk5JJJNZNFHW4G2PEm3xeNfGj6UCswmXT1tytqCBwPLDdM84z1qzrfjBde1J9QvfD+mC9lnWeacS3TtLg/dIeZhtPTAAwOBiuboo2t5BvfzOp8SeNz4pkkn1Dw/pUd00SxRzwPdKYEUYVUQzFFAHbbjk8VlT635/hq20f+zNOj+zzNL9ujgxcy5z8ryZ5UZ4GOwrLopWQ7nWf8J35nhuw0O78OaPc2ViS0as11GXc9ZH8uZQzn1I4HAwOKg0LxiugW93HbeH9Kna8hkt55Z2uSzROeU+WYADgDIGeOtc1RT7+YiW5mSe6klit47ZHYlYYixVB6DcS2PqSaioooAKKKKACiiigAooooAKKKKACiiigAooooAKKKKACiiigAooooAKKKKACiiigAooooAKKKKACiiigAooooAKKKKACiiigAooooAKKKKACiiigD//2Q==)"
      ]
    },
    {
      "cell_type": "markdown",
      "metadata": {
        "id": "nkm21B6NtxKY"
      },
      "source": [
        "#### Training SVD and then making Predictions on User Ids:"
      ]
    },
    {
      "cell_type": "code",
      "metadata": {
        "colab": {
          "base_uri": "https://localhost:8080/"
        },
        "id": "nbCaP-zU2EsO",
        "outputId": "e5ddda8c-1276-49d9-aaaf-5d2e4573269d"
      },
      "source": [
        "# Training SVD:\r\n",
        "\r\n",
        "svd = SVD()\r\n",
        "predictions, rmse = train_model(ml25m_surp, svd)"
      ],
      "execution_count": 16,
      "outputs": [
        {
          "output_type": "stream",
          "text": [
            "# of users in train: 162541 \t # of items in train: 59047\t # of ratings in train: 25000075\n",
            "RMSE: 0.5745\n",
            "\n",
            "Time Taken for Training: 00:30:00.98\n"
          ],
          "name": "stdout"
        }
      ]
    },
    {
      "cell_type": "code",
      "metadata": {
        "colab": {
          "base_uri": "https://localhost:8080/"
        },
        "id": "eamxxTmH4Y4O",
        "outputId": "dbbb8a5f-90b9-4395-f8dc-e88eda6b48b2"
      },
      "source": [
        "userids = [1, 54, 777, 982]\r\n",
        "display_predictions(userids, ml25m_df, svd, \"25M\")"
      ],
      "execution_count": 17,
      "outputs": [
        {
          "output_type": "stream",
          "text": [
            "\n",
            "Predictions for UserId: 1\n",
            "============================================================\n",
            "\n",
            "                                            Movies   Ratings\n",
            "2745                        American Beauty (1999)  4.658104\n",
            "26660  Louis C.K.: Live at The Comedy Store (2015)  4.578219\n",
            "36942        Requiem for the American Dream (2015)  4.567810\n",
            "758                           Trainspotting (1996)  4.554061\n",
            "4743                           Donnie Darko (2001)  4.538798\n",
            "2287                               Rushmore (1998)  4.522521\n",
            "40697                 O.J.: Made in America (2016)  4.511944\n",
            "42517                       Horace and Pete (2016)  4.506180\n",
            "16241                 Louis C.K.: Hilarious (2010)  4.502333\n",
            "49                      Usual Suspects, The (1995)  4.496782\n",
            "============================================================\n",
            "\n",
            "\n",
            "Predictions for UserId: 54\n",
            "============================================================\n",
            "\n",
            "                                                  Movies   Ratings\n",
            "45901                                             Cosmos  4.720490\n",
            "45669                             Planet Earth II (2016)  4.718451\n",
            "40537                                        Life (2009)  4.709211\n",
            "2215          Life Is Beautiful (La Vita è bella) (1997)  4.688468\n",
            "49480                              Blue Planet II (2017)  4.686354\n",
            "5834        My Neighbor Totoro (Tonari no Totoro) (1988)  4.685242\n",
            "12813                Lonely Wife, The (Charulata) (1964)  4.680674\n",
            "9565   Howl's Moving Castle (Hauru no ugoku shiro) (2...  4.648348\n",
            "40536                                Planet Earth (2006)  4.611287\n",
            "5483   Spirited Away (Sen to Chihiro no kamikakushi) ...  4.606111\n",
            "============================================================\n",
            "\n",
            "\n",
            "Predictions for UserId: 777\n",
            "============================================================\n",
            "\n",
            "                                                  Movies  Ratings\n",
            "1189     Seventh Seal, The (Sjunde inseglet, Det) (1957)      5.0\n",
            "13758                             Thirst (Pyaasa) (1957)      5.0\n",
            "31110                                 I, Claudius (1976)      5.0\n",
            "28745              Sinatra: All or Nothing at All (2015)      5.0\n",
            "20026     Great Beauty, The (Grande Bellezza, La) (2013)      5.0\n",
            "9558   Howl's Moving Castle (Hauru no ugoku shiro) (2...      5.0\n",
            "45174                                 Prohibition (2011)      5.0\n",
            "8707                             Hearts and Minds (1974)      5.0\n",
            "33537                                       Human (2015)      5.0\n",
            "13696  Welcome Mr. Marshall (Bienvenido Mister Marsha...      5.0\n",
            "============================================================\n",
            "\n",
            "\n",
            "Predictions for UserId: 982\n",
            "============================================================\n",
            "\n",
            "                                                  Movies   Ratings\n",
            "1606                                      Titanic (1997)  5.000000\n",
            "10351                           Pride & Prejudice (2005)  5.000000\n",
            "7802                                Notebook, The (2004)  5.000000\n",
            "35094         The Roosevelts: An Intimate History (2014)  4.984822\n",
            "6768                                Love Actually (2003)  4.981351\n",
            "4911                          Walk to Remember, A (2002)  4.956047\n",
            "16812                                   Help, The (2011)  4.947599\n",
            "16664  Harry Potter and the Deathly Hallows: Part 2 (...  4.943285\n",
            "45499                            Band of Brothers (2001)  4.934880\n",
            "56                             Mr. Holland's Opus (1995)  4.922739\n",
            "============================================================\n",
            "\n"
          ],
          "name": "stdout"
        }
      ]
    },
    {
      "cell_type": "code",
      "metadata": {
        "colab": {
          "base_uri": "https://localhost:8080/"
        },
        "id": "4r0GPoS0I3Wc",
        "outputId": "0ecbc6b8-76f5-4b58-9c13-06719dddc9b9"
      },
      "source": [
        "svd_tuned = SVD(n_factors = 200, n_epochs = 25, lr_all = 0.003, reg_all = 0.2)\r\n",
        "predictions, rmse = train_model(ml25m_surp, svd_tuned)"
      ],
      "execution_count": 19,
      "outputs": [
        {
          "output_type": "stream",
          "text": [
            "# of users in train: 162541 \t # of items in train: 59047\t # of ratings in train: 25000075\n",
            "RMSE: 1.1336\n",
            "\n",
            "Time Taken for Training: 00:58:55.69\n"
          ],
          "name": "stdout"
        }
      ]
    }
  ]
}