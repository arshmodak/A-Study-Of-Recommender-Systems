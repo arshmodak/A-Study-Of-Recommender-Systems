{
  "nbformat": 4,
  "nbformat_minor": 0,
  "metadata": {
    "colab": {
      "name": "DS5230:ContentBased_Final.ipynb",
      "provenance": [],
      "collapsed_sections": [],
      "machine_shape": "hm"
    },
    "kernelspec": {
      "name": "python3",
      "display_name": "Python 3"
    }
  },
  "cells": [
    {
      "cell_type": "code",
      "metadata": {
        "id": "iww80YnqkId8"
      },
      "source": [
        "# Importing Neccessary Packages:\r\n",
        "\r\n",
        "import pandas as pd\r\n",
        "import numpy as np\r\n",
        "import seaborn as sns\r\n",
        "import matplotlib.pyplot as plt\r\n",
        "import pickle\r\n",
        "from sklearn.feature_extraction.text import TfidfVectorizer\r\n",
        "from sklearn.metrics.pairwise import linear_kernel\r\n",
        "from sklearn.metrics.pairwise import cosine_similarity\r\n",
        "import time\r\n",
        "import warnings\r\n",
        "warnings.filterwarnings('ignore')"
      ],
      "execution_count": null,
      "outputs": []
    },
    {
      "cell_type": "code",
      "metadata": {
        "id": "vV0c_FqKkPxx"
      },
      "source": [
        "# To mount drive:\r\n",
        "from google.colab import drive\r\n",
        "drive.mount('/content/drive')"
      ],
      "execution_count": null,
      "outputs": []
    },
    {
      "cell_type": "code",
      "metadata": {
        "id": "s6uBSawNkP0I"
      },
      "source": [
        "# TFIDF Vectorizer:\r\n",
        "tfidf = TfidfVectorizer(stop_words=\"english\")"
      ],
      "execution_count": null,
      "outputs": []
    },
    {
      "cell_type": "code",
      "metadata": {
        "id": "cdCJg8AbkP2h"
      },
      "source": [
        "# Importing Datasets:\r\n",
        "\r\n",
        "credits = pd.read_csv('/content/drive/MyDrive/USML_Data/credits.csv')\r\n",
        "movie_metadata = pd.read_csv('/content/drive/MyDrive/USML_Data/movies_metadata.csv')"
      ],
      "execution_count": null,
      "outputs": []
    },
    {
      "cell_type": "code",
      "metadata": {
        "id": "IwZvyJzAkP7B"
      },
      "source": [
        "# Function to change dtype of id from string to int:\r\n",
        "def change_type_id(x):\r\n",
        "    try:\r\n",
        "        return int(x)\r\n",
        "    except ValueError:\r\n",
        "        return None"
      ],
      "execution_count": null,
      "outputs": []
    },
    {
      "cell_type": "code",
      "metadata": {
        "id": "HCcQt2kKkP9R"
      },
      "source": [
        "# Function to extract Genres and \r\n",
        "def extract_info2(x):\r\n",
        "    x_list = list()\r\n",
        "    x = list(eval(str(x)))\r\n",
        "    for i in x:\r\n",
        "      x_list.append(i[\"name\"])\r\n",
        "    \r\n",
        "    string = \", \".join(x_list)\r\n",
        "    \r\n",
        "    return string"
      ],
      "execution_count": null,
      "outputs": []
    },
    {
      "cell_type": "code",
      "metadata": {
        "id": "l5VAgzTUkP_0"
      },
      "source": [
        "# Extract Actor Names and Movie Characters:\r\n",
        "\r\n",
        "def extract_info1(cast, col_name):\r\n",
        "    actors = list()\r\n",
        "    cast = list(eval(cast))\r\n",
        "    for i in cast:\r\n",
        "      actors.append(i[col_name])\r\n",
        "    \r\n",
        "    list_of_actors = \", \".join(actors)\r\n",
        "    \r\n",
        "    return list_of_actors"
      ],
      "execution_count": null,
      "outputs": []
    },
    {
      "cell_type": "code",
      "metadata": {
        "id": "ttH5bI7CkQDF"
      },
      "source": [
        "def write_files(data, file_name):\r\n",
        "  data.to_csv(\"/content/drive/MyDrive/USML_Data/Cleaned Data/\" + file_name)\r\n",
        "  return\r\n"
      ],
      "execution_count": null,
      "outputs": []
    },
    {
      "cell_type": "markdown",
      "metadata": {
        "id": "bDkF-HyORwvP"
      },
      "source": [
        "### DATA PRE-PROCESSING:"
      ]
    },
    {
      "cell_type": "code",
      "metadata": {
        "id": "KuZlRQ9QkQFj"
      },
      "source": [
        "# Data Preprocessing:\r\n",
        "\r\n",
        "def data_preprocessing(movie_metadata, credits):\r\n",
        "\r\n",
        "  start = time.time()\r\n",
        "  print(\"Extracting Relevant Metadata...\")\r\n",
        "  lim_movie_metadata = movie_metadata[[\"id\", \"original_title\", \"overview\", \"genres\"]]\r\n",
        "  print(\"Imputing Missing Values in Overview...\")\r\n",
        "  lim_movie_metadata[\"overview\"].fillna(\"\", inplace = True)\r\n",
        "  print(\"Extracting Genres...\")\r\n",
        "  lim_movie_metadata[\"list_of_genres\"] = lim_movie_metadata[\"genres\"].apply(extract_info2)\r\n",
        "  print(\"Changing dtype of 'id' from string to int...\")\r\n",
        "  lim_movie_metadata[\"id\"] = lim_movie_metadata[\"id\"].apply(change_type_id)\r\n",
        "\r\n",
        "  print(\"Extracting Actor and Character Names for All Movies...\")\r\n",
        "  credits[\"list_of_actors\"] = credits[\"cast\"].apply(extract_info1, col_name = \"name\")\r\n",
        "  credits[\"list_of_characters\"] = credits[\"cast\"].apply(extract_info1, col_name = \"character\")\r\n",
        "  print(\"Creating Dataframe of Extracted Credits Data...\")\r\n",
        "  lim_credits = credits[[\"id\", \"list_of_actors\", \"list_of_characters\"]]\r\n",
        "\r\n",
        "  print(\"Size of Credits: {}\\tSize of Metadata: {}\\n\".format(lim_credits.shape, lim_movie_metadata.shape))\r\n",
        "\r\n",
        "  print(\"Merging All Extracted Data...\")\r\n",
        "  extracted_movie_data = lim_credits.merge(lim_movie_metadata, on = \"id\", how = \"left\")\r\n",
        "  metadata = extracted_movie_data[[\"id\", \"original_title\", \"overview\", \"list_of_actors\", \"list_of_characters\", \"list_of_genres\"]]\r\n",
        "\r\n",
        "  print(\"Creating More Attributes (Combination of two or more columns)...\")\r\n",
        "  metadata['metadata'] = metadata[metadata.columns[1:]].apply(lambda x: ', '.join(x.dropna().astype(str)), axis = 1) # all combined\r\n",
        "  metadata['overview_genre'] = metadata[metadata.columns[[2,5]]].apply(lambda x: ', '.join(x.dropna().astype(str)), axis = 1) # overview + genre\r\n",
        "  metadata['overview_actors'] = metadata[metadata.columns[[2, 3]]].apply(lambda x: ', '.join(x.dropna().astype(str)), axis = 1) # overview + actors\r\n",
        "  print(\"Size of Merged Data: {}\".format(metadata.shape))\r\n",
        "  end = time.time()\r\n",
        "  hours, rem = divmod(end-start, 3600)\r\n",
        "  minutes, seconds = divmod(rem, 60)\r\n",
        "  print(\"\\nTime Taken for Pre-processing:{:0>2}:{:0>2}:{:05.2f}\".format(int(hours),int(minutes),seconds))\r\n",
        "\r\n",
        "  return metadata"
      ],
      "execution_count": null,
      "outputs": []
    },
    {
      "cell_type": "markdown",
      "metadata": {
        "id": "Ii9GtT1hR3Bd"
      },
      "source": [
        "### COMPUTING SIMILARITY MATRIX:"
      ]
    },
    {
      "cell_type": "code",
      "metadata": {
        "id": "pWGn2ygxmL2V"
      },
      "source": [
        "# Function to create Similarity Matrix using Cosine Similarity or Linear Kernel:\r\n",
        "\r\n",
        "def compute_similarity_matrix(metadata, col, formula):\r\n",
        "  start = time.time()\r\n",
        "  tfidf_mat = tfidf.fit_transform(metadata[col])\r\n",
        "  print(\"\\nShape of TFIDF Matrix: {}\".format(tfidf_mat.shape))\r\n",
        "  if formula == \"linear kernel\": \r\n",
        "    sim_mat = linear_kernel(tfidf_mat, tfidf_mat)\r\n",
        "  elif formula == \"cosine\":\r\n",
        "    sim_mat = cosine_similarity(tfidf_mat, tfidf_mat)\r\n",
        "  else:\r\n",
        "    print(\"Invalid Formula!\")\r\n",
        "\r\n",
        "  end = time.time()\r\n",
        "  hours, rem = divmod(end-start, 3600)\r\n",
        "  minutes, seconds = divmod(rem, 60)\r\n",
        "  print(\"\\nTime Taken to Compute Similarity Matrix:{:0>2}:{:0>2}:{:05.2f}\".format(int(hours),int(minutes),seconds))\r\n",
        "  return sim_mat\r\n"
      ],
      "execution_count": null,
      "outputs": []
    },
    {
      "cell_type": "markdown",
      "metadata": {
        "id": "S_5KkQ8wR8xC"
      },
      "source": [
        "### RECOMMENDING MOVIES:"
      ]
    },
    {
      "cell_type": "code",
      "metadata": {
        "id": "8Ya0blvnnq2J"
      },
      "source": [
        "# Function to compute Content - Based Recommendation System:\r\n",
        "def content_based_recommender(input_string, sim_mat, topk, metadata, movie_mapper):\r\n",
        "  movie_index = movie_mapper[input_string]\r\n",
        "  sim_score = list(enumerate(sim_mat[movie_index]))\r\n",
        "  sim_score = sorted(sim_score, key = lambda x: x[1], reverse = True)\r\n",
        "  sim_score = sim_score[1:topk]\r\n",
        "  movie_indices = [i[0] for i in sim_score]\r\n",
        "\r\n",
        "  return (metadata[\"original_title\"].iloc[movie_indices])"
      ],
      "execution_count": null,
      "outputs": []
    },
    {
      "cell_type": "code",
      "metadata": {
        "id": "6ujEw3z0oH7F"
      },
      "source": [
        "def create_movie_mapper(metadata, col_name):\r\n",
        "  movie_mapper = pd.Series(metadata.index, index = metadata[col_name])\r\n",
        "  return movie_mapper"
      ],
      "execution_count": null,
      "outputs": []
    },
    {
      "cell_type": "code",
      "metadata": {
        "colab": {
          "base_uri": "https://localhost:8080/"
        },
        "id": "TnCrKEPRkQHp",
        "outputId": "bdff0a7a-e640-4dbd-d654-51ddbf563b46"
      },
      "source": [
        "if __name__ == \"__main__\":\r\n",
        "  # Getting Pre-processed Data:\r\n",
        "  data = data_preprocessing(movie_metadata, credits)\r\n",
        "  # Computing Similarity Matrix:\r\n",
        "  on_col = \"overview\"\r\n",
        "  sim_mat = compute_similarity_matrix(data, on_col, \"cosine\")\r\n",
        "  # Creating Movie Names Mapper:\r\n",
        "  movie_mapper = create_movie_mapper(data, \"original_title\")\r\n",
        "  # Getting Recommendations:\r\n",
        "  topk = 15\r\n",
        "  for mname in [\"Star Wars\", \"Toy Story\", \"Jumanji\"]:\r\n",
        "    print(\"\\nTop {} Recommendations for {} based on {}:\\n\".format(topk, mname, on_col.replace(\"_\", \" and \").title().replace(\"And\", \"and\")))\r\n",
        "    recommendations = content_based_recommender(mname, sim_mat, topk, data, movie_mapper)\r\n",
        "    recs = pd.DataFrame(recommendations)\r\n",
        "    print(recs)"
      ],
      "execution_count": null,
      "outputs": [
        {
          "output_type": "stream",
          "text": [
            "Extracting Relevant Metadata...\n",
            "Imputing Missing Values in Overview...\n",
            "Extracting Genres...\n",
            "Changing dtype of 'id' from string to int...\n",
            "Extracting Actor and Character Names for All Movies...\n",
            "Creating Dataframe of Extracted Credits Data...\n",
            "Size of Credits: (45476, 3)\tSize of Metadata: (45466, 5)\n",
            "\n",
            "Merging All Extracted Data...\n",
            "Creating More Attributes (Combination of two or more columns)...\n",
            "Size of Merged Data: (45538, 9)\n",
            "\n",
            "Time Taken for Pre-processing:00:00:52.93\n",
            "\n",
            "Shape of TFIDF Matrix: (45538, 75827)\n",
            "\n",
            "Time Taken to Compute Similarity Matrix:00:00:27.53\n",
            "\n",
            "Top 15 Recommendations for Star Wars based on Overview:\n",
            "\n",
            "                                          original_title\n",
            "1157                             The Empire Strikes Back\n",
            "30498                      The Star Wars Holiday Special\n",
            "26616                       Star Wars: The Force Awakens\n",
            "1170                                  Return of the Jedi\n",
            "34220                   Maciste alla corte del Gran Khan\n",
            "1270                                        Mad Dog Time\n",
            "5195                                 The Triumph of Love\n",
            "37901                                        Dao bing fu\n",
            "25151  1½ Ritter - Auf der Suche nach der hinreißende...\n",
            "24434                                    Sleeping Beauty\n",
            "309                                    The Swan Princess\n",
            "44787                                Le royaume des fées\n",
            "36980                                           Princess\n",
            "461                                 Hot Shots! Part Deux\n",
            "\n",
            "Top 15 Recommendations for Toy Story based on Overview:\n",
            "\n",
            "                                     original_title\n",
            "15378                                   Toy Story 3\n",
            "3002                                    Toy Story 2\n",
            "10317                        The 40 Year Old Virgin\n",
            "24569                                     Small Fry\n",
            "23888                   Andy Hardy's Blonde Trouble\n",
            "29265                                    Hot Splash\n",
            "43496              Andy Kaufman Plays Carnegie Hall\n",
            "38543  Superstar: The Life and Times of Andy Warhol\n",
            "42791  Andy Peters: Exclamation Mark Question Point\n",
            "8340                                      The Champ\n",
            "27268                    Life Begins for Andy Hardy\n",
            "1074                          Rebel Without a Cause\n",
            "36161                          Welcome to Happiness\n",
            "40330                                 Wabash Avenue\n",
            "\n",
            "Top 15 Recommendations for Jumanji based on Overview:\n",
            "\n",
            "                    original_title\n",
            "21674                 Table No. 21\n",
            "45324                         Quiz\n",
            "41643                 Snowed Under\n",
            "35576                     The Mend\n",
            "44445                 ライアーゲーム -再生-\n",
            "17258               The Dark Angel\n",
            "8814                       Quintet\n",
            "6177                     Brainscan\n",
            "31045                 Turkey Shoot\n",
            "9518                     Word Wars\n",
            "40006                    Beta Test\n",
            "13626  The Mindscape of Alan Moore\n",
            "13737                   Rhinoceros\n",
            "16878                       DeVour\n"
          ],
          "name": "stdout"
        }
      ]
    }
  ]
}